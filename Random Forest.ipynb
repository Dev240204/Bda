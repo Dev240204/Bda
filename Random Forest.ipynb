{
 "cells": [
  {
   "cell_type": "code",
   "execution_count": 0,
   "metadata": {
    "application/vnd.databricks.v1+cell": {
     "cellMetadata": {
      "byteLimit": 2048000,
      "rowLimit": 10000
     },
     "inputWidgets": {},
     "nuid": "edce29d2-36c5-48f5-bf40-cc5f6ca7f3fe",
     "showTitle": false,
     "title": ""
    }
   },
   "outputs": [],
   "source": [
    "#import SparkSession\n",
    "from pyspark.sql import SparkSession\n",
    "spark=SparkSession.builder.appName('random_forest').getOrCreate()"
   ]
  },
  {
   "cell_type": "code",
   "execution_count": 0,
   "metadata": {
    "application/vnd.databricks.v1+cell": {
     "cellMetadata": {
      "byteLimit": 2048000,
      "rowLimit": 10000
     },
     "inputWidgets": {},
     "nuid": "e297eae1-928b-4c13-9811-5ea4b3d6ec39",
     "showTitle": false,
     "title": ""
    }
   },
   "outputs": [],
   "source": [
    "#read the dataset\n",
    "df=spark.read.csv('dbfs:/FileStore/tables/affairs.csv',inferSchema=True,header=True)"
   ]
  },
  {
   "cell_type": "code",
   "execution_count": 0,
   "metadata": {
    "application/vnd.databricks.v1+cell": {
     "cellMetadata": {
      "byteLimit": 2048000,
      "rowLimit": 10000
     },
     "inputWidgets": {},
     "nuid": "7ac7076b-790c-4af4-b7e5-7841240e100b",
     "showTitle": false,
     "title": ""
    }
   },
   "outputs": [
    {
     "output_type": "stream",
     "name": "stdout",
     "output_type": "stream",
     "text": [
      "(6366, 6)\n"
     ]
    }
   ],
   "source": [
    "#check the shape of the data \n",
    "print((df.count(),len(df.columns)))"
   ]
  },
  {
   "cell_type": "code",
   "execution_count": 0,
   "metadata": {
    "application/vnd.databricks.v1+cell": {
     "cellMetadata": {
      "byteLimit": 2048000,
      "rowLimit": 10000
     },
     "inputWidgets": {},
     "nuid": "81e1756a-98ca-426b-b029-a4317b958f7a",
     "showTitle": false,
     "title": ""
    }
   },
   "outputs": [
    {
     "output_type": "stream",
     "name": "stdout",
     "output_type": "stream",
     "text": [
      "root\n |-- rate_marriage: integer (nullable = true)\n |-- age: double (nullable = true)\n |-- yrs_married: double (nullable = true)\n |-- children: double (nullable = true)\n |-- religious: integer (nullable = true)\n |-- affairs: integer (nullable = true)\n\n"
     ]
    }
   ],
   "source": [
    "#printSchema\n",
    "df.printSchema()"
   ]
  },
  {
   "cell_type": "code",
   "execution_count": 0,
   "metadata": {
    "application/vnd.databricks.v1+cell": {
     "cellMetadata": {
      "byteLimit": 2048000,
      "rowLimit": 10000
     },
     "inputWidgets": {},
     "nuid": "2c8bd2fd-c8e3-4dad-babb-b8ef470b907c",
     "showTitle": false,
     "title": ""
    }
   },
   "outputs": [
    {
     "output_type": "stream",
     "name": "stdout",
     "output_type": "stream",
     "text": [
      "+-------------+----+-----------+--------+---------+-------+\n|rate_marriage| age|yrs_married|children|religious|affairs|\n+-------------+----+-----------+--------+---------+-------+\n|            5|32.0|        6.0|     1.0|        3|      0|\n|            4|22.0|        2.5|     0.0|        2|      0|\n|            3|32.0|        9.0|     3.0|        3|      1|\n|            3|27.0|       13.0|     3.0|        1|      1|\n|            4|22.0|        2.5|     0.0|        1|      1|\n+-------------+----+-----------+--------+---------+-------+\nonly showing top 5 rows\n\n"
     ]
    }
   ],
   "source": [
    "#view the dataset\n",
    "df.show(5)"
   ]
  },
  {
   "cell_type": "code",
   "execution_count": 0,
   "metadata": {
    "application/vnd.databricks.v1+cell": {
     "cellMetadata": {
      "byteLimit": 2048000,
      "rowLimit": 10000
     },
     "inputWidgets": {},
     "nuid": "5a49c11b-d01e-4fc2-bed4-c07793590bf6",
     "showTitle": false,
     "title": ""
    },
    "scrolled": true
   },
   "outputs": [
    {
     "output_type": "stream",
     "name": "stdout",
     "output_type": "stream",
     "text": [
      "+-------+------------------+------------------+-----------------+------------------+------------------+\n|summary|     rate_marriage|               age|      yrs_married|          children|         religious|\n+-------+------------------+------------------+-----------------+------------------+------------------+\n|  count|              6366|              6366|             6366|              6366|              6366|\n|   mean| 4.109644989004084|29.082862079798932| 9.00942507068803|1.3968740182218033|2.4261702796104303|\n| stddev|0.9614295945655025| 6.847881883668817|7.280119972766412| 1.433470828560344|0.8783688402641785|\n|    min|                 1|              17.5|              0.5|               0.0|                 1|\n|    max|                 5|              42.0|             23.0|               5.5|                 4|\n+-------+------------------+------------------+-----------------+------------------+------------------+\n\n"
     ]
    }
   ],
   "source": [
    "#Exploratory Data Analysis\n",
    "df.describe().select('summary','rate_marriage','age','yrs_married','children','religious').show()"
   ]
  },
  {
   "cell_type": "code",
   "execution_count": 0,
   "metadata": {
    "application/vnd.databricks.v1+cell": {
     "cellMetadata": {
      "byteLimit": 2048000,
      "rowLimit": 10000
     },
     "inputWidgets": {},
     "nuid": "f848bafc-bab4-4090-a495-2ef76f150d6e",
     "showTitle": false,
     "title": ""
    }
   },
   "outputs": [
    {
     "output_type": "stream",
     "name": "stdout",
     "output_type": "stream",
     "text": [
      "+-------+-----+\n|affairs|count|\n+-------+-----+\n|      1| 2053|\n|      0| 4313|\n+-------+-----+\n\n"
     ]
    }
   ],
   "source": [
    "df.groupBy('affairs').count().show()"
   ]
  },
  {
   "cell_type": "code",
   "execution_count": 0,
   "metadata": {
    "application/vnd.databricks.v1+cell": {
     "cellMetadata": {
      "byteLimit": 2048000,
      "rowLimit": 10000
     },
     "inputWidgets": {},
     "nuid": "dea59b76-e60b-4d12-a027-187d70ce5d54",
     "showTitle": false,
     "title": ""
    }
   },
   "outputs": [
    {
     "output_type": "stream",
     "name": "stdout",
     "output_type": "stream",
     "text": [
      "+-------------+-----+\n|rate_marriage|count|\n+-------------+-----+\n|            1|   99|\n|            3|  993|\n|            5| 2684|\n|            4| 2242|\n|            2|  348|\n+-------------+-----+\n\n"
     ]
    }
   ],
   "source": [
    "df.groupBy('rate_marriage').count().show()"
   ]
  },
  {
   "cell_type": "code",
   "execution_count": 0,
   "metadata": {
    "application/vnd.databricks.v1+cell": {
     "cellMetadata": {
      "byteLimit": 2048000,
      "rowLimit": 10000
     },
     "inputWidgets": {},
     "nuid": "1c2eccae-8efd-4202-81cc-060b5f422e60",
     "showTitle": false,
     "title": ""
    }
   },
   "outputs": [
    {
     "output_type": "stream",
     "name": "stdout",
     "output_type": "stream",
     "text": [
      "+-------------+-------+-----+\n|rate_marriage|affairs|count|\n+-------------+-------+-----+\n|            1|      0|   25|\n|            1|      1|   74|\n|            2|      0|  127|\n|            2|      1|  221|\n|            3|      0|  446|\n|            3|      1|  547|\n|            4|      0| 1518|\n|            4|      1|  724|\n|            5|      0| 2197|\n|            5|      1|  487|\n+-------------+-------+-----+\n\n"
     ]
    }
   ],
   "source": [
    "df.groupBy('rate_marriage','affairs').count().orderBy('rate_marriage','affairs','count',ascending=True).show()"
   ]
  },
  {
   "cell_type": "code",
   "execution_count": 0,
   "metadata": {
    "application/vnd.databricks.v1+cell": {
     "cellMetadata": {
      "byteLimit": 2048000,
      "rowLimit": 10000
     },
     "inputWidgets": {},
     "nuid": "969904d6-ae7c-4325-8d1b-58fe8168e797",
     "showTitle": false,
     "title": ""
    }
   },
   "outputs": [
    {
     "output_type": "stream",
     "name": "stdout",
     "output_type": "stream",
     "text": [
      "+---------+-------+-----+\n|religious|affairs|count|\n+---------+-------+-----+\n|        1|      0|  613|\n|        1|      1|  408|\n|        2|      0| 1448|\n|        2|      1|  819|\n|        3|      0| 1715|\n|        3|      1|  707|\n|        4|      0|  537|\n|        4|      1|  119|\n+---------+-------+-----+\n\n"
     ]
    }
   ],
   "source": [
    "df.groupBy('religious','affairs').count().orderBy('religious','affairs','count',ascending=True).show()"
   ]
  },
  {
   "cell_type": "code",
   "execution_count": 0,
   "metadata": {
    "application/vnd.databricks.v1+cell": {
     "cellMetadata": {
      "byteLimit": 2048000,
      "rowLimit": 10000
     },
     "inputWidgets": {},
     "nuid": "35cde358-519e-4b52-8573-61ddeeff70e1",
     "showTitle": false,
     "title": ""
    }
   },
   "outputs": [
    {
     "output_type": "stream",
     "name": "stdout",
     "output_type": "stream",
     "text": [
      "+--------+-------+-----+\n|children|affairs|count|\n+--------+-------+-----+\n|     0.0|      0| 1912|\n|     0.0|      1|  502|\n|     1.0|      0|  747|\n|     1.0|      1|  412|\n|     2.0|      0|  873|\n|     2.0|      1|  608|\n|     3.0|      0|  460|\n|     3.0|      1|  321|\n|     4.0|      0|  197|\n|     4.0|      1|  131|\n|     5.5|      0|  124|\n|     5.5|      1|   79|\n+--------+-------+-----+\n\n"
     ]
    }
   ],
   "source": [
    "df.groupBy('children','affairs').count().orderBy('children','affairs','count',ascending=True).show()"
   ]
  },
  {
   "cell_type": "code",
   "execution_count": 0,
   "metadata": {
    "application/vnd.databricks.v1+cell": {
     "cellMetadata": {
      "byteLimit": 2048000,
      "rowLimit": 10000
     },
     "inputWidgets": {},
     "nuid": "ee6b9c7a-9bc5-4a11-88a4-47cf58cf1a6c",
     "showTitle": false,
     "title": ""
    }
   },
   "outputs": [
    {
     "output_type": "stream",
     "name": "stdout",
     "output_type": "stream",
     "text": [
      "+-------+------------------+------------------+------------------+------------------+------------------+------------+\n|affairs|avg(rate_marriage)|          avg(age)|  avg(yrs_married)|     avg(children)|    avg(religious)|avg(affairs)|\n+-------+------------------+------------------+------------------+------------------+------------------+------------+\n|      1|3.6473453482708234|30.537018996590355|11.152459814905017|1.7289332683877252| 2.261568436434486|         1.0|\n|      0| 4.329700904242986| 28.39067934152562| 7.989334569904939|1.2388128912589844|2.5045212149316023|         0.0|\n+-------+------------------+------------------+------------------+------------------+------------------+------------+\n\n"
     ]
    }
   ],
   "source": [
    "df.groupBy('affairs').mean().show()"
   ]
  },
  {
   "cell_type": "code",
   "execution_count": 0,
   "metadata": {
    "application/vnd.databricks.v1+cell": {
     "cellMetadata": {
      "byteLimit": 2048000,
      "rowLimit": 10000
     },
     "inputWidgets": {},
     "nuid": "1175d814-c459-425b-80fc-fed24584993a",
     "showTitle": false,
     "title": ""
    }
   },
   "outputs": [],
   "source": [
    "from pyspark.ml.feature import VectorAssembler"
   ]
  },
  {
   "cell_type": "code",
   "execution_count": 0,
   "metadata": {
    "application/vnd.databricks.v1+cell": {
     "cellMetadata": {
      "byteLimit": 2048000,
      "rowLimit": 10000
     },
     "inputWidgets": {},
     "nuid": "2f3300bc-28b4-4293-a1a2-cbd7d698ef45",
     "showTitle": false,
     "title": ""
    }
   },
   "outputs": [],
   "source": [
    "df_assembler = VectorAssembler(inputCols=['rate_marriage', 'age', 'yrs_married', 'children', 'religious'], outputCol=\"features\")\n",
    "df = df_assembler.transform(df)"
   ]
  },
  {
   "cell_type": "code",
   "execution_count": 0,
   "metadata": {
    "application/vnd.databricks.v1+cell": {
     "cellMetadata": {
      "byteLimit": 2048000,
      "rowLimit": 10000
     },
     "inputWidgets": {},
     "nuid": "c5576979-6c92-4422-a263-e3217b0d5c38",
     "showTitle": false,
     "title": ""
    }
   },
   "outputs": [
    {
     "output_type": "stream",
     "name": "stdout",
     "output_type": "stream",
     "text": [
      "root\n |-- rate_marriage: integer (nullable = true)\n |-- age: double (nullable = true)\n |-- yrs_married: double (nullable = true)\n |-- children: double (nullable = true)\n |-- religious: integer (nullable = true)\n |-- affairs: integer (nullable = true)\n |-- features: vector (nullable = true)\n\n"
     ]
    }
   ],
   "source": [
    "df.printSchema()"
   ]
  },
  {
   "cell_type": "code",
   "execution_count": 0,
   "metadata": {
    "application/vnd.databricks.v1+cell": {
     "cellMetadata": {
      "byteLimit": 2048000,
      "rowLimit": 10000
     },
     "inputWidgets": {},
     "nuid": "2ec349c4-1974-4271-a798-6be69d596b13",
     "showTitle": false,
     "title": ""
    }
   },
   "outputs": [
    {
     "output_type": "stream",
     "name": "stdout",
     "output_type": "stream",
     "text": [
      "+-----------------------+-------+\n|features               |affairs|\n+-----------------------+-------+\n|[5.0,32.0,6.0,1.0,3.0] |0      |\n|[4.0,22.0,2.5,0.0,2.0] |0      |\n|[3.0,32.0,9.0,3.0,3.0] |1      |\n|[3.0,27.0,13.0,3.0,1.0]|1      |\n|[4.0,22.0,2.5,0.0,1.0] |1      |\n|[4.0,37.0,16.5,4.0,3.0]|1      |\n|[5.0,27.0,9.0,1.0,1.0] |1      |\n|[4.0,27.0,9.0,0.0,2.0] |1      |\n|[5.0,37.0,23.0,5.5,2.0]|1      |\n|[5.0,37.0,23.0,5.5,2.0]|1      |\n+-----------------------+-------+\nonly showing top 10 rows\n\n"
     ]
    }
   ],
   "source": [
    "df.select(['features','affairs']).show(10,False)"
   ]
  },
  {
   "cell_type": "code",
   "execution_count": 0,
   "metadata": {
    "application/vnd.databricks.v1+cell": {
     "cellMetadata": {
      "byteLimit": 2048000,
      "rowLimit": 10000
     },
     "inputWidgets": {},
     "nuid": "d9ef2754-eab4-41ba-a3f8-cd2c2227d601",
     "showTitle": false,
     "title": ""
    }
   },
   "outputs": [],
   "source": [
    "#select data for building model\n",
    "model_df=df.select(['features','affairs'])"
   ]
  },
  {
   "cell_type": "code",
   "execution_count": 0,
   "metadata": {
    "application/vnd.databricks.v1+cell": {
     "cellMetadata": {
      "byteLimit": 2048000,
      "rowLimit": 10000
     },
     "inputWidgets": {},
     "nuid": "7252533a-f938-43ee-a8f9-7eecd06a3494",
     "showTitle": false,
     "title": ""
    }
   },
   "outputs": [],
   "source": [
    "train_df,test_df=model_df.randomSplit([0.75,0.25])"
   ]
  },
  {
   "cell_type": "code",
   "execution_count": 0,
   "metadata": {
    "application/vnd.databricks.v1+cell": {
     "cellMetadata": {
      "byteLimit": 2048000,
      "rowLimit": 10000
     },
     "inputWidgets": {},
     "nuid": "da8c1af9-14a8-49a3-809f-40f97fb3cb84",
     "showTitle": false,
     "title": ""
    }
   },
   "outputs": [
    {
     "output_type": "stream",
     "name": "stdout",
     "output_type": "stream",
     "text": [
      "Out[19]: 4750"
     ]
    }
   ],
   "source": [
    "train_df.count()"
   ]
  },
  {
   "cell_type": "code",
   "execution_count": 0,
   "metadata": {
    "application/vnd.databricks.v1+cell": {
     "cellMetadata": {
      "byteLimit": 2048000,
      "rowLimit": 10000
     },
     "inputWidgets": {},
     "nuid": "73550cc5-ee3c-4129-9510-eb0dbfd0db2b",
     "showTitle": false,
     "title": ""
    }
   },
   "outputs": [
    {
     "output_type": "stream",
     "name": "stdout",
     "output_type": "stream",
     "text": [
      "+-------+-----+\n|affairs|count|\n+-------+-----+\n|      1| 1516|\n|      0| 3234|\n+-------+-----+\n\n"
     ]
    }
   ],
   "source": [
    "train_df.groupBy('affairs').count().show()"
   ]
  },
  {
   "cell_type": "code",
   "execution_count": 0,
   "metadata": {
    "application/vnd.databricks.v1+cell": {
     "cellMetadata": {
      "byteLimit": 2048000,
      "rowLimit": 10000
     },
     "inputWidgets": {},
     "nuid": "a6ba49b5-1320-4ab6-b2d3-a43cf5450b68",
     "showTitle": false,
     "title": ""
    }
   },
   "outputs": [
    {
     "output_type": "stream",
     "name": "stdout",
     "output_type": "stream",
     "text": [
      "+-------+-----+\n|affairs|count|\n+-------+-----+\n|      1|  537|\n|      0| 1079|\n+-------+-----+\n\n"
     ]
    }
   ],
   "source": [
    "test_df.groupBy('affairs').count().show()"
   ]
  },
  {
   "cell_type": "code",
   "execution_count": 0,
   "metadata": {
    "application/vnd.databricks.v1+cell": {
     "cellMetadata": {
      "byteLimit": 2048000,
      "rowLimit": 10000
     },
     "inputWidgets": {},
     "nuid": "77524271-2e86-4c6d-bdfa-b17302f715fb",
     "showTitle": false,
     "title": ""
    }
   },
   "outputs": [],
   "source": [
    "from pyspark.ml.classification import RandomForestClassifier"
   ]
  },
  {
   "cell_type": "code",
   "execution_count": 0,
   "metadata": {
    "application/vnd.databricks.v1+cell": {
     "cellMetadata": {
      "byteLimit": 2048000,
      "rowLimit": 10000
     },
     "inputWidgets": {},
     "nuid": "65583909-8446-402a-9f41-93bb62e2196d",
     "showTitle": false,
     "title": ""
    }
   },
   "outputs": [],
   "source": [
    "rf_classifier=RandomForestClassifier(labelCol='affairs',numTrees=50).fit(train_df)"
   ]
  },
  {
   "cell_type": "code",
   "execution_count": 0,
   "metadata": {
    "application/vnd.databricks.v1+cell": {
     "cellMetadata": {
      "byteLimit": 2048000,
      "rowLimit": 10000
     },
     "inputWidgets": {},
     "nuid": "c06c8e45-e277-48d1-a237-057208c728ac",
     "showTitle": false,
     "title": ""
    }
   },
   "outputs": [],
   "source": [
    "rf_predictions=rf_classifier.transform(test_df)"
   ]
  },
  {
   "cell_type": "code",
   "execution_count": 0,
   "metadata": {
    "application/vnd.databricks.v1+cell": {
     "cellMetadata": {
      "byteLimit": 2048000,
      "rowLimit": 10000
     },
     "inputWidgets": {},
     "nuid": "95736501-18f0-491c-b9ae-6d7907ee5f3e",
     "showTitle": false,
     "title": ""
    }
   },
   "outputs": [
    {
     "output_type": "stream",
     "name": "stdout",
     "output_type": "stream",
     "text": [
      "+--------------------+-------+--------------------+--------------------+----------+\n|            features|affairs|       rawPrediction|         probability|prediction|\n+--------------------+-------+--------------------+--------------------+----------+\n|[1.0,22.0,2.5,0.0...|      1|[22.1570633833066...|[0.44314126766613...|       1.0|\n|[1.0,27.0,2.5,0.0...|      0|[17.9558486444922...|[0.35911697288984...|       1.0|\n|[1.0,27.0,2.5,0.0...|      1|[21.8730744056017...|[0.43746148811203...|       1.0|\n|[1.0,27.0,6.0,1.0...|      0|[18.6671064292999...|[0.37334212858599...|       1.0|\n|[1.0,27.0,6.0,2.0...|      1|[18.6604246421417...|[0.37320849284283...|       1.0|\n|[1.0,27.0,9.0,1.0...|      1|[18.3610605852142...|[0.36722121170428...|       1.0|\n|[1.0,32.0,2.5,1.0...|      0|[22.6733214919040...|[0.45346642983808...|       1.0|\n|[1.0,32.0,13.0,0....|      1|[18.9976720750195...|[0.37995344150039...|       1.0|\n|[1.0,32.0,13.0,1....|      1|[18.0822924429207...|[0.36164584885841...|       1.0|\n|[1.0,32.0,13.0,3....|      1|[18.1188267279960...|[0.36237653455992...|       1.0|\n|[1.0,32.0,16.5,2....|      1|[14.6037998348716...|[0.29207599669743...|       1.0|\n|[1.0,37.0,13.0,1....|      1|[23.2341619707668...|[0.46468323941533...|       1.0|\n|[1.0,37.0,16.5,3....|      1|[12.6359611223609...|[0.25271922244721...|       1.0|\n|[1.0,37.0,23.0,4....|      1|[13.6167372898589...|[0.27233474579717...|       1.0|\n|[1.0,42.0,16.5,1....|      1|[14.6975392937382...|[0.29395078587476...|       1.0|\n|[1.0,42.0,23.0,2....|      1|[14.2156462125706...|[0.28431292425141...|       1.0|\n|[1.0,42.0,23.0,3....|      1|[13.5068032652921...|[0.27013606530584...|       1.0|\n|[1.0,42.0,23.0,4....|      0|[15.3639039688838...|[0.30727807937767...|       1.0|\n|[1.0,42.0,23.0,5....|      0|[16.3315177259854...|[0.32663035451970...|       1.0|\n|[2.0,17.5,2.5,2.0...|      0|[26.7868787750823...|[0.53573757550164...|       0.0|\n+--------------------+-------+--------------------+--------------------+----------+\nonly showing top 20 rows\n\n"
     ]
    }
   ],
   "source": [
    "rf_predictions.show()"
   ]
  },
  {
   "cell_type": "code",
   "execution_count": 0,
   "metadata": {
    "application/vnd.databricks.v1+cell": {
     "cellMetadata": {
      "byteLimit": 2048000,
      "rowLimit": 10000
     },
     "inputWidgets": {},
     "nuid": "5d9d00ce-0602-4860-889e-218b4776739c",
     "showTitle": false,
     "title": ""
    }
   },
   "outputs": [
    {
     "output_type": "stream",
     "name": "stdout",
     "output_type": "stream",
     "text": [
      "+----------+-----+\n|prediction|count|\n+----------+-----+\n|       0.0| 1318|\n|       1.0|  298|\n+----------+-----+\n\n"
     ]
    }
   ],
   "source": [
    "rf_predictions.groupBy('prediction').count().show()"
   ]
  },
  {
   "cell_type": "code",
   "execution_count": 0,
   "metadata": {
    "application/vnd.databricks.v1+cell": {
     "cellMetadata": {
      "byteLimit": 2048000,
      "rowLimit": 10000
     },
     "inputWidgets": {},
     "nuid": "89d59397-b6d5-493f-b7bb-f3baf2a69d00",
     "showTitle": false,
     "title": ""
    }
   },
   "outputs": [
    {
     "output_type": "stream",
     "name": "stdout",
     "output_type": "stream",
     "text": [
      "+----------------------------------------+-------+----------+\n|probability                             |affairs|prediction|\n+----------------------------------------+-------+----------+\n|[0.4431412676661325,0.5568587323338676] |1      |1.0       |\n|[0.35911697288984423,0.6408830271101558]|0      |1.0       |\n|[0.4374614881120344,0.5625385118879656] |1      |1.0       |\n|[0.37334212858599836,0.6266578714140018]|0      |1.0       |\n|[0.37320849284283564,0.6267915071571645]|1      |1.0       |\n|[0.36722121170428573,0.6327787882957143]|1      |1.0       |\n|[0.4534664298380801,0.54653357016192]   |0      |1.0       |\n|[0.3799534415003918,0.6200465584996081] |1      |1.0       |\n|[0.3616458488584147,0.6383541511415853] |1      |1.0       |\n|[0.36237653455992086,0.6376234654400791]|1      |1.0       |\n+----------------------------------------+-------+----------+\nonly showing top 10 rows\n\n"
     ]
    }
   ],
   "source": [
    "rf_predictions.select(['probability','affairs','prediction']).show(10,False)"
   ]
  },
  {
   "cell_type": "code",
   "execution_count": 0,
   "metadata": {
    "application/vnd.databricks.v1+cell": {
     "cellMetadata": {
      "byteLimit": 2048000,
      "rowLimit": 10000
     },
     "inputWidgets": {},
     "nuid": "8625ab47-ba79-47d9-ac6b-b8ef4a6e6c3b",
     "showTitle": false,
     "title": ""
    }
   },
   "outputs": [],
   "source": [
    "from pyspark.ml.evaluation import BinaryClassificationEvaluator"
   ]
  },
  {
   "cell_type": "code",
   "execution_count": 0,
   "metadata": {
    "application/vnd.databricks.v1+cell": {
     "cellMetadata": {
      "byteLimit": 2048000,
      "rowLimit": 10000
     },
     "inputWidgets": {},
     "nuid": "72132c39-c118-40f3-a43e-f96d747af2d7",
     "showTitle": false,
     "title": ""
    }
   },
   "outputs": [],
   "source": [
    "from pyspark.ml.evaluation import MulticlassClassificationEvaluator"
   ]
  },
  {
   "cell_type": "code",
   "execution_count": 0,
   "metadata": {
    "application/vnd.databricks.v1+cell": {
     "cellMetadata": {
      "byteLimit": 2048000,
      "rowLimit": 10000
     },
     "inputWidgets": {},
     "nuid": "3fafaa9b-937f-4b93-9325-0bdd08c62555",
     "showTitle": false,
     "title": ""
    }
   },
   "outputs": [],
   "source": [
    "rf_accuracy=MulticlassClassificationEvaluator(labelCol='affairs',metricName='accuracy').evaluate(rf_predictions)"
   ]
  },
  {
   "cell_type": "code",
   "execution_count": 0,
   "metadata": {
    "application/vnd.databricks.v1+cell": {
     "cellMetadata": {
      "byteLimit": 2048000,
      "rowLimit": 10000
     },
     "inputWidgets": {},
     "nuid": "2fe6c1f9-886c-4b62-a87d-2fcc85051b03",
     "showTitle": false,
     "title": ""
    }
   },
   "outputs": [
    {
     "output_type": "stream",
     "name": "stdout",
     "output_type": "stream",
     "text": [
      "The accuracy of RF on test data is 71%\n"
     ]
    }
   ],
   "source": [
    "print('The accuracy of RF on test data is {0:.0%}'.format(rf_accuracy))"
   ]
  },
  {
   "cell_type": "code",
   "execution_count": 0,
   "metadata": {
    "application/vnd.databricks.v1+cell": {
     "cellMetadata": {
      "byteLimit": 2048000,
      "rowLimit": 10000
     },
     "inputWidgets": {},
     "nuid": "0700b649-9fee-4941-93e3-1a9deeb9b780",
     "showTitle": false,
     "title": ""
    }
   },
   "outputs": [
    {
     "output_type": "stream",
     "name": "stdout",
     "output_type": "stream",
     "text": [
      "0.7147277227722773\n"
     ]
    }
   ],
   "source": [
    "print(rf_accuracy)"
   ]
  },
  {
   "cell_type": "code",
   "execution_count": 0,
   "metadata": {
    "application/vnd.databricks.v1+cell": {
     "cellMetadata": {
      "byteLimit": 2048000,
      "rowLimit": 10000
     },
     "inputWidgets": {},
     "nuid": "640d564b-edbc-4e70-814f-afe9b0051ce2",
     "showTitle": false,
     "title": ""
    }
   },
   "outputs": [],
   "source": [
    "rf_precision=MulticlassClassificationEvaluator(labelCol='affairs',metricName='weightedPrecision').evaluate(rf_predictions)"
   ]
  },
  {
   "cell_type": "code",
   "execution_count": 0,
   "metadata": {
    "application/vnd.databricks.v1+cell": {
     "cellMetadata": {
      "byteLimit": 2048000,
      "rowLimit": 10000
     },
     "inputWidgets": {},
     "nuid": "4c8b5ca3-7224-4b5b-b515-44badc208308",
     "showTitle": false,
     "title": ""
    }
   },
   "outputs": [
    {
     "output_type": "stream",
     "name": "stdout",
     "output_type": "stream",
     "text": [
      "The precision rate on test data is 70%\n"
     ]
    }
   ],
   "source": [
    "print('The precision rate on test data is {0:.0%}'.format(rf_precision))"
   ]
  },
  {
   "cell_type": "code",
   "execution_count": 0,
   "metadata": {
    "application/vnd.databricks.v1+cell": {
     "cellMetadata": {
      "byteLimit": 2048000,
      "rowLimit": 10000
     },
     "inputWidgets": {},
     "nuid": "5d4c7c38-c749-4396-8b6c-d2ef158725d7",
     "showTitle": false,
     "title": ""
    }
   },
   "outputs": [
    {
     "output_type": "stream",
     "name": "stdout",
     "output_type": "stream",
     "text": [
      "Out[35]: 0.6989132950974213"
     ]
    }
   ],
   "source": [
    "rf_precision"
   ]
  },
  {
   "cell_type": "code",
   "execution_count": 0,
   "metadata": {
    "application/vnd.databricks.v1+cell": {
     "cellMetadata": {
      "byteLimit": 2048000,
      "rowLimit": 10000
     },
     "inputWidgets": {},
     "nuid": "84fa7316-46d6-4747-94e5-023a4bdff901",
     "showTitle": false,
     "title": ""
    }
   },
   "outputs": [],
   "source": [
    "rf_auc=BinaryClassificationEvaluator(labelCol='affairs').evaluate(rf_predictions)"
   ]
  },
  {
   "cell_type": "code",
   "execution_count": 0,
   "metadata": {
    "application/vnd.databricks.v1+cell": {
     "cellMetadata": {
      "byteLimit": 2048000,
      "rowLimit": 10000
     },
     "inputWidgets": {},
     "nuid": "7977ef39-7dad-43db-af5f-b5a899bcc3c7",
     "showTitle": false,
     "title": ""
    }
   },
   "outputs": [
    {
     "output_type": "stream",
     "name": "stdout",
     "output_type": "stream",
     "text": [
      "0.7406980737733919\n"
     ]
    }
   ],
   "source": [
    "print(rf_auc)"
   ]
  },
  {
   "cell_type": "code",
   "execution_count": 0,
   "metadata": {
    "application/vnd.databricks.v1+cell": {
     "cellMetadata": {
      "byteLimit": 2048000,
      "rowLimit": 10000
     },
     "inputWidgets": {},
     "nuid": "1381d7bb-0e75-4bb3-bd9b-a9d919412038",
     "showTitle": false,
     "title": ""
    }
   },
   "outputs": [],
   "source": [
    "# Feature importance"
   ]
  },
  {
   "cell_type": "code",
   "execution_count": 0,
   "metadata": {
    "application/vnd.databricks.v1+cell": {
     "cellMetadata": {
      "byteLimit": 2048000,
      "rowLimit": 10000
     },
     "inputWidgets": {},
     "nuid": "96a67117-68ed-475c-9267-6a9c3e5d1ad9",
     "showTitle": false,
     "title": ""
    }
   },
   "outputs": [
    {
     "output_type": "stream",
     "name": "stdout",
     "output_type": "stream",
     "text": [
      "Out[39]: SparseVector(5, {0: 0.6397, 1: 0.0234, 2: 0.2023, 3: 0.0661, 4: 0.0685})"
     ]
    }
   ],
   "source": [
    "rf_classifier.featureImportances"
   ]
  },
  {
   "cell_type": "code",
   "execution_count": 0,
   "metadata": {
    "application/vnd.databricks.v1+cell": {
     "cellMetadata": {
      "byteLimit": 2048000,
      "rowLimit": 10000
     },
     "inputWidgets": {},
     "nuid": "12f63023-d6d4-427f-bf6a-de509ddeea28",
     "showTitle": false,
     "title": ""
    }
   },
   "outputs": [
    {
     "output_type": "stream",
     "name": "stdout",
     "output_type": "stream",
     "text": [
      "Out[40]: {'numeric': [{'idx': 0, 'name': 'rate_marriage'},\n  {'idx': 1, 'name': 'age'},\n  {'idx': 2, 'name': 'yrs_married'},\n  {'idx': 3, 'name': 'children'},\n  {'idx': 4, 'name': 'religious'}]}"
     ]
    }
   ],
   "source": [
    "df.schema[\"features\"].metadata[\"ml_attr\"][\"attrs\"]"
   ]
  },
  {
   "cell_type": "code",
   "execution_count": 0,
   "metadata": {
    "application/vnd.databricks.v1+cell": {
     "cellMetadata": {
      "byteLimit": 2048000,
      "rowLimit": 10000
     },
     "inputWidgets": {},
     "nuid": "ca87dc9c-56db-4eb1-8e16-f22ea959d48e",
     "showTitle": false,
     "title": ""
    }
   },
   "outputs": [],
   "source": [
    "# Save the model "
   ]
  },
  {
   "cell_type": "code",
   "execution_count": 0,
   "metadata": {
    "application/vnd.databricks.v1+cell": {
     "cellMetadata": {
      "byteLimit": 2048000,
      "rowLimit": 10000
     },
     "inputWidgets": {},
     "nuid": "8c28353f-a52e-4a96-81e9-214ab64bf7ed",
     "showTitle": false,
     "title": ""
    }
   },
   "outputs": [
    {
     "output_type": "stream",
     "name": "stdout",
     "output_type": "stream",
     "text": [
      "Out[42]: '/databricks/driver'"
     ]
    }
   ],
   "source": [
    "pwd"
   ]
  },
  {
   "cell_type": "code",
   "execution_count": 0,
   "metadata": {
    "application/vnd.databricks.v1+cell": {
     "cellMetadata": {
      "byteLimit": 2048000,
      "rowLimit": 10000
     },
     "inputWidgets": {},
     "nuid": "030f8339-39d1-46fe-a4b9-89623859ada1",
     "showTitle": false,
     "title": ""
    }
   },
   "outputs": [],
   "source": [
    "rf_classifier.save(\"/databricks/driver/RF_model\")"
   ]
  },
  {
   "cell_type": "code",
   "execution_count": 0,
   "metadata": {
    "application/vnd.databricks.v1+cell": {
     "cellMetadata": {
      "byteLimit": 2048000,
      "rowLimit": 10000
     },
     "inputWidgets": {},
     "nuid": "a5bae7ab-c9ba-40ef-8ff5-b058d0b21f9a",
     "showTitle": false,
     "title": ""
    }
   },
   "outputs": [],
   "source": [
    "from pyspark.ml.classification import RandomForestClassificationModel"
   ]
  },
  {
   "cell_type": "code",
   "execution_count": 0,
   "metadata": {
    "application/vnd.databricks.v1+cell": {
     "cellMetadata": {
      "byteLimit": 2048000,
      "rowLimit": 10000
     },
     "inputWidgets": {},
     "nuid": "ec2959c1-f240-44ec-b349-8a3ff0418ffc",
     "showTitle": false,
     "title": ""
    }
   },
   "outputs": [],
   "source": [
    "rf=RandomForestClassificationModel.load(\"/databricks/driver/RF_model\")"
   ]
  },
  {
   "cell_type": "code",
   "execution_count": 0,
   "metadata": {
    "application/vnd.databricks.v1+cell": {
     "cellMetadata": {
      "byteLimit": 2048000,
      "rowLimit": 10000
     },
     "inputWidgets": {},
     "nuid": "fca130ed-9f8f-4441-a2d3-32a38af1ac60",
     "showTitle": false,
     "title": ""
    }
   },
   "outputs": [],
   "source": [
    "model_preditions=rf.transform(test_df)"
   ]
  },
  {
   "cell_type": "code",
   "execution_count": 0,
   "metadata": {
    "application/vnd.databricks.v1+cell": {
     "cellMetadata": {
      "byteLimit": 2048000,
      "rowLimit": 10000
     },
     "inputWidgets": {},
     "nuid": "d7e2335a-9782-4d7e-b1a2-464cef33aa67",
     "showTitle": false,
     "title": ""
    }
   },
   "outputs": [
    {
     "output_type": "stream",
     "name": "stdout",
     "output_type": "stream",
     "text": [
      "+--------------------+-------+--------------------+--------------------+----------+\n|            features|affairs|       rawPrediction|         probability|prediction|\n+--------------------+-------+--------------------+--------------------+----------+\n|[1.0,22.0,2.5,0.0...|      1|[22.1570633833066...|[0.44314126766613...|       1.0|\n|[1.0,27.0,2.5,0.0...|      0|[17.9558486444922...|[0.35911697288984...|       1.0|\n|[1.0,27.0,2.5,0.0...|      1|[21.8730744056017...|[0.43746148811203...|       1.0|\n|[1.0,27.0,6.0,1.0...|      0|[18.6671064292999...|[0.37334212858599...|       1.0|\n|[1.0,27.0,6.0,2.0...|      1|[18.6604246421417...|[0.37320849284283...|       1.0|\n|[1.0,27.0,9.0,1.0...|      1|[18.3610605852142...|[0.36722121170428...|       1.0|\n|[1.0,32.0,2.5,1.0...|      0|[22.6733214919040...|[0.45346642983808...|       1.0|\n|[1.0,32.0,13.0,0....|      1|[18.9976720750195...|[0.37995344150039...|       1.0|\n|[1.0,32.0,13.0,1....|      1|[18.0822924429207...|[0.36164584885841...|       1.0|\n|[1.0,32.0,13.0,3....|      1|[18.1188267279960...|[0.36237653455992...|       1.0|\n|[1.0,32.0,16.5,2....|      1|[14.6037998348716...|[0.29207599669743...|       1.0|\n|[1.0,37.0,13.0,1....|      1|[23.2341619707668...|[0.46468323941533...|       1.0|\n|[1.0,37.0,16.5,3....|      1|[12.6359611223609...|[0.25271922244721...|       1.0|\n|[1.0,37.0,23.0,4....|      1|[13.6167372898589...|[0.27233474579717...|       1.0|\n|[1.0,42.0,16.5,1....|      1|[14.6975392937382...|[0.29395078587476...|       1.0|\n|[1.0,42.0,23.0,2....|      1|[14.2156462125706...|[0.28431292425141...|       1.0|\n|[1.0,42.0,23.0,3....|      1|[13.5068032652921...|[0.27013606530584...|       1.0|\n|[1.0,42.0,23.0,4....|      0|[15.3639039688838...|[0.30727807937767...|       1.0|\n|[1.0,42.0,23.0,5....|      0|[16.3315177259854...|[0.32663035451970...|       1.0|\n|[2.0,17.5,2.5,2.0...|      0|[26.7868787750823...|[0.53573757550164...|       0.0|\n+--------------------+-------+--------------------+--------------------+----------+\nonly showing top 20 rows\n\n"
     ]
    }
   ],
   "source": [
    "model_preditions.show()"
   ]
  },
  {
   "cell_type": "code",
   "execution_count": 0,
   "metadata": {
    "application/vnd.databricks.v1+cell": {
     "cellMetadata": {},
     "inputWidgets": {},
     "nuid": "c258c685-cdfa-4c54-b304-fb1fbb79539a",
     "showTitle": false,
     "title": ""
    }
   },
   "outputs": [],
   "source": []
  }
 ],
 "metadata": {
  "application/vnd.databricks.v1+notebook": {
   "dashboards": [],
   "language": "python",
   "notebookMetadata": {
    "pythonIndentUnit": 4
   },
   "notebookName": "Random Forest",
   "widgets": {}
  },
  "kernelspec": {
   "display_name": "Python 3",
   "language": "python",
   "name": "python3"
  },
  "language_info": {
   "codemirror_mode": {
    "name": "ipython",
    "version": 3
   },
   "file_extension": ".py",
   "mimetype": "text/x-python",
   "name": "python",
   "nbconvert_exporter": "python",
   "pygments_lexer": "ipython3",
   "version": "3.6.3"
  }
 },
 "nbformat": 4,
 "nbformat_minor": 0
}
