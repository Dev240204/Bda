{
 "cells": [
  {
   "cell_type": "code",
   "execution_count": 0,
   "metadata": {
    "application/vnd.databricks.v1+cell": {
     "cellMetadata": {
      "byteLimit": 2048000,
      "rowLimit": 10000
     },
     "inputWidgets": {},
     "nuid": "d7aa8640-707a-4598-8297-2b1be3c147a4",
     "showTitle": false,
     "title": ""
    }
   },
   "outputs": [],
   "source": [
    "file_location = \"/FileStore/tables/vertex-1.csv\"\n",
    "file_type = \"csv\""
   ]
  },
  {
   "cell_type": "code",
   "execution_count": 0,
   "metadata": {
    "application/vnd.databricks.v1+cell": {
     "cellMetadata": {
      "byteLimit": 2048000,
      "rowLimit": 10000
     },
     "inputWidgets": {},
     "nuid": "3a9d9752-f450-42e1-90f3-9a3593478fcc",
     "showTitle": false,
     "title": ""
    }
   },
   "outputs": [],
   "source": [
    "#CSV options\n",
    "infer_Schema =\"false\"\n",
    "first_row_is_header =\"false\"\n",
    "delimiter = \",\""
   ]
  },
  {
   "cell_type": "code",
   "execution_count": 0,
   "metadata": {
    "application/vnd.databricks.v1+cell": {
     "cellMetadata": {
      "byteLimit": 2048000,
      "rowLimit": 10000
     },
     "inputWidgets": {},
     "nuid": "c26dc210-af61-4b12-a356-e4fe5af75a78",
     "showTitle": false,
     "title": ""
    }
   },
   "outputs": [],
   "source": [
    "df = spark.read.format(file_type)\\\n",
    ".option(\"inferSchema\", infer_Schema)\\\n",
    ".option(\"header\", first_row_is_header)\\\n",
    ".option(\"sep\", delimiter)\\\n",
    ".load(file_location)"
   ]
  },
  {
   "cell_type": "code",
   "execution_count": 0,
   "metadata": {
    "application/vnd.databricks.v1+cell": {
     "cellMetadata": {
      "byteLimit": 2048000,
      "rowLimit": 10000
     },
     "inputWidgets": {},
     "nuid": "4476c62a-e9d1-4fff-8658-7e943511948a",
     "showTitle": false,
     "title": ""
    }
   },
   "outputs": [
    {
     "output_type": "display_data",
     "data": {
      "text/html": [
       "<style scoped>\n",
       "  .table-result-container {\n",
       "    max-height: 300px;\n",
       "    overflow: auto;\n",
       "  }\n",
       "  table, th, td {\n",
       "    border: 1px solid black;\n",
       "    border-collapse: collapse;\n",
       "  }\n",
       "  th, td {\n",
       "    padding: 5px;\n",
       "  }\n",
       "  th {\n",
       "    text-align: left;\n",
       "  }\n",
       "</style><div class='table-result-container'><table class='table-result'><thead style='background-color: white'><tr><th>_c0</th><th>_c1</th><th>_c2</th></tr></thead><tbody><tr><td>1</td><td>Jacob</td><td>48</td></tr><tr><td>2</td><td>Jessica</td><td>45</td></tr><tr><td>3</td><td>Andrew</td><td>25</td></tr><tr><td>4</td><td>Ryan</td><td>53</td></tr><tr><td>5</td><td>Emily</td><td>22</td></tr><tr><td>6</td><td>Lily</td><td>52</td></tr></tbody></table></div>"
      ]
     },
     "metadata": {
      "application/vnd.databricks.v1+output": {
       "addedWidgets": {},
       "aggData": [],
       "aggError": "",
       "aggOverflow": false,
       "aggSchema": [],
       "aggSeriesLimitReached": false,
       "aggType": "",
       "arguments": {},
       "columnCustomDisplayInfos": {},
       "data": [
        [
         "1",
         "Jacob",
         "48"
        ],
        [
         "2",
         "Jessica",
         "45"
        ],
        [
         "3",
         "Andrew",
         "25"
        ],
        [
         "4",
         "Ryan",
         "53"
        ],
        [
         "5",
         "Emily",
         "22"
        ],
        [
         "6",
         "Lily",
         "52"
        ]
       ],
       "datasetInfos": [],
       "dbfsResultPath": null,
       "isJsonSchema": true,
       "metadata": {},
       "overflow": false,
       "plotOptions": {
        "customPlotOptions": {},
        "displayType": "table",
        "pivotAggregation": null,
        "pivotColumns": null,
        "xColumns": null,
        "yColumns": null
       },
       "removedWidgets": [],
       "schema": [
        {
         "metadata": "{}",
         "name": "_c0",
         "type": "\"string\""
        },
        {
         "metadata": "{}",
         "name": "_c1",
         "type": "\"string\""
        },
        {
         "metadata": "{}",
         "name": "_c2",
         "type": "\"string\""
        }
       ],
       "type": "table"
      }
     },
     "output_type": "display_data"
    }
   ],
   "source": [
    "\n",
    "display(df)"
   ]
  },
  {
   "cell_type": "code",
   "execution_count": 0,
   "metadata": {
    "application/vnd.databricks.v1+cell": {
     "cellMetadata": {
      "byteLimit": 2048000,
      "rowLimit": 10000
     },
     "inputWidgets": {},
     "nuid": "430270fe-9cdd-4994-b18e-45dee0270db2",
     "showTitle": false,
     "title": ""
    }
   },
   "outputs": [],
   "source": [
    "file_location =\"/FileStore/tables/edges.csv\"\n",
    "df1 = spark.read.format(file_type)\\\n",
    ".option(\"inferSchema\", infer_Schema)\\\n",
    ".option(\"header\", first_row_is_header)\\\n",
    ".option(\"sep\",delimiter)\\\n",
    ".load(file_location)"
   ]
  },
  {
   "cell_type": "code",
   "execution_count": 0,
   "metadata": {
    "application/vnd.databricks.v1+cell": {
     "cellMetadata": {
      "byteLimit": 2048000,
      "rowLimit": 10000
     },
     "inputWidgets": {},
     "nuid": "74070a8d-8695-40c7-b57d-bd2b1ee97336",
     "showTitle": false,
     "title": ""
    }
   },
   "outputs": [
    {
     "output_type": "display_data",
     "data": {
      "text/html": [
       "<style scoped>\n",
       "  .table-result-container {\n",
       "    max-height: 300px;\n",
       "    overflow: auto;\n",
       "  }\n",
       "  table, th, td {\n",
       "    border: 1px solid black;\n",
       "    border-collapse: collapse;\n",
       "  }\n",
       "  th, td {\n",
       "    padding: 5px;\n",
       "  }\n",
       "  th {\n",
       "    text-align: left;\n",
       "  }\n",
       "</style><div class='table-result-container'><table class='table-result'><thead style='background-color: white'><tr><th>_c0</th><th>_c1</th><th>_c2</th></tr></thead><tbody><tr><td>6</td><td>1</td><td>Sister</td></tr><tr><td>1</td><td>2</td><td>Husband</td></tr><tr><td>2</td><td>1</td><td>Wife</td></tr><tr><td>5</td><td>1</td><td>Daughter</td></tr><tr><td>5</td><td>2</td><td>Daughter</td></tr><tr><td>3</td><td>1</td><td>Son</td></tr><tr><td>3</td><td>2</td><td>Son</td></tr><tr><td>4</td><td>1</td><td>Friend</td></tr><tr><td>1</td><td>5</td><td>Father</td></tr><tr><td>1</td><td>3</td><td>Father</td></tr><tr><td>2</td><td>5</td><td>Mother</td></tr><tr><td>2</td><td>3</td><td>Mother</td></tr></tbody></table></div>"
      ]
     },
     "metadata": {
      "application/vnd.databricks.v1+output": {
       "addedWidgets": {},
       "aggData": [],
       "aggError": "",
       "aggOverflow": false,
       "aggSchema": [],
       "aggSeriesLimitReached": false,
       "aggType": "",
       "arguments": {},
       "columnCustomDisplayInfos": {},
       "data": [
        [
         "6",
         "1",
         "Sister"
        ],
        [
         "1",
         "2",
         "Husband"
        ],
        [
         "2",
         "1",
         "Wife"
        ],
        [
         "5",
         "1",
         "Daughter"
        ],
        [
         "5",
         "2",
         "Daughter"
        ],
        [
         "3",
         "1",
         "Son"
        ],
        [
         "3",
         "2",
         "Son"
        ],
        [
         "4",
         "1",
         "Friend"
        ],
        [
         "1",
         "5",
         "Father"
        ],
        [
         "1",
         "3",
         "Father"
        ],
        [
         "2",
         "5",
         "Mother"
        ],
        [
         "2",
         "3",
         "Mother"
        ]
       ],
       "datasetInfos": [],
       "dbfsResultPath": null,
       "isJsonSchema": true,
       "metadata": {},
       "overflow": false,
       "plotOptions": {
        "customPlotOptions": {},
        "displayType": "table",
        "pivotAggregation": null,
        "pivotColumns": null,
        "xColumns": null,
        "yColumns": null
       },
       "removedWidgets": [],
       "schema": [
        {
         "metadata": "{}",
         "name": "_c0",
         "type": "\"string\""
        },
        {
         "metadata": "{}",
         "name": "_c1",
         "type": "\"string\""
        },
        {
         "metadata": "{}",
         "name": "_c2",
         "type": "\"string\""
        }
       ],
       "type": "table"
      }
     },
     "output_type": "display_data"
    }
   ],
   "source": [
    "display(df1)\n"
   ]
  },
  {
   "cell_type": "code",
   "execution_count": 0,
   "metadata": {
    "application/vnd.databricks.v1+cell": {
     "cellMetadata": {
      "byteLimit": 2048000,
      "rowLimit": 10000
     },
     "inputWidgets": {},
     "nuid": "ef11b91c-6a84-438d-9039-92c11391b4e2",
     "showTitle": false,
     "title": ""
    }
   },
   "outputs": [
    {
     "output_type": "display_data",
     "data": {
      "text/html": [
       "<style scoped>\n",
       "  .ansiout {\n",
       "    display: block;\n",
       "    unicode-bidi: embed;\n",
       "    white-space: pre-wrap;\n",
       "    word-wrap: break-word;\n",
       "    word-break: break-all;\n",
       "    font-family: \"Menlo\", \"Monaco\", \"Consolas\", \"Ubuntu Mono\", \"Source Code Pro\", monospace;\n",
       "    font-size: 13px;\n",
       "    color: #555;\n",
       "    margin-left: 4px;\n",
       "    line-height: 19px;\n",
       "  }\n",
       "</style>\n",
       "<div class=\"ansiout\">import org.apache.spark.rdd.RDD\n",
       "</div>"
      ]
     },
     "metadata": {
      "application/vnd.databricks.v1+output": {
       "addedWidgets": {},
       "arguments": {},
       "data": "<div class=\"ansiout\">import org.apache.spark.rdd.RDD\n</div>",
       "datasetInfos": [],
       "metadata": {},
       "removedWidgets": [],
       "type": "html"
      }
     },
     "output_type": "display_data"
    }
   ],
   "source": [
    "%scala\n",
    "import org.apache.spark.rdd.RDD"
   ]
  },
  {
   "cell_type": "code",
   "execution_count": 0,
   "metadata": {
    "application/vnd.databricks.v1+cell": {
     "cellMetadata": {
      "byteLimit": 2048000,
      "rowLimit": 10000
     },
     "inputWidgets": {},
     "nuid": "d01ec6b0-53e7-4995-8ec7-46cdb3a00964",
     "showTitle": false,
     "title": ""
    }
   },
   "outputs": [
    {
     "output_type": "display_data",
     "data": {
      "text/html": [
       "<style scoped>\n",
       "  .ansiout {\n",
       "    display: block;\n",
       "    unicode-bidi: embed;\n",
       "    white-space: pre-wrap;\n",
       "    word-wrap: break-word;\n",
       "    word-break: break-all;\n",
       "    font-family: \"Menlo\", \"Monaco\", \"Consolas\", \"Ubuntu Mono\", \"Source Code Pro\", monospace;\n",
       "    font-size: 13px;\n",
       "    color: #555;\n",
       "    margin-left: 4px;\n",
       "    line-height: 19px;\n",
       "  }\n",
       "</style>\n",
       "<div class=\"ansiout\">import org.apache.spark.graphx._\n",
       "</div>"
      ]
     },
     "metadata": {
      "application/vnd.databricks.v1+output": {
       "addedWidgets": {},
       "arguments": {},
       "data": "<div class=\"ansiout\">import org.apache.spark.graphx._\n</div>",
       "datasetInfos": [],
       "metadata": {},
       "removedWidgets": [],
       "type": "html"
      }
     },
     "output_type": "display_data"
    }
   ],
   "source": [
    "%scala\n",
    "import org.apache.spark.graphx._"
   ]
  },
  {
   "cell_type": "code",
   "execution_count": 0,
   "metadata": {
    "application/vnd.databricks.v1+cell": {
     "cellMetadata": {
      "byteLimit": 2048000,
      "rowLimit": 10000
     },
     "inputWidgets": {},
     "nuid": "a7fac410-3814-43d3-815b-1255119acce0",
     "showTitle": false,
     "title": ""
    }
   },
   "outputs": [
    {
     "output_type": "display_data",
     "data": {
      "text/html": [
       "<style scoped>\n",
       "  .ansiout {\n",
       "    display: block;\n",
       "    unicode-bidi: embed;\n",
       "    white-space: pre-wrap;\n",
       "    word-wrap: break-word;\n",
       "    word-break: break-all;\n",
       "    font-family: \"Menlo\", \"Monaco\", \"Consolas\", \"Ubuntu Mono\", \"Source Code Pro\", monospace;\n",
       "    font-size: 13px;\n",
       "    color: #555;\n",
       "    margin-left: 4px;\n",
       "    line-height: 19px;\n",
       "  }\n",
       "</style>\n",
       "<div class=\"ansiout\">vertexRDD: org.apache.spark.rdd.RDD[String] = /FileStore/tables/vertex-1.csv MapPartitionsRDD[23] at textFile at command-2126645660340504:1\n",
       "</div>"
      ]
     },
     "metadata": {
      "application/vnd.databricks.v1+output": {
       "addedWidgets": {},
       "arguments": {},
       "data": "<div class=\"ansiout\">vertexRDD: org.apache.spark.rdd.RDD[String] = /FileStore/tables/vertex-1.csv MapPartitionsRDD[23] at textFile at command-2126645660340504:1\n</div>",
       "datasetInfos": [],
       "metadata": {},
       "removedWidgets": [],
       "type": "html"
      }
     },
     "output_type": "display_data"
    }
   ],
   "source": [
    "%scala\n",
    "val vertexRDD = sc.textFile(\"/FileStore/tables/vertex-1.csv\")"
   ]
  },
  {
   "cell_type": "code",
   "execution_count": 0,
   "metadata": {
    "application/vnd.databricks.v1+cell": {
     "cellMetadata": {
      "byteLimit": 2048000,
      "rowLimit": 10000
     },
     "inputWidgets": {},
     "nuid": "25e7a3d6-0584-48b2-970b-f04a5e51165b",
     "showTitle": false,
     "title": ""
    }
   },
   "outputs": [
    {
     "output_type": "display_data",
     "data": {
      "text/html": [
       "<style scoped>\n",
       "  .ansiout {\n",
       "    display: block;\n",
       "    unicode-bidi: embed;\n",
       "    white-space: pre-wrap;\n",
       "    word-wrap: break-word;\n",
       "    word-break: break-all;\n",
       "    font-family: \"Menlo\", \"Monaco\", \"Consolas\", \"Ubuntu Mono\", \"Source Code Pro\", monospace;\n",
       "    font-size: 13px;\n",
       "    color: #555;\n",
       "    margin-left: 4px;\n",
       "    line-height: 19px;\n",
       "  }\n",
       "</style>\n",
       "<div class=\"ansiout\">edgeRDD: org.apache.spark.rdd.RDD[String] = /FileStore/tables/edges.csv MapPartitionsRDD[25] at textFile at command-2126645660340505:1\n",
       "</div>"
      ]
     },
     "metadata": {
      "application/vnd.databricks.v1+output": {
       "addedWidgets": {},
       "arguments": {},
       "data": "<div class=\"ansiout\">edgeRDD: org.apache.spark.rdd.RDD[String] = /FileStore/tables/edges.csv MapPartitionsRDD[25] at textFile at command-2126645660340505:1\n</div>",
       "datasetInfos": [],
       "metadata": {},
       "removedWidgets": [],
       "type": "html"
      }
     },
     "output_type": "display_data"
    }
   ],
   "source": [
    "%scala\n",
    "val edgeRDD = sc.textFile(\"/FileStore/tables/edges.csv\")"
   ]
  },
  {
   "cell_type": "code",
   "execution_count": 0,
   "metadata": {
    "application/vnd.databricks.v1+cell": {
     "cellMetadata": {
      "byteLimit": 2048000,
      "rowLimit": 10000
     },
     "inputWidgets": {},
     "nuid": "e84eace9-e831-4675-ab11-59866a67818f",
     "showTitle": false,
     "title": ""
    }
   },
   "outputs": [
    {
     "output_type": "display_data",
     "data": {
      "text/html": [
       "<style scoped>\n",
       "  .ansiout {\n",
       "    display: block;\n",
       "    unicode-bidi: embed;\n",
       "    white-space: pre-wrap;\n",
       "    word-wrap: break-word;\n",
       "    word-break: break-all;\n",
       "    font-family: \"Menlo\", \"Monaco\", \"Consolas\", \"Ubuntu Mono\", \"Source Code Pro\", monospace;\n",
       "    font-size: 13px;\n",
       "    color: #555;\n",
       "    margin-left: 4px;\n",
       "    line-height: 19px;\n",
       "  }\n",
       "</style>\n",
       "<div class=\"ansiout\">res0: Array[String] = Array(6,1,Sister, 1,2,Husband, 2,1,Wife, 5,1,Daughter, 5,2,Daughter, 3,1,Son, 3,2,Son, 4,1,Friend, 1,5,Father, 1,3,Father, 2,5,Mother, 2,3,Mother)\n",
       "</div>"
      ]
     },
     "metadata": {
      "application/vnd.databricks.v1+output": {
       "addedWidgets": {},
       "arguments": {},
       "data": "<div class=\"ansiout\">res0: Array[String] = Array(6,1,Sister, 1,2,Husband, 2,1,Wife, 5,1,Daughter, 5,2,Daughter, 3,1,Son, 3,2,Son, 4,1,Friend, 1,5,Father, 1,3,Father, 2,5,Mother, 2,3,Mother)\n</div>",
       "datasetInfos": [],
       "metadata": {},
       "removedWidgets": [],
       "type": "html"
      }
     },
     "output_type": "display_data"
    }
   ],
   "source": [
    "%scala\n",
    "vertexRDD.collect()\n",
    "edgeRDD.collect()"
   ]
  },
  {
   "cell_type": "code",
   "execution_count": 0,
   "metadata": {
    "application/vnd.databricks.v1+cell": {
     "cellMetadata": {
      "byteLimit": 2048000,
      "rowLimit": 10000
     },
     "inputWidgets": {},
     "nuid": "a65b8783-04ec-4339-ac37-e6eb7cdf4e9f",
     "showTitle": false,
     "title": ""
    }
   },
   "outputs": [
    {
     "output_type": "display_data",
     "data": {
      "text/html": [
       "<style scoped>\n",
       "  .ansiout {\n",
       "    display: block;\n",
       "    unicode-bidi: embed;\n",
       "    white-space: pre-wrap;\n",
       "    word-wrap: break-word;\n",
       "    word-break: break-all;\n",
       "    font-family: \"Menlo\", \"Monaco\", \"Consolas\", \"Ubuntu Mono\", \"Source Code Pro\", monospace;\n",
       "    font-size: 13px;\n",
       "    color: #555;\n",
       "    margin-left: 4px;\n",
       "    line-height: 19px;\n",
       "  }\n",
       "</style>\n",
       "<div class=\"ansiout\">vertices: org.apache.spark.rdd.RDD[(org.apache.spark.graphx.VertexId, (String, String))] = MapPartitionsRDD[26] at map at command-2126645660340507:1\n",
       "</div>"
      ]
     },
     "metadata": {
      "application/vnd.databricks.v1+output": {
       "addedWidgets": {},
       "arguments": {},
       "data": "<div class=\"ansiout\">vertices: org.apache.spark.rdd.RDD[(org.apache.spark.graphx.VertexId, (String, String))] = MapPartitionsRDD[26] at map at command-2126645660340507:1\n</div>",
       "datasetInfos": [],
       "metadata": {},
       "removedWidgets": [],
       "type": "html"
      }
     },
     "output_type": "display_data"
    }
   ],
   "source": [
    "%scala\n",
    "val vertices: RDD[(VertexId, (String,String))]=vertexRDD.map{ \n",
    "  line => val fields =line.split(\",\")\n",
    "  (fields(0).toLong, (fields(1),fields(2)))}"
   ]
  },
  {
   "cell_type": "code",
   "execution_count": 0,
   "metadata": {
    "application/vnd.databricks.v1+cell": {
     "cellMetadata": {
      "byteLimit": 2048000,
      "rowLimit": 10000
     },
     "inputWidgets": {},
     "nuid": "e6ae568c-ad30-4851-a120-1f10315ac8c3",
     "showTitle": false,
     "title": ""
    }
   },
   "outputs": [
    {
     "output_type": "display_data",
     "data": {
      "text/html": [
       "<style scoped>\n",
       "  .ansiout {\n",
       "    display: block;\n",
       "    unicode-bidi: embed;\n",
       "    white-space: pre-wrap;\n",
       "    word-wrap: break-word;\n",
       "    word-break: break-all;\n",
       "    font-family: \"Menlo\", \"Monaco\", \"Consolas\", \"Ubuntu Mono\", \"Source Code Pro\", monospace;\n",
       "    font-size: 13px;\n",
       "    color: #555;\n",
       "    margin-left: 4px;\n",
       "    line-height: 19px;\n",
       "  }\n",
       "</style>\n",
       "<div class=\"ansiout\">res1: Array[(org.apache.spark.graphx.VertexId, (String, String))] = Array((1,(Jacob,48)), (2,(Jessica,45)), (3,(Andrew,25)), (4,(Ryan,53)), (5,(Emily,22)), (6,(Lily,52)))\n",
       "</div>"
      ]
     },
     "metadata": {
      "application/vnd.databricks.v1+output": {
       "addedWidgets": {},
       "arguments": {},
       "data": "<div class=\"ansiout\">res1: Array[(org.apache.spark.graphx.VertexId, (String, String))] = Array((1,(Jacob,48)), (2,(Jessica,45)), (3,(Andrew,25)), (4,(Ryan,53)), (5,(Emily,22)), (6,(Lily,52)))\n</div>",
       "datasetInfos": [],
       "metadata": {},
       "removedWidgets": [],
       "type": "html"
      }
     },
     "output_type": "display_data"
    }
   ],
   "source": [
    "%scala\n",
    "vertices.collect()"
   ]
  },
  {
   "cell_type": "code",
   "execution_count": 0,
   "metadata": {
    "application/vnd.databricks.v1+cell": {
     "cellMetadata": {
      "byteLimit": 2048000,
      "rowLimit": 10000
     },
     "inputWidgets": {},
     "nuid": "a0128f4e-293e-476e-8470-3a894dc54542",
     "showTitle": false,
     "title": ""
    }
   },
   "outputs": [
    {
     "output_type": "display_data",
     "data": {
      "text/html": [
       "<style scoped>\n",
       "  .ansiout {\n",
       "    display: block;\n",
       "    unicode-bidi: embed;\n",
       "    white-space: pre-wrap;\n",
       "    word-wrap: break-word;\n",
       "    word-break: break-all;\n",
       "    font-family: \"Menlo\", \"Monaco\", \"Consolas\", \"Ubuntu Mono\", \"Source Code Pro\", monospace;\n",
       "    font-size: 13px;\n",
       "    color: #555;\n",
       "    margin-left: 4px;\n",
       "    line-height: 19px;\n",
       "  }\n",
       "</style>\n",
       "<div class=\"ansiout\">edges: org.apache.spark.rdd.RDD[org.apache.spark.graphx.Edge[String]] = MapPartitionsRDD[27] at map at command-2126645660340509:1\n",
       "</div>"
      ]
     },
     "metadata": {
      "application/vnd.databricks.v1+output": {
       "addedWidgets": {},
       "arguments": {},
       "data": "<div class=\"ansiout\">edges: org.apache.spark.rdd.RDD[org.apache.spark.graphx.Edge[String]] = MapPartitionsRDD[27] at map at command-2126645660340509:1\n</div>",
       "datasetInfos": [],
       "metadata": {},
       "removedWidgets": [],
       "type": "html"
      }
     },
     "output_type": "display_data"
    }
   ],
   "source": [
    "%scala\n",
    "val edges: RDD[Edge[String]]=edgeRDD.map{ line => val fields = line.split(\",\")\n",
    "Edge(fields(0).toLong, fields(1).toLong, fields(2))}"
   ]
  },
  {
   "cell_type": "code",
   "execution_count": 0,
   "metadata": {
    "application/vnd.databricks.v1+cell": {
     "cellMetadata": {
      "byteLimit": 2048000,
      "rowLimit": 10000
     },
     "inputWidgets": {},
     "nuid": "997892de-a669-410a-a7b4-5b4a46c135b3",
     "showTitle": false,
     "title": ""
    }
   },
   "outputs": [
    {
     "output_type": "display_data",
     "data": {
      "text/html": [
       "<style scoped>\n",
       "  .ansiout {\n",
       "    display: block;\n",
       "    unicode-bidi: embed;\n",
       "    white-space: pre-wrap;\n",
       "    word-wrap: break-word;\n",
       "    word-break: break-all;\n",
       "    font-family: \"Menlo\", \"Monaco\", \"Consolas\", \"Ubuntu Mono\", \"Source Code Pro\", monospace;\n",
       "    font-size: 13px;\n",
       "    color: #555;\n",
       "    margin-left: 4px;\n",
       "    line-height: 19px;\n",
       "  }\n",
       "</style>\n",
       "<div class=\"ansiout\">res2: Array[org.apache.spark.graphx.Edge[String]] = Array(Edge(6,1,Sister), Edge(1,2,Husband), Edge(2,1,Wife), Edge(5,1,Daughter), Edge(5,2,Daughter), Edge(3,1,Son), Edge(3,2,Son), Edge(4,1,Friend), Edge(1,5,Father), Edge(1,3,Father), Edge(2,5,Mother), Edge(2,3,Mother))\n",
       "</div>"
      ]
     },
     "metadata": {
      "application/vnd.databricks.v1+output": {
       "addedWidgets": {},
       "arguments": {},
       "data": "<div class=\"ansiout\">res2: Array[org.apache.spark.graphx.Edge[String]] = Array(Edge(6,1,Sister), Edge(1,2,Husband), Edge(2,1,Wife), Edge(5,1,Daughter), Edge(5,2,Daughter), Edge(3,1,Son), Edge(3,2,Son), Edge(4,1,Friend), Edge(1,5,Father), Edge(1,3,Father), Edge(2,5,Mother), Edge(2,3,Mother))\n</div>",
       "datasetInfos": [],
       "metadata": {},
       "removedWidgets": [],
       "type": "html"
      }
     },
     "output_type": "display_data"
    }
   ],
   "source": [
    "%scala\n",
    "edges.collect"
   ]
  },
  {
   "cell_type": "code",
   "execution_count": 0,
   "metadata": {
    "application/vnd.databricks.v1+cell": {
     "cellMetadata": {
      "byteLimit": 2048000,
      "rowLimit": 10000
     },
     "inputWidgets": {},
     "nuid": "59d731d1-137f-4bb1-8181-3377283b6a3d",
     "showTitle": false,
     "title": ""
    }
   },
   "outputs": [
    {
     "output_type": "display_data",
     "data": {
      "text/html": [
       "<style scoped>\n",
       "  .ansiout {\n",
       "    display: block;\n",
       "    unicode-bidi: embed;\n",
       "    white-space: pre-wrap;\n",
       "    word-wrap: break-word;\n",
       "    word-break: break-all;\n",
       "    font-family: \"Menlo\", \"Monaco\", \"Consolas\", \"Ubuntu Mono\", \"Source Code Pro\", monospace;\n",
       "    font-size: 13px;\n",
       "    color: #555;\n",
       "    margin-left: 4px;\n",
       "    line-height: 19px;\n",
       "  }\n",
       "</style>\n",
       "<div class=\"ansiout\">default: (String, String) = (unknown,missing)\n",
       "</div>"
      ]
     },
     "metadata": {
      "application/vnd.databricks.v1+output": {
       "addedWidgets": {},
       "arguments": {},
       "data": "<div class=\"ansiout\">default: (String, String) = (unknown,missing)\n</div>",
       "datasetInfos": [],
       "metadata": {},
       "removedWidgets": [],
       "type": "html"
      }
     },
     "output_type": "display_data"
    }
   ],
   "source": [
    "%scala\n",
    "val default =(\"unknown\",\"missing\")"
   ]
  },
  {
   "cell_type": "code",
   "execution_count": 0,
   "metadata": {
    "application/vnd.databricks.v1+cell": {
     "cellMetadata": {
      "byteLimit": 2048000,
      "rowLimit": 10000
     },
     "inputWidgets": {},
     "nuid": "70e68edd-4e7b-46e5-b55d-c7bd8cd7349b",
     "showTitle": false,
     "title": ""
    }
   },
   "outputs": [
    {
     "output_type": "display_data",
     "data": {
      "text/html": [
       "<style scoped>\n",
       "  .ansiout {\n",
       "    display: block;\n",
       "    unicode-bidi: embed;\n",
       "    white-space: pre-wrap;\n",
       "    word-wrap: break-word;\n",
       "    word-break: break-all;\n",
       "    font-family: \"Menlo\", \"Monaco\", \"Consolas\", \"Ubuntu Mono\", \"Source Code Pro\", monospace;\n",
       "    font-size: 13px;\n",
       "    color: #555;\n",
       "    margin-left: 4px;\n",
       "    line-height: 19px;\n",
       "  }\n",
       "</style>\n",
       "<div class=\"ansiout\">graph: org.apache.spark.graphx.Graph[(String, String),String] = org.apache.spark.graphx.impl.GraphImpl@63e02273\n",
       "</div>"
      ]
     },
     "metadata": {
      "application/vnd.databricks.v1+output": {
       "addedWidgets": {},
       "arguments": {},
       "data": "<div class=\"ansiout\">graph: org.apache.spark.graphx.Graph[(String, String),String] = org.apache.spark.graphx.impl.GraphImpl@63e02273\n</div>",
       "datasetInfos": [],
       "metadata": {},
       "removedWidgets": [],
       "type": "html"
      }
     },
     "output_type": "display_data"
    }
   ],
   "source": [
    "%scala\n",
    "val graph= Graph(vertices, edges,default)"
   ]
  },
  {
   "cell_type": "code",
   "execution_count": 0,
   "metadata": {
    "application/vnd.databricks.v1+cell": {
     "cellMetadata": {
      "byteLimit": 2048000,
      "rowLimit": 10000
     },
     "inputWidgets": {},
     "nuid": "d649c8ae-c960-4996-9f89-c866f19195e6",
     "showTitle": false,
     "title": ""
    }
   },
   "outputs": [
    {
     "output_type": "display_data",
     "data": {
      "text/html": [
       "<style scoped>\n",
       "  .ansiout {\n",
       "    display: block;\n",
       "    unicode-bidi: embed;\n",
       "    white-space: pre-wrap;\n",
       "    word-wrap: break-word;\n",
       "    word-break: break-all;\n",
       "    font-family: \"Menlo\", \"Monaco\", \"Consolas\", \"Ubuntu Mono\", \"Source Code Pro\", monospace;\n",
       "    font-size: 13px;\n",
       "    color: #555;\n",
       "    margin-left: 4px;\n",
       "    line-height: 19px;\n",
       "  }\n",
       "</style>\n",
       "<div class=\"ansiout\">defined class MoviesWatched\n",
       "movies: org.apache.spark.rdd.RDD[(org.apache.spark.graphx.VertexId, MoviesWatched)] = ParallelCollectionRDD[40] at parallelize at command-2126645660340513:2\n",
       "</div>"
      ]
     },
     "metadata": {
      "application/vnd.databricks.v1+output": {
       "addedWidgets": {},
       "arguments": {},
       "data": "<div class=\"ansiout\">defined class MoviesWatched\nmovies: org.apache.spark.rdd.RDD[(org.apache.spark.graphx.VertexId, MoviesWatched)] = ParallelCollectionRDD[40] at parallelize at command-2126645660340513:2\n</div>",
       "datasetInfos": [],
       "metadata": {},
       "removedWidgets": [],
       "type": "html"
      }
     },
     "output_type": "display_data"
    }
   ],
   "source": [
    "%scala\n",
    "case class MoviesWatched(Movie:String, Genre:String)\n",
    "val movies:RDD[(VertexId, MoviesWatched)]=sc.parallelize(List(\n",
    "(1,MoviesWatched(\"Toy Story 3\", \"Kids\")), (2, MoviesWatched(\"Titanic\", \"Love\")),\n",
    "(3, MoviesWatched(\"The Hangover\",\"Comedy\"))))"
   ]
  },
  {
   "cell_type": "code",
   "execution_count": 0,
   "metadata": {
    "application/vnd.databricks.v1+cell": {
     "cellMetadata": {
      "byteLimit": 2048000,
      "rowLimit": 10000
     },
     "inputWidgets": {},
     "nuid": "f13436c3-ca3c-4baf-aa54-239ee5d709d9",
     "showTitle": false,
     "title": ""
    }
   },
   "outputs": [
    {
     "output_type": "display_data",
     "data": {
      "text/html": [
       "<style scoped>\n",
       "  .ansiout {\n",
       "    display: block;\n",
       "    unicode-bidi: embed;\n",
       "    white-space: pre-wrap;\n",
       "    word-wrap: break-word;\n",
       "    word-break: break-all;\n",
       "    font-family: \"Menlo\", \"Monaco\", \"Consolas\", \"Ubuntu Mono\", \"Source Code Pro\", monospace;\n",
       "    font-size: 13px;\n",
       "    color: #555;\n",
       "    margin-left: 4px;\n",
       "    line-height: 19px;\n",
       "  }\n",
       "</style>\n",
       "<div class=\"ansiout\">movieOuterJoinedGraph: org.apache.spark.graphx.Graph[((String, String), Option[MoviesWatched]),String] = org.apache.spark.graphx.impl.GraphImpl@757ea4b0\n",
       "</div>"
      ]
     },
     "metadata": {
      "application/vnd.databricks.v1+output": {
       "addedWidgets": {},
       "arguments": {},
       "data": "<div class=\"ansiout\">movieOuterJoinedGraph: org.apache.spark.graphx.Graph[((String, String), Option[MoviesWatched]),String] = org.apache.spark.graphx.impl.GraphImpl@757ea4b0\n</div>",
       "datasetInfos": [],
       "metadata": {},
       "removedWidgets": [],
       "type": "html"
      }
     },
     "output_type": "display_data"
    }
   ],
   "source": [
    "%scala\n",
    "val movieOuterJoinedGraph = graph.outerJoinVertices(movies)((_,name,movies) => (name,movies))"
   ]
  },
  {
   "cell_type": "code",
   "execution_count": 0,
   "metadata": {
    "application/vnd.databricks.v1+cell": {
     "cellMetadata": {
      "byteLimit": 2048000,
      "rowLimit": 10000
     },
     "inputWidgets": {},
     "nuid": "bbe570ee-787a-42c4-adb7-6e3fbdf2f0dc",
     "showTitle": false,
     "title": ""
    }
   },
   "outputs": [
    {
     "output_type": "display_data",
     "data": {
      "text/html": [
       "<style scoped>\n",
       "  .ansiout {\n",
       "    display: block;\n",
       "    unicode-bidi: embed;\n",
       "    white-space: pre-wrap;\n",
       "    word-wrap: break-word;\n",
       "    word-break: break-all;\n",
       "    font-family: \"Menlo\", \"Monaco\", \"Consolas\", \"Ubuntu Mono\", \"Source Code Pro\", monospace;\n",
       "    font-size: 13px;\n",
       "    color: #555;\n",
       "    margin-left: 4px;\n",
       "    line-height: 19px;\n",
       "  }\n",
       "</style>\n",
       "<div class=\"ansiout\">(4,((Ryan,53),None))\n",
       "(6,((Lily,52),None))\n",
       "(2,((Jessica,45),Some(MoviesWatched(Titanic,Love))))\n",
       "(1,((Jacob,48),Some(MoviesWatched(Toy Story 3,Kids))))\n",
       "(3,((Andrew,25),Some(MoviesWatched(The Hangover,Comedy))))\n",
       "(5,((Emily,22),None))\n",
       "</div>"
      ]
     },
     "metadata": {
      "application/vnd.databricks.v1+output": {
       "addedWidgets": {},
       "arguments": {},
       "data": "<div class=\"ansiout\">(4,((Ryan,53),None))\n(6,((Lily,52),None))\n(2,((Jessica,45),Some(MoviesWatched(Titanic,Love))))\n(1,((Jacob,48),Some(MoviesWatched(Toy Story 3,Kids))))\n(3,((Andrew,25),Some(MoviesWatched(The Hangover,Comedy))))\n(5,((Emily,22),None))\n</div>",
       "datasetInfos": [],
       "metadata": {},
       "removedWidgets": [],
       "type": "html"
      }
     },
     "output_type": "display_data"
    }
   ],
   "source": [
    "%scala\n",
    "movieOuterJoinedGraph.vertices.map(t=>t).collect.foreach(println)"
   ]
  },
  {
   "cell_type": "code",
   "execution_count": 0,
   "metadata": {
    "application/vnd.databricks.v1+cell": {
     "cellMetadata": {
      "byteLimit": 2048000,
      "rowLimit": 10000
     },
     "inputWidgets": {},
     "nuid": "e523f33c-1902-4b25-980e-1484d22717e7",
     "showTitle": false,
     "title": ""
    }
   },
   "outputs": [
    {
     "output_type": "display_data",
     "data": {
      "text/html": [
       "<style scoped>\n",
       "  .ansiout {\n",
       "    display: block;\n",
       "    unicode-bidi: embed;\n",
       "    white-space: pre-wrap;\n",
       "    word-wrap: break-word;\n",
       "    word-break: break-all;\n",
       "    font-family: \"Menlo\", \"Monaco\", \"Consolas\", \"Ubuntu Mono\", \"Source Code Pro\", monospace;\n",
       "    font-size: 13px;\n",
       "    color: #555;\n",
       "    margin-left: 4px;\n",
       "    line-height: 19px;\n",
       "  }\n",
       "</style>\n",
       "<div class=\"ansiout\">movieOuterJoinedGraph: org.apache.spark.graphx.Graph[((String, String), MoviesWatched),String] = org.apache.spark.graphx.impl.GraphImpl@486d55c6\n",
       "</div>"
      ]
     },
     "metadata": {
      "application/vnd.databricks.v1+output": {
       "addedWidgets": {},
       "arguments": {},
       "data": "<div class=\"ansiout\">movieOuterJoinedGraph: org.apache.spark.graphx.Graph[((String, String), MoviesWatched),String] = org.apache.spark.graphx.impl.GraphImpl@486d55c6\n</div>",
       "datasetInfos": [],
       "metadata": {},
       "removedWidgets": [],
       "type": "html"
      }
     },
     "output_type": "display_data"
    }
   ],
   "source": [
    "%scala\n",
    "val movieOuterJoinedGraph = graph.outerJoinVertices(movies)((_,name,movies) => (name,movies.getOrElse(MoviesWatched(\"NA\",\"NA\"))))"
   ]
  },
  {
   "cell_type": "code",
   "execution_count": 0,
   "metadata": {
    "application/vnd.databricks.v1+cell": {
     "cellMetadata": {
      "byteLimit": 2048000,
      "rowLimit": 10000
     },
     "inputWidgets": {},
     "nuid": "4b007c1a-61b6-468f-b351-e6f51400b104",
     "showTitle": false,
     "title": ""
    }
   },
   "outputs": [
    {
     "output_type": "display_data",
     "data": {
      "text/html": [
       "<style scoped>\n",
       "  .ansiout {\n",
       "    display: block;\n",
       "    unicode-bidi: embed;\n",
       "    white-space: pre-wrap;\n",
       "    word-wrap: break-word;\n",
       "    word-break: break-all;\n",
       "    font-family: \"Menlo\", \"Monaco\", \"Consolas\", \"Ubuntu Mono\", \"Source Code Pro\", monospace;\n",
       "    font-size: 13px;\n",
       "    color: #555;\n",
       "    margin-left: 4px;\n",
       "    line-height: 19px;\n",
       "  }\n",
       "</style>\n",
       "<div class=\"ansiout\">(4,((Ryan,53),MoviesWatched(NA,NA)))\n",
       "(6,((Lily,52),MoviesWatched(NA,NA)))\n",
       "(2,((Jessica,45),MoviesWatched(Titanic,Love)))\n",
       "(1,((Jacob,48),MoviesWatched(Toy Story 3,Kids)))\n",
       "(3,((Andrew,25),MoviesWatched(The Hangover,Comedy)))\n",
       "(5,((Emily,22),MoviesWatched(NA,NA)))\n",
       "</div>"
      ]
     },
     "metadata": {
      "application/vnd.databricks.v1+output": {
       "addedWidgets": {},
       "arguments": {},
       "data": "<div class=\"ansiout\">(4,((Ryan,53),MoviesWatched(NA,NA)))\n(6,((Lily,52),MoviesWatched(NA,NA)))\n(2,((Jessica,45),MoviesWatched(Titanic,Love)))\n(1,((Jacob,48),MoviesWatched(Toy Story 3,Kids)))\n(3,((Andrew,25),MoviesWatched(The Hangover,Comedy)))\n(5,((Emily,22),MoviesWatched(NA,NA)))\n</div>",
       "datasetInfos": [],
       "metadata": {},
       "removedWidgets": [],
       "type": "html"
      }
     },
     "output_type": "display_data"
    }
   ],
   "source": [
    "%scala\n",
    "movieOuterJoinedGraph.vertices.map(t=>t).collect.foreach(println)"
   ]
  },
  {
   "cell_type": "code",
   "execution_count": 0,
   "metadata": {
    "application/vnd.databricks.v1+cell": {
     "cellMetadata": {
      "byteLimit": 2048000,
      "rowLimit": 10000
     },
     "inputWidgets": {},
     "nuid": "06686c92-22b3-4d59-8319-7dd2291291f4",
     "showTitle": false,
     "title": ""
    }
   },
   "outputs": [
    {
     "output_type": "display_data",
     "data": {
      "text/html": [
       "<style scoped>\n",
       "  .ansiout {\n",
       "    display: block;\n",
       "    unicode-bidi: embed;\n",
       "    white-space: pre-wrap;\n",
       "    word-wrap: break-word;\n",
       "    word-break: break-all;\n",
       "    font-family: \"Menlo\", \"Monaco\", \"Consolas\", \"Ubuntu Mono\", \"Source Code Pro\", monospace;\n",
       "    font-size: 13px;\n",
       "    color: #555;\n",
       "    margin-left: 4px;\n",
       "    line-height: 19px;\n",
       "  }\n",
       "</style>\n",
       "<div class=\"ansiout\">tCount: org.apache.spark.graphx.VertexRDD[Int] = VertexRDDImpl[102] at RDD at VertexRDD.scala:57\n",
       "</div>"
      ]
     },
     "metadata": {
      "application/vnd.databricks.v1+output": {
       "addedWidgets": {},
       "arguments": {},
       "data": "<div class=\"ansiout\">tCount: org.apache.spark.graphx.VertexRDD[Int] = VertexRDDImpl[102] at RDD at VertexRDD.scala:57\n</div>",
       "datasetInfos": [],
       "metadata": {},
       "removedWidgets": [],
       "type": "html"
      }
     },
     "output_type": "display_data"
    }
   ],
   "source": [
    "%scala\n",
    "\n",
    "val tCount = graph.triangleCount().vertices"
   ]
  },
  {
   "cell_type": "code",
   "execution_count": 0,
   "metadata": {
    "application/vnd.databricks.v1+cell": {
     "cellMetadata": {
      "byteLimit": 2048000,
      "rowLimit": 10000
     },
     "inputWidgets": {},
     "nuid": "70160cdd-decb-448f-a0d4-fa7b223d43c2",
     "showTitle": false,
     "title": ""
    }
   },
   "outputs": [
    {
     "output_type": "display_data",
     "data": {
      "text/html": [
       "<style scoped>\n",
       "  .ansiout {\n",
       "    display: block;\n",
       "    unicode-bidi: embed;\n",
       "    white-space: pre-wrap;\n",
       "    word-wrap: break-word;\n",
       "    word-break: break-all;\n",
       "    font-family: \"Menlo\", \"Monaco\", \"Consolas\", \"Ubuntu Mono\", \"Source Code Pro\", monospace;\n",
       "    font-size: 13px;\n",
       "    color: #555;\n",
       "    margin-left: 4px;\n",
       "    line-height: 19px;\n",
       "  }\n",
       "</style>\n",
       "<div class=\"ansiout\">(4,0)\n",
       "(6,0)\n",
       "(2,2)\n",
       "(1,2)\n",
       "(3,1)\n",
       "(5,1)\n",
       "</div>"
      ]
     },
     "metadata": {
      "application/vnd.databricks.v1+output": {
       "addedWidgets": {},
       "arguments": {},
       "data": "<div class=\"ansiout\">(4,0)\n(6,0)\n(2,2)\n(1,2)\n(3,1)\n(5,1)\n</div>",
       "datasetInfos": [],
       "metadata": {},
       "removedWidgets": [],
       "type": "html"
      }
     },
     "output_type": "display_data"
    }
   ],
   "source": [
    "%scala\n",
    "println(tCount.collect().mkString(\"\\n\"))"
   ]
  },
  {
   "cell_type": "code",
   "execution_count": 0,
   "metadata": {
    "application/vnd.databricks.v1+cell": {
     "cellMetadata": {
      "byteLimit": 2048000,
      "rowLimit": 10000
     },
     "inputWidgets": {},
     "nuid": "d4fa3f01-f22b-4744-a79d-7f0feefb1602",
     "showTitle": false,
     "title": ""
    }
   },
   "outputs": [
    {
     "output_type": "display_data",
     "data": {
      "text/html": [
       "<style scoped>\n",
       "  .ansiout {\n",
       "    display: block;\n",
       "    unicode-bidi: embed;\n",
       "    white-space: pre-wrap;\n",
       "    word-wrap: break-word;\n",
       "    word-break: break-all;\n",
       "    font-family: \"Menlo\", \"Monaco\", \"Consolas\", \"Ubuntu Mono\", \"Source Code Pro\", monospace;\n",
       "    font-size: 13px;\n",
       "    color: #555;\n",
       "    margin-left: 4px;\n",
       "    line-height: 19px;\n",
       "  }\n",
       "</style>\n",
       "<div class=\"ansiout\">Weak 1 4 Ryan\n",
       "Weak 1 6 Lily\n",
       "Weak 1 2 Jessica\n",
       "Weak 1 1 Jacob\n",
       "Weak 1 3 Andrew\n",
       "Weak 1 5 Emily\n",
       "iterations: Int = 1000\n",
       "connected: org.apache.spark.graphx.VertexRDD[org.apache.spark.graphx.VertexId] = VertexRDDImpl[126] at RDD at VertexRDD.scala:57\n",
       "connectedS: org.apache.spark.graphx.VertexRDD[org.apache.spark.graphx.VertexId] = VertexRDDImpl[377] at RDD at VertexRDD.scala:57\n",
       "connByPerson: org.apache.spark.rdd.RDD[(org.apache.spark.graphx.VertexId, org.apache.spark.graphx.VertexId, String)] = MapPartitionsRDD[427] at map at command-2126645660340520:4\n",
       "connByPersonS: org.apache.spark.rdd.RDD[(org.apache.spark.graphx.VertexId, org.apache.spark.graphx.VertexId, String)] = MapPartitionsRDD[431] at map at command-2126645660340520:5\n",
       "</div>"
      ]
     },
     "metadata": {
      "application/vnd.databricks.v1+output": {
       "addedWidgets": {},
       "arguments": {},
       "data": "<div class=\"ansiout\">Weak 1 4 Ryan\nWeak 1 6 Lily\nWeak 1 2 Jessica\nWeak 1 1 Jacob\nWeak 1 3 Andrew\nWeak 1 5 Emily\niterations: Int = 1000\nconnected: org.apache.spark.graphx.VertexRDD[org.apache.spark.graphx.VertexId] = VertexRDDImpl[126] at RDD at VertexRDD.scala:57\nconnectedS: org.apache.spark.graphx.VertexRDD[org.apache.spark.graphx.VertexId] = VertexRDDImpl[377] at RDD at VertexRDD.scala:57\nconnByPerson: org.apache.spark.rdd.RDD[(org.apache.spark.graphx.VertexId, org.apache.spark.graphx.VertexId, String)] = MapPartitionsRDD[427] at map at command-2126645660340520:4\nconnByPersonS: org.apache.spark.rdd.RDD[(org.apache.spark.graphx.VertexId, org.apache.spark.graphx.VertexId, String)] = MapPartitionsRDD[431] at map at command-2126645660340520:5\n</div>",
       "datasetInfos": [],
       "metadata": {},
       "removedWidgets": [],
       "type": "html"
      }
     },
     "output_type": "display_data"
    }
   ],
   "source": [
    "%scala\n",
    "val iterations = 1000\n",
    "val connected = graph.connectedComponents().vertices\n",
    "val connectedS = graph.stronglyConnectedComponents(iterations).vertices\n",
    "val connByPerson = vertices.join(connected).map{ case(id,((person, age), conn)) => (conn,id,person)}\n",
    "val connByPersonS = vertices.join(connectedS).map{ case(id,((person, age), conn)) => (conn,id,person)}\n",
    "connByPerson.collect().foreach{ case (conn,id,person) => println(f\"Weak $conn $id $person\")}"
   ]
  },
  {
   "cell_type": "code",
   "execution_count": 0,
   "metadata": {
    "application/vnd.databricks.v1+cell": {
     "cellMetadata": {
      "byteLimit": 2048000,
      "rowLimit": 10000
     },
     "inputWidgets": {},
     "nuid": "4b5b4d41-73dd-49b9-9ae0-c6ca7f4e4bcb",
     "showTitle": false,
     "title": ""
    }
   },
   "outputs": [
    {
     "output_type": "display_data",
     "data": {
      "text/html": [
       "<style scoped>\n",
       "  .ansiout {\n",
       "    display: block;\n",
       "    unicode-bidi: embed;\n",
       "    white-space: pre-wrap;\n",
       "    word-wrap: break-word;\n",
       "    word-break: break-all;\n",
       "    font-family: \"Menlo\", \"Monaco\", \"Consolas\", \"Ubuntu Mono\", \"Source Code Pro\", monospace;\n",
       "    font-size: 13px;\n",
       "    color: #555;\n",
       "    margin-left: 4px;\n",
       "    line-height: 19px;\n",
       "  }\n",
       "</style>\n",
       "<div class=\"ansiout\">Vertices count:6\n",
       "</div>"
      ]
     },
     "metadata": {
      "application/vnd.databricks.v1+output": {
       "addedWidgets": {},
       "arguments": {},
       "data": "<div class=\"ansiout\">Vertices count:6\n</div>",
       "datasetInfos": [],
       "metadata": {},
       "removedWidgets": [],
       "type": "html"
      }
     },
     "output_type": "display_data"
    }
   ],
   "source": [
    "%scala\n",
    "println(\"Vertices count:\" +graph.vertices.count)"
   ]
  },
  {
   "cell_type": "code",
   "execution_count": 0,
   "metadata": {
    "application/vnd.databricks.v1+cell": {
     "cellMetadata": {
      "byteLimit": 2048000,
      "rowLimit": 10000
     },
     "inputWidgets": {},
     "nuid": "28e8de9b-0ee7-4645-a6ba-1eb568bf8bd0",
     "showTitle": false,
     "title": ""
    }
   },
   "outputs": [
    {
     "output_type": "display_data",
     "data": {
      "text/html": [
       "<style scoped>\n",
       "  .ansiout {\n",
       "    display: block;\n",
       "    unicode-bidi: embed;\n",
       "    white-space: pre-wrap;\n",
       "    word-wrap: break-word;\n",
       "    word-break: break-all;\n",
       "    font-family: \"Menlo\", \"Monaco\", \"Consolas\", \"Ubuntu Mono\", \"Source Code Pro\", monospace;\n",
       "    font-size: 13px;\n",
       "    color: #555;\n",
       "    margin-left: 4px;\n",
       "    line-height: 19px;\n",
       "  }\n",
       "</style>\n",
       "<div class=\"ansiout\">Edges count:12\n",
       "</div>"
      ]
     },
     "metadata": {
      "application/vnd.databricks.v1+output": {
       "addedWidgets": {},
       "arguments": {},
       "data": "<div class=\"ansiout\">Edges count:12\n</div>",
       "datasetInfos": [],
       "metadata": {},
       "removedWidgets": [],
       "type": "html"
      }
     },
     "output_type": "display_data"
    }
   ],
   "source": [
    "%scala\n",
    "println(\"Edges count:\" +graph.edges.count)"
   ]
  },
  {
   "cell_type": "code",
   "execution_count": 0,
   "metadata": {
    "application/vnd.databricks.v1+cell": {
     "cellMetadata": {
      "byteLimit": 2048000,
      "rowLimit": 10000
     },
     "inputWidgets": {},
     "nuid": "eda7b850-78db-426d-937a-4d7944ea7928",
     "showTitle": false,
     "title": ""
    }
   },
   "outputs": [
    {
     "output_type": "display_data",
     "data": {
      "text/html": [
       "<style scoped>\n",
       "  .ansiout {\n",
       "    display: block;\n",
       "    unicode-bidi: embed;\n",
       "    white-space: pre-wrap;\n",
       "    word-wrap: break-word;\n",
       "    word-break: break-all;\n",
       "    font-family: \"Menlo\", \"Monaco\", \"Consolas\", \"Ubuntu Mono\", \"Source Code Pro\", monospace;\n",
       "    font-size: 13px;\n",
       "    color: #555;\n",
       "    margin-left: 4px;\n",
       "    line-height: 19px;\n",
       "  }\n",
       "</style>\n",
       "<div class=\"ansiout\">cnt1: Long = 4\n",
       "</div>"
      ]
     },
     "metadata": {
      "application/vnd.databricks.v1+output": {
       "addedWidgets": {},
       "arguments": {},
       "data": "<div class=\"ansiout\">cnt1: Long = 4\n</div>",
       "datasetInfos": [],
       "metadata": {},
       "removedWidgets": [],
       "type": "html"
      }
     },
     "output_type": "display_data"
    }
   ],
   "source": [
    "%scala\n",
    "val cnt1 = graph.vertices.filter{ case (id,(name,age))=>age.toLong > 40}.count"
   ]
  },
  {
   "cell_type": "code",
   "execution_count": 0,
   "metadata": {
    "application/vnd.databricks.v1+cell": {
     "cellMetadata": {
      "byteLimit": 2048000,
      "rowLimit": 10000
     },
     "inputWidgets": {},
     "nuid": "890b166c-9ef9-4d5a-95a3-13265e889482",
     "showTitle": false,
     "title": ""
    }
   },
   "outputs": [
    {
     "output_type": "display_data",
     "data": {
      "text/html": [
       "<style scoped>\n",
       "  .ansiout {\n",
       "    display: block;\n",
       "    unicode-bidi: embed;\n",
       "    white-space: pre-wrap;\n",
       "    word-wrap: break-word;\n",
       "    word-break: break-all;\n",
       "    font-family: \"Menlo\", \"Monaco\", \"Consolas\", \"Ubuntu Mono\", \"Source Code Pro\", monospace;\n",
       "    font-size: 13px;\n",
       "    color: #555;\n",
       "    margin-left: 4px;\n",
       "    line-height: 19px;\n",
       "  }\n",
       "</style>\n",
       "<div class=\"ansiout\">cnt2: Long = 4\n",
       "</div>"
      ]
     },
     "metadata": {
      "application/vnd.databricks.v1+output": {
       "addedWidgets": {},
       "arguments": {},
       "data": "<div class=\"ansiout\">cnt2: Long = 4\n</div>",
       "datasetInfos": [],
       "metadata": {},
       "removedWidgets": [],
       "type": "html"
      }
     },
     "output_type": "display_data"
    }
   ],
   "source": [
    "%scala\n",
    "val cnt2 = graph.edges.filter{ case Edge(from, to, property)=>property == \"Father\" | property == \"Mother\"}.count"
   ]
  },
  {
   "cell_type": "code",
   "execution_count": 0,
   "metadata": {
    "application/vnd.databricks.v1+cell": {
     "cellMetadata": {
      "byteLimit": 2048000,
      "rowLimit": 10000
     },
     "inputWidgets": {},
     "nuid": "21ffd072-1201-4b18-8db4-b20f9ed47db3",
     "showTitle": false,
     "title": ""
    }
   },
   "outputs": [
    {
     "output_type": "display_data",
     "data": {
      "text/html": [
       "<style scoped>\n",
       "  .ansiout {\n",
       "    display: block;\n",
       "    unicode-bidi: embed;\n",
       "    white-space: pre-wrap;\n",
       "    word-wrap: break-word;\n",
       "    word-break: break-all;\n",
       "    font-family: \"Menlo\", \"Monaco\", \"Consolas\", \"Ubuntu Mono\", \"Source Code Pro\", monospace;\n",
       "    font-size: 13px;\n",
       "    color: #555;\n",
       "    margin-left: 4px;\n",
       "    line-height: 19px;\n",
       "  }\n",
       "</style>\n",
       "<div class=\"ansiout\">max: (a: (org.apache.spark.graphx.VertexId, Int), b: (org.apache.spark.graphx.VertexId, Int))(org.apache.spark.graphx.VertexId, Int)\n",
       "</div>"
      ]
     },
     "metadata": {
      "application/vnd.databricks.v1+output": {
       "addedWidgets": {},
       "arguments": {},
       "data": "<div class=\"ansiout\">max: (a: (org.apache.spark.graphx.VertexId, Int), b: (org.apache.spark.graphx.VertexId, Int))(org.apache.spark.graphx.VertexId, Int)\n</div>",
       "datasetInfos": [],
       "metadata": {},
       "removedWidgets": [],
       "type": "html"
      }
     },
     "output_type": "display_data"
    }
   ],
   "source": [
    "%scala\n",
    "def max(a: (VertexId, Int), b: (VertexId, Int)): (VertexId, Int)= {\n",
    "    if (a._2 > b._2) a else b\n",
    "}\n"
   ]
  },
  {
   "cell_type": "code",
   "execution_count": 0,
   "metadata": {
    "application/vnd.databricks.v1+cell": {
     "cellMetadata": {
      "byteLimit": 2048000,
      "rowLimit": 10000
     },
     "inputWidgets": {},
     "nuid": "d92b2492-21ed-4ddc-9fb4-79f156f3ad90",
     "showTitle": false,
     "title": ""
    }
   },
   "outputs": [
    {
     "output_type": "display_data",
     "data": {
      "text/html": [
       "<style scoped>\n",
       "  .ansiout {\n",
       "    display: block;\n",
       "    unicode-bidi: embed;\n",
       "    white-space: pre-wrap;\n",
       "    word-wrap: break-word;\n",
       "    word-break: break-all;\n",
       "    font-family: \"Menlo\", \"Monaco\", \"Consolas\", \"Ubuntu Mono\", \"Source Code Pro\", monospace;\n",
       "    font-size: 13px;\n",
       "    color: #555;\n",
       "    margin-left: 4px;\n",
       "    line-height: 19px;\n",
       "  }\n",
       "</style>\n",
       "<div class=\"ansiout\">maxInDegree: (org.apache.spark.graphx.VertexId, Int) = (1,5)\n",
       "maxOutDegree: (org.apache.spark.graphx.VertexId, Int) = (2,3)\n",
       "maxDegree: (org.apache.spark.graphx.VertexId, Int) = (1,8)\n",
       "</div>"
      ]
     },
     "metadata": {
      "application/vnd.databricks.v1+output": {
       "addedWidgets": {},
       "arguments": {},
       "data": "<div class=\"ansiout\">maxInDegree: (org.apache.spark.graphx.VertexId, Int) = (1,5)\nmaxOutDegree: (org.apache.spark.graphx.VertexId, Int) = (2,3)\nmaxDegree: (org.apache.spark.graphx.VertexId, Int) = (1,8)\n</div>",
       "datasetInfos": [],
       "metadata": {},
       "removedWidgets": [],
       "type": "html"
      }
     },
     "output_type": "display_data"
    }
   ],
   "source": [
    "%scala\n",
    "val maxInDegree: (VertexId, Int)= graph.inDegrees.reduce(max)\n",
    "val maxOutDegree: (VertexId, Int)= graph.outDegrees.reduce(max)\n",
    "val maxDegree: (VertexId, Int)= graph.degrees.reduce(max)"
   ]
  },
  {
   "cell_type": "code",
   "execution_count": 0,
   "metadata": {
    "application/vnd.databricks.v1+cell": {
     "cellMetadata": {
      "byteLimit": 2048000,
      "rowLimit": 10000
     },
     "inputWidgets": {},
     "nuid": "56984fb1-0f46-4fa3-aebc-29bee776cb57",
     "showTitle": false,
     "title": ""
    }
   },
   "outputs": [
    {
     "output_type": "display_data",
     "data": {
      "text/html": [
       "<style scoped>\n",
       "  .ansiout {\n",
       "    display: block;\n",
       "    unicode-bidi: embed;\n",
       "    white-space: pre-wrap;\n",
       "    word-wrap: break-word;\n",
       "    word-break: break-all;\n",
       "    font-family: \"Menlo\", \"Monaco\", \"Consolas\", \"Ubuntu Mono\", \"Source Code Pro\", monospace;\n",
       "    font-size: 13px;\n",
       "    color: #555;\n",
       "    margin-left: 4px;\n",
       "    line-height: 19px;\n",
       "  }\n",
       "</style>\n",
       "<div class=\"ansiout\">minDegrees: org.apache.spark.graphx.VertexRDD[Int] = VertexRDDImpl[451] at RDD at VertexRDD.scala:57\n",
       "res9: Array[(org.apache.spark.graphx.VertexId, Int)] = Array((4,1), (6,1))\n",
       "</div>"
      ]
     },
     "metadata": {
      "application/vnd.databricks.v1+output": {
       "addedWidgets": {},
       "arguments": {},
       "data": "<div class=\"ansiout\">minDegrees: org.apache.spark.graphx.VertexRDD[Int] = VertexRDDImpl[451] at RDD at VertexRDD.scala:57\nres9: Array[(org.apache.spark.graphx.VertexId, Int)] = Array((4,1), (6,1))\n</div>",
       "datasetInfos": [],
       "metadata": {},
       "removedWidgets": [],
       "type": "html"
      }
     },
     "output_type": "display_data"
    }
   ],
   "source": [
    "%scala\n",
    "val minDegrees = graph.outDegrees.filter(_._2 <=1)\n",
    "minDegrees.collect()"
   ]
  },
  {
   "cell_type": "code",
   "execution_count": 0,
   "metadata": {
    "application/vnd.databricks.v1+cell": {
     "cellMetadata": {
      "byteLimit": 2048000,
      "rowLimit": 10000
     },
     "inputWidgets": {},
     "nuid": "10930151-0918-405d-add3-867ab8140e67",
     "showTitle": false,
     "title": ""
    }
   },
   "outputs": [
    {
     "output_type": "display_data",
     "data": {
      "text/html": [
       "<style scoped>\n",
       "  .ansiout {\n",
       "    display: block;\n",
       "    unicode-bidi: embed;\n",
       "    white-space: pre-wrap;\n",
       "    word-wrap: break-word;\n",
       "    word-break: break-all;\n",
       "    font-family: \"Menlo\", \"Monaco\", \"Consolas\", \"Ubuntu Mono\", \"Source Code Pro\", monospace;\n",
       "    font-size: 13px;\n",
       "    color: #555;\n",
       "    margin-left: 4px;\n",
       "    line-height: 19px;\n",
       "  }\n",
       "</style>\n",
       "<div class=\"ansiout\">Jacob is the Husband of Jessica\n",
       "Jessica is the Wife of Jacob\n",
       "Andrew is the Son of Jacob\n",
       "Emily is the Daughter of Jacob\n",
       "Emily is the Daughter of Jessica\n",
       "Lily is the Sister of Jacob\n",
       "Jacob is the Father of Andrew\n",
       "Jacob is the Father of Emily\n",
       "Jessica is the Mother of Andrew\n",
       "Jessica is the Mother of Emily\n",
       "Andrew is the Son of Jessica\n",
       "Ryan is the Friend of Jacob\n",
       "</div>"
      ]
     },
     "metadata": {
      "application/vnd.databricks.v1+output": {
       "addedWidgets": {},
       "arguments": {},
       "data": "<div class=\"ansiout\">Jacob is the Husband of Jessica\nJessica is the Wife of Jacob\nAndrew is the Son of Jacob\nEmily is the Daughter of Jacob\nEmily is the Daughter of Jessica\nLily is the Sister of Jacob\nJacob is the Father of Andrew\nJacob is the Father of Emily\nJessica is the Mother of Andrew\nJessica is the Mother of Emily\nAndrew is the Son of Jessica\nRyan is the Friend of Jacob\n</div>",
       "datasetInfos": [],
       "metadata": {},
       "removedWidgets": [],
       "type": "html"
      }
     },
     "output_type": "display_data"
    }
   ],
   "source": [
    "%scala\n",
    "graph.triplets.map(\n",
    "triplet => triplet.srcAttr._1 + \" is the \" + triplet.attr + \" of \" + triplet.dstAttr._1).collect.foreach(println)"
   ]
  },
  {
   "cell_type": "code",
   "execution_count": 0,
   "metadata": {
    "application/vnd.databricks.v1+cell": {
     "cellMetadata": {
      "byteLimit": 2048000,
      "rowLimit": 10000
     },
     "inputWidgets": {},
     "nuid": "d847bce8-f25e-4d4e-bef2-6d421c6aa92d",
     "showTitle": false,
     "title": ""
    }
   },
   "outputs": [
    {
     "output_type": "stream",
     "name": "stdout",
     "output_type": "stream",
     "text": [
      "3.3.2\n"
     ]
    }
   ],
   "source": [
    "print(sc.version)"
   ]
  },
  {
   "cell_type": "code",
   "execution_count": 0,
   "metadata": {
    "application/vnd.databricks.v1+cell": {
     "cellMetadata": {
      "byteLimit": 2048000,
      "rowLimit": 10000
     },
     "inputWidgets": {},
     "nuid": "784a2ef8-186c-4203-950a-1ceb3a6e7f2e",
     "showTitle": false,
     "title": ""
    }
   },
   "outputs": [],
   "source": [
    "#%scala\n",
    "#%python\n",
    "# from pyspark.sql.functions import *\n",
    "# from graphframes import *\n",
    "#dbutils.library.installPyPI()\n",
    "\n",
    "# Your code using GraphFrames here\n",
    "\n",
    "\n",
    "# //libraryDependencies += \"graphframes\" % \"graphframes\" % \"11.3.x-scala2.12\"\n",
    "# //sbt \"libraryDependencies += \\\"graphframes\\\" % \\\"graphframes\\\" % \\\"0.8.1-spark3.0-s_2.12\\\"\"\n",
    "# //libraryDependencies += \"org.apache.spark\" %% \"spark-core\" % \"3.1.2\"\n",
    "# //libraryDependencies += \"graphframes\" % \"graphframes\" % \"0.8.1-spark3.0-s_2.12\"\n",
    "\n",
    "# // libraryDependencies ++= Seq(\n",
    "# //   \"org.apache.spark\" % \"spark-core_2.12\" % \"3.2.0\",\n",
    "# //   \"org.apache.spark\" % \"spark-sql_2.12\" % \"3.2.0\",\n",
    "# //   \"graphframes\" % \"graphframes\" % \"0.8.1-spark3.2-s_2.12\"\n",
    "# // )\n",
    "\n",
    "# //$SPARK_HOME/bin/spark-shell --packages graphframes:graphframes:0.8.2-spark2.4-s_2.11\n",
    "\n",
    "# /*from pyspark.sql import SparkSession\n",
    "\n",
    "# spark = (\n",
    "#     SparkSession\n",
    "#     .builder\n",
    "#     .master('yarn')\n",
    "#     .appName('GraphFrames_Test')\n",
    "#     .config(\"spark.jars.packages\", \"graphframes:graphframes:0.8.1-spark2.4-s_2.11\")\n",
    "#     .config(\"spark.jars.repositories\", \"https://repos.spark-packages.org\")\n",
    "#     .getOrCreate()\n",
    "#     )*/"
   ]
  },
  {
   "cell_type": "code",
   "execution_count": 0,
   "metadata": {
    "application/vnd.databricks.v1+cell": {
     "cellMetadata": {
      "byteLimit": 2048000,
      "rowLimit": 10000
     },
     "inputWidgets": {},
     "nuid": "ceaade98-80e5-4d3f-8a8a-947c16e55ab1",
     "showTitle": false,
     "title": ""
    }
   },
   "outputs": [
    {
     "output_type": "display_data",
     "data": {
      "text/html": [
       "<style scoped>\n",
       "  .ansiout {\n",
       "    display: block;\n",
       "    unicode-bidi: embed;\n",
       "    white-space: pre-wrap;\n",
       "    word-wrap: break-word;\n",
       "    word-break: break-all;\n",
       "    font-family: \"Menlo\", \"Monaco\", \"Consolas\", \"Ubuntu Mono\", \"Source Code Pro\", monospace;\n",
       "    font-size: 13px;\n",
       "    color: #555;\n",
       "    margin-left: 4px;\n",
       "    line-height: 19px;\n",
       "  }\n",
       "</style>"
      ]
     },
     "metadata": {
      "application/vnd.databricks.v1+output": {
       "arguments": {},
       "data": "",
       "errorSummary": "<div class=\"ansiout\">command-2724542001904337:1: error: object graphframes is not a member of package org\nimport org.graphframes._\n           ^\n</div>",
       "errorTraceType": "html",
       "metadata": {},
       "type": "ipynbError"
      }
     },
     "output_type": "display_data"
    }
   ],
   "source": [
    "%scala\n",
    "import org.graphframes._\n",
    "val vertex = spark.createDataFrame(List(\n",
    "(\"1\",\"Jacob\",\"48\"),\n",
    "(\"2\",\"Jessica\",\"45\"),\n",
    "(\"3\",\"Andrew\",\"25\"),\n",
    "(\"4\",\"Ryan\",\"53\"),\n",
    "(\"5\",\"Emily\",\"22\"),\n",
    "(\"6\",\"Lily\",\"52\"),\n",
    ")).toDF(\"id\",\"name\",\"age\")"
   ]
  },
  {
   "cell_type": "code",
   "execution_count": 0,
   "metadata": {
    "application/vnd.databricks.v1+cell": {
     "cellMetadata": {
      "byteLimit": 2048000,
      "rowLimit": 10000
     },
     "inputWidgets": {},
     "nuid": "7b61281d-3f1d-4cda-b6ba-e90d0b0adb9b",
     "showTitle": false,
     "title": ""
    }
   },
   "outputs": [
    {
     "output_type": "display_data",
     "data": {
      "text/html": [
       "<style scoped>\n",
       "  .ansiout {\n",
       "    display: block;\n",
       "    unicode-bidi: embed;\n",
       "    white-space: pre-wrap;\n",
       "    word-wrap: break-word;\n",
       "    word-break: break-all;\n",
       "    font-family: \"Menlo\", \"Monaco\", \"Consolas\", \"Ubuntu Mono\", \"Source Code Pro\", monospace;\n",
       "    font-size: 13px;\n",
       "    color: #555;\n",
       "    margin-left: 4px;\n",
       "    line-height: 19px;\n",
       "  }\n",
       "</style>"
      ]
     },
     "metadata": {
      "application/vnd.databricks.v1+output": {
       "arguments": {},
       "data": "",
       "errorSummary": "Command skipped",
       "errorTraceType": "html",
       "metadata": {},
       "type": "ipynbError"
      }
     },
     "output_type": "display_data"
    }
   ],
   "source": [
    "%scala\n",
    "val edges = spark.createDataFrame(List(\n",
    "(\"6\",\"1\",\"Sister\"),\n",
    "(\"1\",\"2\",\"Husband\"),\n",
    "(\"2\",\"1\",\"Wife\"),\n",
    "(\"5\",\"1\",\"Daughter\"),\n",
    "(\"5\",\"2\",\"Daughter\"),\n",
    "(\"3\",\"1\",\"Son\"),\n",
    "(\"3\",\"2\",\"Son\"),\n",
    "(\"4\",\"1\",\"Friend\"),\n",
    "(\"1\",\"5\",\"Father\"),\n",
    "(\"1\",\"3\",\"Father\"),\n",
    "(\"2\",\"5\",\"Mother\"),\n",
    "(\"2\",\"3\",\"Mother\"),\n",
    ")).toDF(\"src\",\"dst\",\"relationship\")\n"
   ]
  },
  {
   "cell_type": "code",
   "execution_count": 0,
   "metadata": {
    "application/vnd.databricks.v1+cell": {
     "cellMetadata": {
      "byteLimit": 2048000,
      "rowLimit": 10000
     },
     "inputWidgets": {},
     "nuid": "f4bf108f-40be-4c89-9cc0-55dfba60a95b",
     "showTitle": false,
     "title": ""
    }
   },
   "outputs": [
    {
     "output_type": "display_data",
     "data": {
      "text/html": [
       "<style scoped>\n",
       "  .ansiout {\n",
       "    display: block;\n",
       "    unicode-bidi: embed;\n",
       "    white-space: pre-wrap;\n",
       "    word-wrap: break-word;\n",
       "    word-break: break-all;\n",
       "    font-family: \"Menlo\", \"Monaco\", \"Consolas\", \"Ubuntu Mono\", \"Source Code Pro\", monospace;\n",
       "    font-size: 13px;\n",
       "    color: #555;\n",
       "    margin-left: 4px;\n",
       "    line-height: 19px;\n",
       "  }\n",
       "</style>"
      ]
     },
     "metadata": {
      "application/vnd.databricks.v1+output": {
       "arguments": {},
       "data": "",
       "errorSummary": "Command skipped",
       "errorTraceType": "html",
       "metadata": {},
       "type": "ipynbError"
      }
     },
     "output_type": "display_data"
    }
   ],
   "source": [
    "%scala\n",
    "val graph = GraphFrame(vertex, edges)\n",
    "graph.vertices.show()\n",
    "graph.edges.show()\n",
    "graph.vertices.groupBy().min(\"age\").show()\n"
   ]
  },
  {
   "cell_type": "code",
   "execution_count": 0,
   "metadata": {
    "application/vnd.databricks.v1+cell": {
     "cellMetadata": {
      "byteLimit": 2048000,
      "rowLimit": 10000
     },
     "inputWidgets": {},
     "nuid": "668fdb2e-8f4f-4f40-a128-fc7e69e6cffa",
     "showTitle": false,
     "title": ""
    }
   },
   "outputs": [
    {
     "output_type": "display_data",
     "data": {
      "text/html": [
       "<style scoped>\n",
       "  .ansiout {\n",
       "    display: block;\n",
       "    unicode-bidi: embed;\n",
       "    white-space: pre-wrap;\n",
       "    word-wrap: break-word;\n",
       "    word-break: break-all;\n",
       "    font-family: \"Menlo\", \"Monaco\", \"Consolas\", \"Ubuntu Mono\", \"Source Code Pro\", monospace;\n",
       "    font-size: 13px;\n",
       "    color: #555;\n",
       "    margin-left: 4px;\n",
       "    line-height: 19px;\n",
       "  }\n",
       "</style>"
      ]
     },
     "metadata": {
      "application/vnd.databricks.v1+output": {
       "arguments": {},
       "data": "",
       "errorSummary": "Command skipped",
       "errorTraceType": "html",
       "metadata": {},
       "type": "ipynbError"
      }
     },
     "output_type": "display_data"
    }
   ],
   "source": [
    "%scala\n",
    "val motifs = graphPattern.find(\"(a)-[e]->(b); (b)-[e2]->(a)\")\n",
    "motifs.show()"
   ]
  },
  {
   "cell_type": "code",
   "execution_count": 0,
   "metadata": {
    "application/vnd.databricks.v1+cell": {
     "cellMetadata": {
      "byteLimit": 2048000,
      "rowLimit": 10000
     },
     "inputWidgets": {},
     "nuid": "dfae2496-fb03-4473-b188-c710d5d1144c",
     "showTitle": false,
     "title": ""
    }
   },
   "outputs": [
    {
     "output_type": "display_data",
     "data": {
      "text/html": [
       "<style scoped>\n",
       "  .ansiout {\n",
       "    display: block;\n",
       "    unicode-bidi: embed;\n",
       "    white-space: pre-wrap;\n",
       "    word-wrap: break-word;\n",
       "    word-break: break-all;\n",
       "    font-family: \"Menlo\", \"Monaco\", \"Consolas\", \"Ubuntu Mono\", \"Source Code Pro\", monospace;\n",
       "    font-size: 13px;\n",
       "    color: #555;\n",
       "    margin-left: 4px;\n",
       "    line-height: 19px;\n",
       "  }\n",
       "</style>"
      ]
     },
     "metadata": {
      "application/vnd.databricks.v1+output": {
       "arguments": {},
       "data": "",
       "errorSummary": "Command skipped",
       "errorTraceType": "html",
       "metadata": {},
       "type": "ipynbError"
      }
     },
     "output_type": "display_data"
    }
   ],
   "source": [
    "%scala\n",
    "import org.apache.spark.graphx._\n",
    "import org.apache.spark.rdd.RDD\n",
    "\n",
    "// Create a sample graph\n",
    "val vertexArray = Array(\n",
    "  (1L, (\"Alice\", 28)),\n",
    "  (2L, (\"Bob\", 27)),\n",
    "  (3L, (\"Charlie\", 65)),\n",
    "  (4L, (\"David\", 42)),\n",
    "  (5L, (\"Ed\", 55)),\n",
    "  (6L, (\"Fran\", 50))\n",
    ")\n",
    "val edgeArray = Array(\n",
    "  Edge(2L, 1L, \"friend\"),\n",
    "  Edge(2L, 4L, \"follow\"),\n",
    "  Edge(3L, 2L, \"follow\"),\n",
    "  Edge(3L, 6L, \"friend\"),\n",
    "  Edge(4L, 1L, \"friend\"),\n",
    "  Edge(5L, 2L, \"friend\"),\n",
    "  Edge(5L, 3L, \"follow\"),\n",
    "  Edge(5L, 6L, \"follow\")\n",
    ")\n",
    "val vertexRDD: RDD[(Long, (String, Int))] = sc.parallelize(vertexArray)\n",
    "val edgeRDD: RDD[Edge[String]] = sc.parallelize(edgeArray)\n",
    "val graph: Graph[(String, Int), String] = Graph(vertexRDD, edgeRDD)\n",
    "\n",
    "// Define the pattern to search for\n",
    "val motif = GraphPattern.find(graph, Seq(\n",
    "  (\"a\", None),\n",
    "  (\"b\", Some(\"friend\")),\n",
    "  (\"c\", Some(\"follow\"))\n",
    "), includeIsomorphisms = false)\n",
    "\n",
    "// Extract the subgraph matching the pattern\n",
    "val subgraph = graph.subgraph(motif.vertices.map(_.id), motif.edges.map(e => e.srcId -> e.dstId))\n",
    "\n",
    "// Print the vertices and edges of the subgraph\n",
    "println(\"Vertices:\")\n",
    "subgraph.vertices.collect.foreach(println)\n",
    "println(\"Edges:\")\n",
    "subgraph.edges.collect.foreach(println)\n"
   ]
  },
  {
   "cell_type": "code",
   "execution_count": 0,
   "metadata": {
    "application/vnd.databricks.v1+cell": {
     "cellMetadata": {
      "byteLimit": 2048000,
      "rowLimit": 10000
     },
     "inputWidgets": {},
     "nuid": "8810a9ea-147d-43b1-aa95-3939b57f4ec5",
     "showTitle": false,
     "title": ""
    }
   },
   "outputs": [
    {
     "output_type": "display_data",
     "data": {
      "text/html": [
       "<style scoped>\n",
       "  .ansiout {\n",
       "    display: block;\n",
       "    unicode-bidi: embed;\n",
       "    white-space: pre-wrap;\n",
       "    word-wrap: break-word;\n",
       "    word-break: break-all;\n",
       "    font-family: \"Menlo\", \"Monaco\", \"Consolas\", \"Ubuntu Mono\", \"Source Code Pro\", monospace;\n",
       "    font-size: 13px;\n",
       "    color: #555;\n",
       "    margin-left: 4px;\n",
       "    line-height: 19px;\n",
       "  }\n",
       "</style>"
      ]
     },
     "metadata": {
      "application/vnd.databricks.v1+output": {
       "arguments": {},
       "data": "",
       "errorSummary": "Command skipped",
       "errorTraceType": "html",
       "metadata": {},
       "type": "ipynbError"
      }
     },
     "output_type": "display_data"
    }
   ],
   "source": [
    "motifs.filter(\"b.age >30\").show()"
   ]
  },
  {
   "cell_type": "code",
   "execution_count": 0,
   "metadata": {
    "application/vnd.databricks.v1+cell": {
     "cellMetadata": {
      "byteLimit": 2048000,
      "rowLimit": 10000
     },
     "inputWidgets": {},
     "nuid": "21edec88-d2aa-45be-bec0-3ec1d54fdffa",
     "showTitle": false,
     "title": ""
    }
   },
   "outputs": [
    {
     "output_type": "stream",
     "name": "stdout",
     "output_type": "stream",
     "text": [
      "Python interpreter will be restarted.\nCollecting networkx\n  Downloading networkx-3.2-py3-none-any.whl (1.6 MB)\nInstalling collected packages: networkx\nSuccessfully installed networkx-3.2\nPython interpreter will be restarted.\n"
     ]
    }
   ],
   "source": [
    "pip install networkx\n"
   ]
  },
  {
   "cell_type": "code",
   "execution_count": 0,
   "metadata": {
    "application/vnd.databricks.v1+cell": {
     "cellMetadata": {
      "byteLimit": 2048000,
      "rowLimit": 10000
     },
     "inputWidgets": {},
     "nuid": "ca88ccc3-8bee-4a4e-9cde-927bd1b11c94",
     "showTitle": false,
     "title": ""
    }
   },
   "outputs": [],
   "source": [
    "import networkx as nx\n",
    "import matplotlib.pyplot as plt"
   ]
  },
  {
   "cell_type": "code",
   "execution_count": 0,
   "metadata": {
    "application/vnd.databricks.v1+cell": {
     "cellMetadata": {
      "byteLimit": 2048000,
      "rowLimit": 10000
     },
     "inputWidgets": {},
     "nuid": "812ed838-2864-45df-979d-07342db5bcef",
     "showTitle": false,
     "title": ""
    }
   },
   "outputs": [
    {
     "output_type": "display_data",
     "data": {
      "image/png": "[encoded data removed]"
     },
     "metadata": {
      "application/vnd.databricks.v1+output": {
       "addedWidgets": {},
       "arguments": {},
       "data": "data:image/png;base64,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\n",
       "datasetInfos": [],
       "metadata": {},
       "removedWidgets": [],
       "type": "image"
      }
     },
     "output_type": "display_data"
    }
   ],
   "source": [
    "# create an empty undirected graph \n",
    "G = nx.Graph()\n",
    " \n",
    "# adding edge in graph G\n",
    "G.add_edge(1, 2)\n",
    "#G.add_edge(2, 3)\n",
    "nx.draw_networkx(G)\n",
    "plt.show()"
   ]
  },
  {
   "cell_type": "code",
   "execution_count": 0,
   "metadata": {
    "application/vnd.databricks.v1+cell": {
     "cellMetadata": {
      "byteLimit": 2048000,
      "rowLimit": 10000
     },
     "inputWidgets": {},
     "nuid": "79b0574a-c427-4da6-9602-40f8cad5d153",
     "showTitle": false,
     "title": ""
    }
   },
   "outputs": [
    {
     "output_type": "display_data",
     "data": {
      "image/png": "[encoded data removed]"
     },
     "metadata": {
      "application/vnd.databricks.v1+output": {
       "addedWidgets": {},
       "arguments": {},
       "data": "data:image/png;base64,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\n",
       "datasetInfos": [],
       "metadata": {},
       "removedWidgets": [],
       "type": "image"
      }
     },
     "output_type": "display_data"
    }
   ],
   "source": [
    "G.add_nodes_from([3,4])\n",
    "nx.draw_networkx(G)\n",
    "plt.show()"
   ]
  },
  {
   "cell_type": "code",
   "execution_count": 0,
   "metadata": {
    "application/vnd.databricks.v1+cell": {
     "cellMetadata": {
      "byteLimit": 2048000,
      "rowLimit": 10000
     },
     "inputWidgets": {},
     "nuid": "b8cf8022-6906-4553-a863-6bf86d8019e7",
     "showTitle": false,
     "title": ""
    }
   },
   "outputs": [
    {
     "output_type": "display_data",
     "data": {
      "image/png": "[encoded data removed]"
     },
     "metadata": {
      "application/vnd.databricks.v1+output": {
       "addedWidgets": {},
       "arguments": {},
       "data": "data:image/png;base64,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\n",
       "datasetInfos": [],
       "metadata": {},
       "removedWidgets": [],
       "type": "image"
      }
     },
     "output_type": "display_data"
    }
   ],
   "source": [
    "G.add_edge(3,4)\n",
    "G.add_edges_from([(2,3),(4,1)])\n",
    "nx.draw_networkx(G)\n",
    "plt.show()"
   ]
  },
  {
   "cell_type": "code",
   "execution_count": 0,
   "metadata": {
    "application/vnd.databricks.v1+cell": {
     "cellMetadata": {
      "byteLimit": 2048000,
      "rowLimit": 10000
     },
     "inputWidgets": {},
     "nuid": "c1ab31ba-bb87-498b-91df-2bbd9ee7267b",
     "showTitle": false,
     "title": ""
    }
   },
   "outputs": [
    {
     "output_type": "stream",
     "name": "stdout",
     "output_type": "stream",
     "text": [
      "Out[5]: NodeView((1, 2, 3, 4))"
     ]
    }
   ],
   "source": [
    "G.nodes"
   ]
  },
  {
   "cell_type": "code",
   "execution_count": 0,
   "metadata": {
    "application/vnd.databricks.v1+cell": {
     "cellMetadata": {
      "byteLimit": 2048000,
      "rowLimit": 10000
     },
     "inputWidgets": {},
     "nuid": "86203a9e-aad4-4911-be94-28853b25f409",
     "showTitle": false,
     "title": ""
    }
   },
   "outputs": [
    {
     "output_type": "stream",
     "name": "stdout",
     "output_type": "stream",
     "text": [
      "Out[6]: EdgeView([(1, 2), (1, 4), (2, 3), (3, 4)])"
     ]
    }
   ],
   "source": [
    "G.edges"
   ]
  },
  {
   "cell_type": "code",
   "execution_count": 0,
   "metadata": {
    "application/vnd.databricks.v1+cell": {
     "cellMetadata": {
      "byteLimit": 2048000,
      "rowLimit": 10000
     },
     "inputWidgets": {},
     "nuid": "c918dc92-5750-4d68-b914-59f1191f60f2",
     "showTitle": false,
     "title": ""
    }
   },
   "outputs": [
    {
     "output_type": "stream",
     "name": "stdout",
     "output_type": "stream",
     "text": [
      "Out[7]: ['1 2 4', '2 3', '3 4', '4']"
     ]
    }
   ],
   "source": [
    "list(nx.generate_adjlist(G))"
   ]
  },
  {
   "cell_type": "code",
   "execution_count": 0,
   "metadata": {
    "application/vnd.databricks.v1+cell": {
     "cellMetadata": {
      "byteLimit": 2048000,
      "rowLimit": 10000
     },
     "inputWidgets": {},
     "nuid": "c082113a-eff3-437a-af7e-cb30563a449e",
     "showTitle": false,
     "title": ""
    }
   },
   "outputs": [
    {
     "output_type": "stream",
     "name": "stdout",
     "output_type": "stream",
     "text": [
      "Out[8]: {1: [2, 4], 2: [1, 3], 3: [4, 2], 4: [3, 1]}"
     ]
    }
   ],
   "source": [
    "nx.to_dict_of_lists(G)"
   ]
  },
  {
   "cell_type": "code",
   "execution_count": 0,
   "metadata": {
    "application/vnd.databricks.v1+cell": {
     "cellMetadata": {
      "byteLimit": 2048000,
      "rowLimit": 10000
     },
     "inputWidgets": {},
     "nuid": "6e1393d1-513c-4d1c-8821-de829fd19a35",
     "showTitle": false,
     "title": ""
    }
   },
   "outputs": [
    {
     "output_type": "stream",
     "name": "stdout",
     "output_type": "stream",
     "text": [
      "Out[9]: EdgeDataView([(1, 2, {}), (1, 4, {}), (2, 3, {}), (3, 4, {})])"
     ]
    }
   ],
   "source": [
    "nx.to_edgelist(G)"
   ]
  },
  {
   "cell_type": "code",
   "execution_count": 0,
   "metadata": {
    "application/vnd.databricks.v1+cell": {
     "cellMetadata": {
      "byteLimit": 2048000,
      "rowLimit": 10000
     },
     "inputWidgets": {},
     "nuid": "c3517705-07bc-443b-9b8b-0b1c14a45495",
     "showTitle": false,
     "title": ""
    }
   },
   "outputs": [
    {
     "output_type": "display_data",
     "data": {
      "text/html": [
       "<div>\n",
       "<style scoped>\n",
       "    .dataframe tbody tr th:only-of-type {\n",
       "        vertical-align: middle;\n",
       "    }\n",
       "\n",
       "    .dataframe tbody tr th {\n",
       "        vertical-align: top;\n",
       "    }\n",
       "\n",
       "    .dataframe thead th {\n",
       "        text-align: right;\n",
       "    }\n",
       "</style>\n",
       "<table border=\"1\" class=\"dataframe\">\n",
       "  <thead>\n",
       "    <tr style=\"text-align: right;\">\n",
       "      <th></th>\n",
       "      <th>1</th>\n",
       "      <th>2</th>\n",
       "      <th>3</th>\n",
       "      <th>4</th>\n",
       "    </tr>\n",
       "  </thead>\n",
       "  <tbody>\n",
       "    <tr>\n",
       "      <th>1</th>\n",
       "      <td>0.0</td>\n",
       "      <td>1.0</td>\n",
       "      <td>0.0</td>\n",
       "      <td>1.0</td>\n",
       "    </tr>\n",
       "    <tr>\n",
       "      <th>2</th>\n",
       "      <td>1.0</td>\n",
       "      <td>0.0</td>\n",
       "      <td>1.0</td>\n",
       "      <td>0.0</td>\n",
       "    </tr>\n",
       "    <tr>\n",
       "      <th>3</th>\n",
       "      <td>0.0</td>\n",
       "      <td>1.0</td>\n",
       "      <td>0.0</td>\n",
       "      <td>1.0</td>\n",
       "    </tr>\n",
       "    <tr>\n",
       "      <th>4</th>\n",
       "      <td>1.0</td>\n",
       "      <td>0.0</td>\n",
       "      <td>1.0</td>\n",
       "      <td>0.0</td>\n",
       "    </tr>\n",
       "  </tbody>\n",
       "</table>\n",
       "</div>"
      ]
     },
     "metadata": {
      "application/vnd.databricks.v1+output": {
       "addedWidgets": {},
       "arguments": {},
       "data": "<div>\n<style scoped>\n    .dataframe tbody tr th:only-of-type {\n        vertical-align: middle;\n    }\n\n    .dataframe tbody tr th {\n        vertical-align: top;\n    }\n\n    .dataframe thead th {\n        text-align: right;\n    }\n</style>\n<table border=\"1\" class=\"dataframe\">\n  <thead>\n    <tr style=\"text-align: right;\">\n      <th></th>\n      <th>1</th>\n      <th>2</th>\n      <th>3</th>\n      <th>4</th>\n    </tr>\n  </thead>\n  <tbody>\n    <tr>\n      <th>1</th>\n      <td>0.0</td>\n      <td>1.0</td>\n      <td>0.0</td>\n      <td>1.0</td>\n    </tr>\n    <tr>\n      <th>2</th>\n      <td>1.0</td>\n      <td>0.0</td>\n      <td>1.0</td>\n      <td>0.0</td>\n    </tr>\n    <tr>\n      <th>3</th>\n      <td>0.0</td>\n      <td>1.0</td>\n      <td>0.0</td>\n      <td>1.0</td>\n    </tr>\n    <tr>\n      <th>4</th>\n      <td>1.0</td>\n      <td>0.0</td>\n      <td>1.0</td>\n      <td>0.0</td>\n    </tr>\n  </tbody>\n</table>\n</div>",
       "datasetInfos": [],
       "metadata": {},
       "removedWidgets": [],
       "textData": null,
       "type": "htmlSandbox"
      }
     },
     "output_type": "display_data"
    }
   ],
   "source": [
    "nx.to_pandas_adjacency(G)"
   ]
  },
  {
   "cell_type": "code",
   "execution_count": 0,
   "metadata": {
    "application/vnd.databricks.v1+cell": {
     "cellMetadata": {
      "byteLimit": 2048000,
      "rowLimit": 10000
     },
     "inputWidgets": {},
     "nuid": "4972cb97-f8bc-4ece-bfdc-2eb3cdc90ff0",
     "showTitle": false,
     "title": ""
    }
   },
   "outputs": [],
   "source": []
  },
  {
   "cell_type": "code",
   "execution_count": 0,
   "metadata": {
    "application/vnd.databricks.v1+cell": {
     "cellMetadata": {
      "byteLimit": 2048000,
      "rowLimit": 10000
     },
     "inputWidgets": {},
     "nuid": "3c950b75-97ee-4b3c-9c24-301b24367cfa",
     "showTitle": false,
     "title": ""
    }
   },
   "outputs": [
    {
     "output_type": "display_data",
     "data": {
      "image/png": "[encoded data removed]"
     },
     "metadata": {
      "application/vnd.databricks.v1+output": {
       "addedWidgets": {},
       "arguments": {},
       "data": "data:image/png;base64,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\n",
       "datasetInfos": [],
       "metadata": {},
       "removedWidgets": [],
       "type": "image"
      }
     },
     "output_type": "display_data"
    }
   ],
   "source": [
    "G.add_edge(1,3)\n",
    "nx.draw_networkx(G)\n",
    "plt.show()"
   ]
  },
  {
   "cell_type": "code",
   "execution_count": 0,
   "metadata": {
    "application/vnd.databricks.v1+cell": {
     "cellMetadata": {
      "byteLimit": 2048000,
      "rowLimit": 10000
     },
     "inputWidgets": {},
     "nuid": "bb04d138-5755-4d68-82b4-1e025119b500",
     "showTitle": false,
     "title": ""
    }
   },
   "outputs": [
    {
     "output_type": "stream",
     "name": "stdout",
     "output_type": "stream",
     "text": [
      "Out[12]: DegreeView({1: 3, 2: 2, 3: 3, 4: 2})"
     ]
    }
   ],
   "source": [
    "G.degree"
   ]
  },
  {
   "cell_type": "code",
   "execution_count": 0,
   "metadata": {
    "application/vnd.databricks.v1+cell": {
     "cellMetadata": {
      "byteLimit": 2048000,
      "rowLimit": 10000
     },
     "inputWidgets": {},
     "nuid": "9673ff4d-c4e1-4869-b4be-8a2816d39623",
     "showTitle": false,
     "title": ""
    }
   },
   "outputs": [
    {
     "output_type": "stream",
     "name": "stdout",
     "output_type": "stream",
     "text": [
      "Out[13]: (array([  24.,  268.,  916., 2418., 2787., 2305., 1019.,  220.,   39.,\n           4.]),\n array([ 66. ,  73.6,  81.2,  88.8,  96.4, 104. , 111.6, 119.2, 126.8,\n        134.4, 142. ]),\n <BarContainer object of 10 artists>)"
     ]
    },
    {
     "output_type": "display_data",
     "data": {
      "image/png": "[encoded data removed]"
     },
     "metadata": {
      "application/vnd.databricks.v1+output": {
       "addedWidgets": {},
       "arguments": {},
       "data": "data:image/png;base64,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\n",
       "datasetInfos": [],
       "metadata": {},
       "removedWidgets": [],
       "type": "image"
      }
     },
     "output_type": "display_data"
    }
   ],
   "source": [
    "k=nx.fast_gnp_random_graph(10000, 0.01).degree()\n",
    "plt.hist(list(dict(k).values()))"
   ]
  },
  {
   "cell_type": "code",
   "execution_count": 0,
   "metadata": {
    "application/vnd.databricks.v1+cell": {
     "cellMetadata": {
      "byteLimit": 2048000,
      "rowLimit": 10000
     },
     "inputWidgets": {},
     "nuid": "8732b9fe-b79a-4ba3-8eb7-a75b74e96589",
     "showTitle": false,
     "title": ""
    }
   },
   "outputs": [
    {
     "output_type": "display_data",
     "data": {
      "image/png": "[encoded data removed]"
     },
     "metadata": {
      "application/vnd.databricks.v1+output": {
       "addedWidgets": {},
       "arguments": {},
       "data": "data:image/png;base64,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\n",
       "datasetInfos": [],
       "metadata": {},
       "removedWidgets": [],
       "type": "image"
      }
     },
     "output_type": "display_data"
    }
   ],
   "source": [
    "G=nx.krackhardt_kite_graph()\n",
    "nx.draw_networkx(G)\n",
    "plt.show()"
   ]
  },
  {
   "cell_type": "code",
   "execution_count": 0,
   "metadata": {
    "application/vnd.databricks.v1+cell": {
     "cellMetadata": {
      "byteLimit": 2048000,
      "rowLimit": 10000
     },
     "inputWidgets": {},
     "nuid": "2ebf6ada-3781-45c7-bcc9-460236a44e57",
     "showTitle": false,
     "title": ""
    }
   },
   "outputs": [
    {
     "output_type": "stream",
     "name": "stdout",
     "output_type": "stream",
     "text": [
      "True\n[1, 6, 7, 8, 9]\n4\n[[1, 6, 7, 8, 9], [1, 0, 5, 7, 8, 9], [1, 6, 5, 7, 8, 9], [1, 3, 5, 7, 8, 9], [1, 4, 6, 7, 8, 9], [1, 3, 6, 7, 8, 9], [1, 0, 2, 5, 7, 8, 9], [1, 0, 5, 6, 7, 8, 9], [1, 6, 3, 5, 7, 8, 9], [1, 3, 5, 6, 7, 8, 9], [1, 4, 3, 5, 7, 8, 9], [1, 4, 6, 5, 7, 8, 9], [1, 3, 0, 5, 7, 8, 9], [1, 3, 6, 5, 7, 8, 9], [1, 0, 3, 5, 7, 8, 9], [1, 4, 3, 6, 7, 8, 9], [1, 3, 2, 5, 7, 8, 9], [1, 0, 3, 6, 7, 8, 9], [1, 3, 4, 6, 7, 8, 9], [1, 0, 2, 3, 5, 7, 8, 9], [1, 0, 2, 5, 6, 7, 8, 9], [1, 0, 5, 3, 6, 7, 8, 9], [1, 6, 4, 3, 5, 7, 8, 9], [1, 6, 3, 0, 5, 7, 8, 9], [1, 4, 3, 5, 6, 7, 8, 9], [1, 4, 6, 3, 5, 7, 8, 9], [1, 3, 0, 2, 5, 7, 8, 9], [1, 3, 0, 5, 6, 7, 8, 9], [1, 0, 3, 5, 6, 7, 8, 9], [1, 4, 3, 0, 5, 7, 8, 9], [1, 4, 3, 6, 5, 7, 8, 9], [1, 3, 2, 0, 5, 7, 8, 9], [1, 3, 2, 5, 6, 7, 8, 9], [1, 0, 3, 2, 5, 7, 8, 9], [1, 0, 3, 6, 5, 7, 8, 9], [1, 3, 4, 6, 5, 7, 8, 9], [1, 0, 2, 3, 6, 7, 8, 9], [1, 6, 3, 2, 5, 7, 8, 9], [1, 4, 3, 2, 5, 7, 8, 9], [1, 0, 3, 4, 6, 7, 8, 9], [1, 0, 2, 3, 5, 6, 7, 8, 9], [1, 0, 2, 5, 3, 6, 7, 8, 9], [1, 0, 5, 2, 3, 6, 7, 8, 9], [1, 0, 5, 3, 4, 6, 7, 8, 9], [1, 6, 4, 3, 0, 5, 7, 8, 9], [1, 6, 3, 0, 2, 5, 7, 8, 9], [1, 4, 6, 3, 0, 5, 7, 8, 9], [1, 3, 0, 2, 5, 6, 7, 8, 9], [1, 4, 3, 0, 2, 5, 7, 8, 9], [1, 4, 3, 0, 5, 6, 7, 8, 9], [1, 3, 2, 0, 5, 6, 7, 8, 9], [1, 0, 3, 2, 5, 6, 7, 8, 9], [1, 0, 2, 3, 4, 6, 7, 8, 9], [1, 0, 2, 3, 6, 5, 7, 8, 9], [1, 6, 3, 2, 0, 5, 7, 8, 9], [1, 4, 3, 2, 0, 5, 7, 8, 9], [1, 4, 3, 2, 5, 6, 7, 8, 9], [1, 0, 3, 4, 6, 5, 7, 8, 9], [1, 6, 4, 3, 2, 5, 7, 8, 9], [1, 4, 6, 3, 2, 5, 7, 8, 9], [1, 0, 2, 5, 3, 4, 6, 7, 8, 9], [1, 0, 5, 2, 3, 4, 6, 7, 8, 9], [1, 6, 4, 3, 0, 2, 5, 7, 8, 9], [1, 4, 6, 3, 0, 2, 5, 7, 8, 9], [1, 4, 3, 0, 2, 5, 6, 7, 8, 9], [1, 0, 2, 3, 4, 6, 5, 7, 8, 9], [1, 4, 3, 2, 0, 5, 6, 7, 8, 9], [1, 6, 4, 3, 2, 0, 5, 7, 8, 9], [1, 4, 6, 3, 2, 0, 5, 7, 8, 9]]\nOut[15]: {5: [5],\n 0: [5, 0],\n 2: [5, 2],\n 3: [5, 3],\n 6: [5, 6],\n 7: [5, 7],\n 1: [5, 0, 1],\n 4: [5, 3, 4],\n 8: [5, 7, 8],\n 9: [5, 7, 8, 9]}"
     ]
    }
   ],
   "source": [
    "print(nx.has_path(G,source=1, target=9))\n",
    "print(nx.shortest_path(G, source=1, target=9))\n",
    "print(nx.shortest_path_length(G, source=1, target=9))\n",
    "print(list(nx.shortest_simple_paths(G, source=1, target=9)))\n",
    "paths=list(nx.all_pairs_shortest_path(G))\n",
    "paths[5][1]"
   ]
  },
  {
   "cell_type": "code",
   "execution_count": 0,
   "metadata": {
    "application/vnd.databricks.v1+cell": {
     "cellMetadata": {
      "byteLimit": 2048000,
      "rowLimit": 10000
     },
     "inputWidgets": {},
     "nuid": "ded4a406-9fdb-4b73-9333-5275f1fd223e",
     "showTitle": false,
     "title": ""
    }
   },
   "outputs": [
    {
     "output_type": "stream",
     "name": "stdout",
     "output_type": "stream",
     "text": [
      "Out[16]: {0: 0.023148148148148143,\n 1: 0.023148148148148143,\n 2: 0.0,\n 3: 0.10185185185185183,\n 4: 0.0,\n 5: 0.23148148148148148,\n 6: 0.23148148148148148,\n 7: 0.38888888888888884,\n 8: 0.2222222222222222,\n 9: 0.0}"
     ]
    }
   ],
   "source": [
    "#importance of node inside the network - centrality\n",
    "nx.betweenness_centrality(G)\n"
   ]
  },
  {
   "cell_type": "code",
   "execution_count": 0,
   "metadata": {
    "application/vnd.databricks.v1+cell": {
     "cellMetadata": {
      "byteLimit": 2048000,
      "rowLimit": 10000
     },
     "inputWidgets": {},
     "nuid": "946abf98-6aa0-4cbe-be9f-81e15bea3454",
     "showTitle": false,
     "title": ""
    }
   },
   "outputs": [
    {
     "output_type": "stream",
     "name": "stdout",
     "output_type": "stream",
     "text": [
      "Out[17]: {0: 0.4444444444444444,\n 1: 0.4444444444444444,\n 2: 0.3333333333333333,\n 3: 0.6666666666666666,\n 4: 0.3333333333333333,\n 5: 0.5555555555555556,\n 6: 0.5555555555555556,\n 7: 0.3333333333333333,\n 8: 0.2222222222222222,\n 9: 0.1111111111111111}"
     ]
    }
   ],
   "source": [
    "nx.degree_centrality(G)"
   ]
  },
  {
   "cell_type": "code",
   "execution_count": 0,
   "metadata": {
    "application/vnd.databricks.v1+cell": {
     "cellMetadata": {
      "byteLimit": 2048000,
      "rowLimit": 10000
     },
     "inputWidgets": {},
     "nuid": "649cab88-d9d4-4af6-87de-cc8109d28b50",
     "showTitle": false,
     "title": ""
    }
   },
   "outputs": [
    {
     "output_type": "stream",
     "name": "stdout",
     "output_type": "stream",
     "text": [
      "Out[18]: {0: 0.5294117647058824,\n 1: 0.5294117647058824,\n 2: 0.5,\n 3: 0.6,\n 4: 0.5,\n 5: 0.6428571428571429,\n 6: 0.6428571428571429,\n 7: 0.6,\n 8: 0.42857142857142855,\n 9: 0.3103448275862069}"
     ]
    }
   ],
   "source": [
    "nx.closeness_centrality(G)"
   ]
  },
  {
   "cell_type": "code",
   "execution_count": 0,
   "metadata": {
    "application/vnd.databricks.v1+cell": {
     "cellMetadata": {
      "byteLimit": 2048000,
      "rowLimit": 10000
     },
     "inputWidgets": {},
     "nuid": "03e0a412-8210-4956-9413-45b553ee4f86",
     "showTitle": false,
     "title": ""
    }
   },
   "outputs": [
    {
     "output_type": "stream",
     "name": "stdout",
     "output_type": "stream",
     "text": [
      "Out[19]: {0: 6.083333333333333,\n 1: 6.083333333333333,\n 2: 5.583333333333333,\n 3: 7.083333333333333,\n 4: 5.583333333333333,\n 5: 6.833333333333333,\n 6: 6.833333333333333,\n 7: 6.0,\n 8: 4.666666666666666,\n 9: 3.4166666666666665}"
     ]
    }
   ],
   "source": [
    "nx.harmonic_centrality(G)"
   ]
  },
  {
   "cell_type": "code",
   "execution_count": 0,
   "metadata": {
    "application/vnd.databricks.v1+cell": {
     "cellMetadata": {
      "byteLimit": 2048000,
      "rowLimit": 10000
     },
     "inputWidgets": {},
     "nuid": "3f1a2d40-d607-4b8f-8329-5cf4e1b80430",
     "showTitle": false,
     "title": ""
    }
   },
   "outputs": [
    {
     "output_type": "stream",
     "name": "stdout",
     "output_type": "stream",
     "text": [
      "Out[20]: {0: 0.3522089813920359,\n 1: 0.3522089813920358,\n 2: 0.28583473531632403,\n 3: 0.48102048812210046,\n 4: 0.28583473531632403,\n 5: 0.3976910106255469,\n 6: 0.39769101062554685,\n 7: 0.19586185175360382,\n 8: 0.048074775014202924,\n 9: 0.011164058575824235}"
     ]
    }
   ],
   "source": [
    "nx.eigenvector_centrality(G)"
   ]
  },
  {
   "cell_type": "code",
   "execution_count": 0,
   "metadata": {
    "application/vnd.databricks.v1+cell": {
     "cellMetadata": {
      "byteLimit": 2048000,
      "rowLimit": 10000
     },
     "inputWidgets": {},
     "nuid": "6b60cd42-8548-4ffa-9a90-c7d8beffa07b",
     "showTitle": false,
     "title": ""
    }
   },
   "outputs": [
    {
     "output_type": "stream",
     "name": "stdout",
     "output_type": "stream",
     "text": [
      "Out[21]: {0: 0.6666666666666666,\n 1: 0.6666666666666666,\n 2: 1.0,\n 3: 0.5333333333333333,\n 4: 1.0,\n 5: 0.5,\n 6: 0.5,\n 7: 0.3333333333333333,\n 8: 0,\n 9: 0}"
     ]
    }
   ],
   "source": [
    "\n",
    "nx.clustering(G)"
   ]
  },
  {
   "cell_type": "code",
   "execution_count": 0,
   "metadata": {
    "application/vnd.databricks.v1+cell": {
     "cellMetadata": {
      "byteLimit": 2048000,
      "rowLimit": 10000
     },
     "inputWidgets": {},
     "nuid": "70e54e83-cf88-49c2-a2ca-d5de9277aa4f",
     "showTitle": false,
     "title": ""
    }
   },
   "outputs": [
    {
     "output_type": "display_data",
     "data": {
      "image/png": "[encoded data removed]"
     },
     "metadata": {
      "application/vnd.databricks.v1+output": {
       "addedWidgets": {},
       "arguments": {},
       "data": "data:image/png;base64,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\n",
       "datasetInfos": [],
       "metadata": {},
       "removedWidgets": [],
       "type": "image"
      }
     },
     "output_type": "display_data"
    }
   ],
   "source": [
    "# import matplotlib.pyplot library\n",
    "import matplotlib.pyplot as plt\n",
    " \n",
    "# create a cubical empty graph\n",
    "G = nx.cubical_graph()\n",
    " \n",
    "# plotting the graph\n",
    "plt.subplot(122)\n",
    " \n",
    "# draw a graph with red \n",
    "# node and value edge color\n",
    "nx.draw(G, pos = nx.circular_layout(G), \n",
    "        node_color = 'r',\n",
    "        edge_color = 'b')"
   ]
  },
  {
   "cell_type": "code",
   "execution_count": 0,
   "metadata": {
    "application/vnd.databricks.v1+cell": {
     "cellMetadata": {
      "byteLimit": 2048000,
      "rowLimit": 10000
     },
     "inputWidgets": {},
     "nuid": "b33c5cd7-7027-4744-8445-b84e8f5710eb",
     "showTitle": false,
     "title": ""
    }
   },
   "outputs": [
    {
     "output_type": "stream",
     "name": "stdout",
     "output_type": "stream",
     "text": [
      "{0: {1: {}, 3: {}, 4: {}}, 1: {0: {}, 2: {}, 7: {}}, 2: {1: {}, 3: {}, 6: {}}, 3: {0: {}, 2: {}, 5: {}}, 4: {0: {}, 5: {}, 7: {}}, 5: {3: {}, 4: {}, 6: {}}, 6: {2: {}, 5: {}, 7: {}}, 7: {1: {}, 4: {}, 6: {}}}\n"
     ]
    }
   ],
   "source": [
    "# print the adjacent vertices\n",
    "print(G.adj)"
   ]
  },
  {
   "cell_type": "code",
   "execution_count": 0,
   "metadata": {
    "application/vnd.databricks.v1+cell": {
     "cellMetadata": {
      "byteLimit": 2048000,
      "rowLimit": 10000
     },
     "inputWidgets": {},
     "nuid": "5a7c8bd0-e13c-490f-a565-68e26ca3d848",
     "showTitle": false,
     "title": ""
    }
   },
   "outputs": [
    {
     "output_type": "display_data",
     "data": {
      "text/plain": [
       "\u001B[0;31m---------------------------------------------------------------------------\u001B[0m\n",
       "\u001B[0;31mModuleNotFoundError\u001B[0m                       Traceback (most recent call last)\n",
       "File \u001B[0;32m<command-4016012216069854>:2\u001B[0m\n",
       "\u001B[1;32m      1\u001B[0m \u001B[38;5;66;03m# large graph example Louvain method\u001B[39;00m\n",
       "\u001B[0;32m----> 2\u001B[0m \u001B[38;5;28;01mimport\u001B[39;00m \u001B[38;5;21;01mcommunity\u001B[39;00m\n",
       "\n",
       "File \u001B[0;32m/databricks/python_shell/dbruntime/PythonPackageImportsInstrumentation/__init__.py:171\u001B[0m, in \u001B[0;36m_create_import_patch.<locals>.import_patch\u001B[0;34m(name, globals, locals, fromlist, level)\u001B[0m\n",
       "\u001B[1;32m    166\u001B[0m thread_local\u001B[38;5;241m.\u001B[39m_nest_level \u001B[38;5;241m+\u001B[39m\u001B[38;5;241m=\u001B[39m \u001B[38;5;241m1\u001B[39m\n",
       "\u001B[1;32m    168\u001B[0m \u001B[38;5;28;01mtry\u001B[39;00m:\n",
       "\u001B[1;32m    169\u001B[0m     \u001B[38;5;66;03m# Import the desired module. If you’re seeing this while debugging a failed import,\u001B[39;00m\n",
       "\u001B[1;32m    170\u001B[0m     \u001B[38;5;66;03m# look at preceding stack frames for relevant error information.\u001B[39;00m\n",
       "\u001B[0;32m--> 171\u001B[0m     original_result \u001B[38;5;241m=\u001B[39m \u001B[43mpython_builtin_import\u001B[49m\u001B[43m(\u001B[49m\u001B[43mname\u001B[49m\u001B[43m,\u001B[49m\u001B[43m \u001B[49m\u001B[38;5;28;43mglobals\u001B[39;49m\u001B[43m,\u001B[49m\u001B[43m \u001B[49m\u001B[38;5;28;43mlocals\u001B[39;49m\u001B[43m,\u001B[49m\u001B[43m \u001B[49m\u001B[43mfromlist\u001B[49m\u001B[43m,\u001B[49m\u001B[43m \u001B[49m\u001B[43mlevel\u001B[49m\u001B[43m)\u001B[49m\n",
       "\u001B[1;32m    173\u001B[0m     is_root_import \u001B[38;5;241m=\u001B[39m thread_local\u001B[38;5;241m.\u001B[39m_nest_level \u001B[38;5;241m==\u001B[39m \u001B[38;5;241m1\u001B[39m\n",
       "\u001B[1;32m    174\u001B[0m     \u001B[38;5;66;03m# `level` represents the number of leading dots in a relative import statement.\u001B[39;00m\n",
       "\u001B[1;32m    175\u001B[0m     \u001B[38;5;66;03m# If it's zero, then this is an absolute import.\u001B[39;00m\n",
       "\n",
       "\u001B[0;31mModuleNotFoundError\u001B[0m: No module named 'community'"
      ]
     },
     "metadata": {
      "application/vnd.databricks.v1+output": {
       "arguments": {},
       "data": "\u001B[0;31m---------------------------------------------------------------------------\u001B[0m\n\u001B[0;31mModuleNotFoundError\u001B[0m                       Traceback (most recent call last)\nFile \u001B[0;32m<command-4016012216069854>:2\u001B[0m\n\u001B[1;32m      1\u001B[0m \u001B[38;5;66;03m# large graph example Louvain method\u001B[39;00m\n\u001B[0;32m----> 2\u001B[0m \u001B[38;5;28;01mimport\u001B[39;00m \u001B[38;5;21;01mcommunity\u001B[39;00m\n\nFile \u001B[0;32m/databricks/python_shell/dbruntime/PythonPackageImportsInstrumentation/__init__.py:171\u001B[0m, in \u001B[0;36m_create_import_patch.<locals>.import_patch\u001B[0;34m(name, globals, locals, fromlist, level)\u001B[0m\n\u001B[1;32m    166\u001B[0m thread_local\u001B[38;5;241m.\u001B[39m_nest_level \u001B[38;5;241m+\u001B[39m\u001B[38;5;241m=\u001B[39m \u001B[38;5;241m1\u001B[39m\n\u001B[1;32m    168\u001B[0m \u001B[38;5;28;01mtry\u001B[39;00m:\n\u001B[1;32m    169\u001B[0m     \u001B[38;5;66;03m# Import the desired module. If you’re seeing this while debugging a failed import,\u001B[39;00m\n\u001B[1;32m    170\u001B[0m     \u001B[38;5;66;03m# look at preceding stack frames for relevant error information.\u001B[39;00m\n\u001B[0;32m--> 171\u001B[0m     original_result \u001B[38;5;241m=\u001B[39m \u001B[43mpython_builtin_import\u001B[49m\u001B[43m(\u001B[49m\u001B[43mname\u001B[49m\u001B[43m,\u001B[49m\u001B[43m \u001B[49m\u001B[38;5;28;43mglobals\u001B[39;49m\u001B[43m,\u001B[49m\u001B[43m \u001B[49m\u001B[38;5;28;43mlocals\u001B[39;49m\u001B[43m,\u001B[49m\u001B[43m \u001B[49m\u001B[43mfromlist\u001B[49m\u001B[43m,\u001B[49m\u001B[43m \u001B[49m\u001B[43mlevel\u001B[49m\u001B[43m)\u001B[49m\n\u001B[1;32m    173\u001B[0m     is_root_import \u001B[38;5;241m=\u001B[39m thread_local\u001B[38;5;241m.\u001B[39m_nest_level \u001B[38;5;241m==\u001B[39m \u001B[38;5;241m1\u001B[39m\n\u001B[1;32m    174\u001B[0m     \u001B[38;5;66;03m# `level` represents the number of leading dots in a relative import statement.\u001B[39;00m\n\u001B[1;32m    175\u001B[0m     \u001B[38;5;66;03m# If it's zero, then this is an absolute import.\u001B[39;00m\n\n\u001B[0;31mModuleNotFoundError\u001B[0m: No module named 'community'",
       "errorSummary": "<span class='ansi-red-fg'>ModuleNotFoundError</span>: No module named 'community'",
       "errorTraceType": "ansi",
       "metadata": {},
       "type": "ipynbError"
      }
     },
     "output_type": "display_data"
    }
   ],
   "source": [
    "# large graph example Louvain method"
   ]
  }
 ],
 "metadata": {
  "application/vnd.databricks.v1+notebook": {
   "dashboards": [],
   "language": "python",
   "notebookMetadata": {
    "pythonIndentUnit": 4
   },
   "notebookName": "Graph Demo",
   "widgets": {}
  }
 },
 "nbformat": 4,
 "nbformat_minor": 0
}
