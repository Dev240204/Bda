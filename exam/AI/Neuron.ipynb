{
 "cells": [
  {
   "cell_type": "code",
   "execution_count": 2,
   "metadata": {},
   "outputs": [
    {
     "name": "stdout",
     "output_type": "stream",
     "text": [
      "42\n",
      "Neuron([1, 2, 3], 4)\n",
      "[42, 42]\n",
      "Layer with (2) neurons\n",
      "[130, 130]\n",
      "NeuralNetwork([<__main__.Layer object at 0x000002B98F1D0F90>, <__main__.Layer object at 0x000002B98F1D0F90>])\n"
     ]
    }
   ],
   "source": [
    "class Neuron:\n",
    "    def __init__(self, weights, bias):\n",
    "        self.weights = weights\n",
    "        self.bias = bias\n",
    "\n",
    "    def calculate_output(self, inputs):\n",
    "        output = 0\n",
    "        for i in range(len(inputs)):\n",
    "            output += inputs[i] * self.weights[i]\n",
    "        output += self.bias\n",
    "        return output\n",
    "    \n",
    "    def __str__(self):\n",
    "        return f\"Neuron({self.weights}, {self.bias})\"\n",
    "    \n",
    "\n",
    "class Layer:\n",
    "    def __init__(self, neurons):\n",
    "        self.neurons = neurons\n",
    "\n",
    "    def calculate_output(self, inputs):\n",
    "        return [neuron.calculate_output(inputs) for neuron in self.neurons]\n",
    "\n",
    "    def __str__(self):\n",
    "        return f\"Layer with ({len(self.neurons)}) neurons\"\n",
    "\n",
    "class NeuralNetwork:\n",
    "    def __init__(self, layers):\n",
    "        self.layers = layers\n",
    "\n",
    "    def calculate_output(self, inputs):\n",
    "        for layer in self.layers:\n",
    "            inputs = layer.calculate_output(inputs)\n",
    "        return inputs\n",
    "\n",
    "    def __str__(self):\n",
    "        return f\"NeuralNetwork({self.layers})\"\n",
    "\n",
    "if __name__ == \"__main__\":\n",
    "    # Test the Neuron class\n",
    "    neuron = Neuron([1, 2, 3], 4)\n",
    "    print(neuron.calculate_output([5, 6, 7]))\n",
    "    print(neuron)\n",
    "\n",
    "    # Test the Layer class\n",
    "    layer = Layer([neuron, neuron])\n",
    "    print(layer.calculate_output([5, 6, 7]))\n",
    "    print(layer)\n",
    "\n",
    "    # Test the NeuralNetwork class\n",
    "    neural_network = NeuralNetwork([layer, layer])\n",
    "    print(neural_network.calculate_output([5, 6, 7]))\n",
    "    print(neural_network)"
   ]
  },
  {
   "cell_type": "code",
   "execution_count": 3,
   "metadata": {},
   "outputs": [
    {
     "name": "stdout",
     "output_type": "stream",
     "text": [
      "[85.84386798820746, 61.0795591988656]\n",
      "[28.037293202127813, 20.37025338937289]\n",
      "NeuralNetwork([<__main__.Layer object at 0x000002B98EC643D0>, <__main__.Layer object at 0x000002B98EC36B90>, <__main__.Layer object at 0x000002B98EC87390>])\n"
     ]
    }
   ],
   "source": [
    "# Now create a neural network with 3 layers, the first with 3 neurons as input, and the second with 10 neurons and the third with 2 neurons representing the output. The weights and biases can be initialized randomly.\n",
    "\n",
    "import random\n",
    "def create_neural_network():\n",
    "    layers = []\n",
    "    layers.append(Layer([Neuron([random.random() for _ in range(3)], random.random()) for _ in range(3)]))\n",
    "    layers.append(Layer([Neuron([random.random() for _ in range(3)], random.random()) for _ in range(10)]))\n",
    "    layers.append(Layer([Neuron([random.random() for _ in range(10)], random.random()) for _ in range(2)]))\n",
    "    return NeuralNetwork(layers)\n",
    "\n",
    "neural_network = create_neural_network()\n",
    "print(neural_network.calculate_output([5, 6, 7]))\n",
    "print(neural_network.calculate_output([1,2,3]))\n",
    "print(neural_network)\n"
   ]
  },
  {
   "cell_type": "code",
   "execution_count": 5,
   "metadata": {},
   "outputs": [
    {
     "name": "stdout",
     "output_type": "stream",
     "text": [
      "[8.1, 3.12, 2.79]\n"
     ]
    }
   ],
   "source": [
    "n1=Neuron([0.3,0.5,-0.4,2],3)\n",
    "n2=Neuron([0.4,-0.82,0.37,-0.3],4)\n",
    "n3=Neuron([-0.34,-0.33,0.28,0.90],0.7)\n",
    "layer= [Layer([n1,n2,n3])]\n",
    "\n",
    "NN=NeuralNetwork(layer)\n",
    "\n",
    "print(NN.calculate_output([1,2,3,2.5]))"
   ]
  },
  {
   "cell_type": "code",
   "execution_count": null,
   "metadata": {},
   "outputs": [],
   "source": []
  },
  {
   "cell_type": "code",
   "execution_count": null,
   "metadata": {},
   "outputs": [],
   "source": []
  }
 ],
 "metadata": {
  "kernelspec": {
   "display_name": "Python 3",
   "language": "python",
   "name": "python3"
  },
  "language_info": {
   "codemirror_mode": {
    "name": "ipython",
    "version": 3
   },
   "file_extension": ".py",
   "mimetype": "text/x-python",
   "name": "python",
   "nbconvert_exporter": "python",
   "pygments_lexer": "ipython3",
   "version": "3.11.2"
  }
 },
 "nbformat": 4,
 "nbformat_minor": 2
}
