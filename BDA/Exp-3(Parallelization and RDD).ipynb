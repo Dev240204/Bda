{
 "cells": [
  {
   "cell_type": "code",
   "execution_count": 0,
   "metadata": {
    "application/vnd.databricks.v1+cell": {
     "cellMetadata": {
      "byteLimit": 2048000,
      "rowLimit": 10000
     },
     "inputWidgets": {},
     "nuid": "9a96445e-1778-494c-b4c7-7b433f542b48",
     "showTitle": false,
     "title": ""
    }
   },
   "outputs": [
    {
     "output_type": "display_data",
     "data": {
      "text/html": [
       "<style scoped>\n",
       "  .ansiout {\n",
       "    display: block;\n",
       "    unicode-bidi: embed;\n",
       "    white-space: pre-wrap;\n",
       "    word-wrap: break-word;\n",
       "    word-break: break-all;\n",
       "    font-family: \"Menlo\", \"Monaco\", \"Consolas\", \"Ubuntu Mono\", \"Source Code Pro\", monospace;\n",
       "    font-size: 13px;\n",
       "    color: #555;\n",
       "    margin-left: 4px;\n",
       "    line-height: 19px;\n",
       "  }\n",
       "</style>"
      ]
     },
     "metadata": {
      "application/vnd.databricks.v1+output": {
       "arguments": {},
       "data": "",
       "errorSummary": "<div class=\"ansiout\">command-604135039501936:1: error: not found: value num\nvar a = num.map(x =&gt; x + 1)\n        ^\n</div>",
       "errorTraceType": "html",
       "metadata": {},
       "type": "ipynbError"
      }
     },
     "output_type": "display_data"
    }
   ],
   "source": [
    "%scala\n",
    "var a = num.map(x => x + 1)"
   ]
  },
  {
   "cell_type": "code",
   "execution_count": 0,
   "metadata": {
    "application/vnd.databricks.v1+cell": {
     "cellMetadata": {
      "byteLimit": 2048000,
      "rowLimit": 10000
     },
     "inputWidgets": {},
     "nuid": "bdaea816-2f0d-48c1-8f57-33b5f45c376e",
     "showTitle": false,
     "title": ""
    }
   },
   "outputs": [
    {
     "output_type": "display_data",
     "data": {
      "text/html": [
       "<style scoped>\n",
       "  .ansiout {\n",
       "    display: block;\n",
       "    unicode-bidi: embed;\n",
       "    white-space: pre-wrap;\n",
       "    word-wrap: break-word;\n",
       "    word-break: break-all;\n",
       "    font-family: \"Menlo\", \"Monaco\", \"Consolas\", \"Ubuntu Mono\", \"Source Code Pro\", monospace;\n",
       "    font-size: 13px;\n",
       "    color: #555;\n",
       "    margin-left: 4px;\n",
       "    line-height: 19px;\n",
       "  }\n",
       "</style>"
      ]
     },
     "metadata": {
      "application/vnd.databricks.v1+output": {
       "arguments": {},
       "data": "",
       "errorSummary": "<div class=\"ansiout\">command-604135039501937:1: error: not found: value num\nvar c = num.map(x =&gt; x + 1)\n        ^\n</div>",
       "errorTraceType": "html",
       "metadata": {},
       "type": "ipynbError"
      }
     },
     "output_type": "display_data"
    }
   ],
   "source": [
    "%scala\n",
    "var c = num.map(x => x + 1)"
   ]
  },
  {
   "cell_type": "code",
   "execution_count": 0,
   "metadata": {
    "application/vnd.databricks.v1+cell": {
     "cellMetadata": {
      "byteLimit": 2048000,
      "rowLimit": 10000
     },
     "inputWidgets": {},
     "nuid": "9973e6b0-732a-4363-b301-7ee2f02e2a71",
     "showTitle": false,
     "title": ""
    }
   },
   "outputs": [
    {
     "output_type": "display_data",
     "data": {
      "text/html": [
       "<style scoped>\n",
       "  .ansiout {\n",
       "    display: block;\n",
       "    unicode-bidi: embed;\n",
       "    white-space: pre-wrap;\n",
       "    word-wrap: break-word;\n",
       "    word-break: break-all;\n",
       "    font-family: \"Menlo\", \"Monaco\", \"Consolas\", \"Ubuntu Mono\", \"Source Code Pro\", monospace;\n",
       "    font-size: 13px;\n",
       "    color: #555;\n",
       "    margin-left: 4px;\n",
       "    line-height: 19px;\n",
       "  }\n",
       "</style>\n",
       "<div class=\"ansiout\"></div>"
      ]
     },
     "metadata": {
      "application/vnd.databricks.v1+output": {
       "addedWidgets": {},
       "arguments": {},
       "data": "<div class=\"ansiout\"></div>",
       "datasetInfos": [],
       "metadata": {
        "isDbfsCommandResult": false
       },
       "removedWidgets": [],
       "type": "html"
      }
     },
     "output_type": "display_data"
    }
   ],
   "source": [
    "%scala\n",
    "// Dev Panchal 21BCP008"
   ]
  },
  {
   "cell_type": "code",
   "execution_count": 0,
   "metadata": {
    "application/vnd.databricks.v1+cell": {
     "cellMetadata": {
      "byteLimit": 2048000,
      "rowLimit": 10000
     },
     "inputWidgets": {},
     "nuid": "9a9f2211-e995-4a81-ba94-b838aa7c72b1",
     "showTitle": false,
     "title": ""
    }
   },
   "outputs": [
    {
     "output_type": "display_data",
     "data": {
      "text/html": [
       "<style scoped>\n",
       "  .ansiout {\n",
       "    display: block;\n",
       "    unicode-bidi: embed;\n",
       "    white-space: pre-wrap;\n",
       "    word-wrap: break-word;\n",
       "    word-break: break-all;\n",
       "    font-family: \"Menlo\", \"Monaco\", \"Consolas\", \"Ubuntu Mono\", \"Source Code Pro\", monospace;\n",
       "    font-size: 13px;\n",
       "    color: #555;\n",
       "    margin-left: 4px;\n",
       "    line-height: 19px;\n",
       "  }\n",
       "</style>\n",
       "<div class=\"ansiout\">fruits: List[String] = List(Orange, Banana, Apple)\n",
       "</div>"
      ]
     },
     "metadata": {
      "application/vnd.databricks.v1+output": {
       "addedWidgets": {},
       "arguments": {},
       "data": "<div class=\"ansiout\">fruits: List[String] = List(Orange, Banana, Apple)\n</div>",
       "datasetInfos": [],
       "metadata": {
        "isDbfsCommandResult": false
       },
       "removedWidgets": [],
       "type": "html"
      }
     },
     "output_type": "display_data"
    }
   ],
   "source": [
    "%scala\n",
    "var fruits = List(\"Orange\", \"Banana\", \"Apple\")"
   ]
  },
  {
   "cell_type": "code",
   "execution_count": 0,
   "metadata": {
    "application/vnd.databricks.v1+cell": {
     "cellMetadata": {
      "byteLimit": 2048000,
      "rowLimit": 10000
     },
     "inputWidgets": {},
     "nuid": "dc3d7c49-aa7d-45e9-bfc8-54a5d0284f79",
     "showTitle": false,
     "title": ""
    }
   },
   "outputs": [
    {
     "output_type": "display_data",
     "data": {
      "text/html": [
       "<style scoped>\n",
       "  .ansiout {\n",
       "    display: block;\n",
       "    unicode-bidi: embed;\n",
       "    white-space: pre-wrap;\n",
       "    word-wrap: break-word;\n",
       "    word-break: break-all;\n",
       "    font-family: \"Menlo\", \"Monaco\", \"Consolas\", \"Ubuntu Mono\", \"Source Code Pro\", monospace;\n",
       "    font-size: 13px;\n",
       "    color: #555;\n",
       "    margin-left: 4px;\n",
       "    line-height: 19px;\n",
       "  }\n",
       "</style>\n",
       "<div class=\"ansiout\">res1: List[(String, Int)] = List((Orange,6), (Banana,6), (Apple,5))\n",
       "</div>"
      ]
     },
     "metadata": {
      "application/vnd.databricks.v1+output": {
       "addedWidgets": {},
       "arguments": {},
       "data": "<div class=\"ansiout\">res1: List[(String, Int)] = List((Orange,6), (Banana,6), (Apple,5))\n</div>",
       "datasetInfos": [],
       "metadata": {
        "isDbfsCommandResult": false
       },
       "removedWidgets": [],
       "type": "html"
      }
     },
     "output_type": "display_data"
    }
   ],
   "source": [
    "%scala\n",
    "fruits.map(x => (x, x.length))"
   ]
  },
  {
   "cell_type": "code",
   "execution_count": 0,
   "metadata": {
    "application/vnd.databricks.v1+cell": {
     "cellMetadata": {
      "byteLimit": 2048000,
      "rowLimit": 10000
     },
     "inputWidgets": {},
     "nuid": "98a8b2c8-6f09-4d4e-9f78-f9da1ebc37ca",
     "showTitle": false,
     "title": ""
    }
   },
   "outputs": [
    {
     "output_type": "display_data",
     "data": {
      "text/html": [
       "<style scoped>\n",
       "  .ansiout {\n",
       "    display: block;\n",
       "    unicode-bidi: embed;\n",
       "    white-space: pre-wrap;\n",
       "    word-wrap: break-word;\n",
       "    word-break: break-all;\n",
       "    font-family: \"Menlo\", \"Monaco\", \"Consolas\", \"Ubuntu Mono\", \"Source Code Pro\", monospace;\n",
       "    font-size: 13px;\n",
       "    color: #555;\n",
       "    margin-left: 4px;\n",
       "    line-height: 19px;\n",
       "  }\n",
       "</style>\n",
       "<div class=\"ansiout\">a: org.apache.spark.rdd.RDD[Int] = ParallelCollectionRDD[0] at parallelize at command-604135039501941:1\n",
       "</div>"
      ]
     },
     "metadata": {
      "application/vnd.databricks.v1+output": {
       "addedWidgets": {},
       "arguments": {},
       "data": "<div class=\"ansiout\">a: org.apache.spark.rdd.RDD[Int] = ParallelCollectionRDD[0] at parallelize at command-604135039501941:1\n</div>",
       "datasetInfos": [],
       "metadata": {
        "isDbfsCommandResult": false
       },
       "removedWidgets": [],
       "type": "html"
      }
     },
     "output_type": "display_data"
    }
   ],
   "source": [
    "%scala\n",
    "val a = sc.parallelize(1 to 9, 3);"
   ]
  },
  {
   "cell_type": "code",
   "execution_count": 0,
   "metadata": {
    "application/vnd.databricks.v1+cell": {
     "cellMetadata": {
      "byteLimit": 2048000,
      "rowLimit": 10000
     },
     "inputWidgets": {},
     "nuid": "0db8f336-37d7-415b-be60-6526a5b1c4a8",
     "showTitle": false,
     "title": ""
    }
   },
   "outputs": [
    {
     "output_type": "display_data",
     "data": {
      "text/html": [
       "<style scoped>\n",
       "  .ansiout {\n",
       "    display: block;\n",
       "    unicode-bidi: embed;\n",
       "    white-space: pre-wrap;\n",
       "    word-wrap: break-word;\n",
       "    word-break: break-all;\n",
       "    font-family: \"Menlo\", \"Monaco\", \"Consolas\", \"Ubuntu Mono\", \"Source Code Pro\", monospace;\n",
       "    font-size: 13px;\n",
       "    color: #555;\n",
       "    margin-left: 4px;\n",
       "    line-height: 19px;\n",
       "  }\n",
       "</style>\n",
       "<div class=\"ansiout\">res2: Array[Int] = Array(1, 4, 7)\n",
       "</div>"
      ]
     },
     "metadata": {
      "application/vnd.databricks.v1+output": {
       "addedWidgets": {},
       "arguments": {},
       "data": "<div class=\"ansiout\">res2: Array[Int] = Array(1, 4, 7)\n</div>",
       "datasetInfos": [],
       "metadata": {
        "isDbfsCommandResult": false
       },
       "removedWidgets": [],
       "type": "html"
      }
     },
     "output_type": "display_data"
    }
   ],
   "source": [
    "%scala\n",
    "a.mapPartitions(x => List(x.next).iterator).collect"
   ]
  },
  {
   "cell_type": "code",
   "execution_count": 0,
   "metadata": {
    "application/vnd.databricks.v1+cell": {
     "cellMetadata": {
      "byteLimit": 2048000,
      "rowLimit": 10000
     },
     "inputWidgets": {},
     "nuid": "85088407-7af6-4edb-935b-71666b5c203c",
     "showTitle": false,
     "title": ""
    }
   },
   "outputs": [
    {
     "output_type": "display_data",
     "data": {
      "text/html": [
       "<style scoped>\n",
       "  .ansiout {\n",
       "    display: block;\n",
       "    unicode-bidi: embed;\n",
       "    white-space: pre-wrap;\n",
       "    word-wrap: break-word;\n",
       "    word-break: break-all;\n",
       "    font-family: \"Menlo\", \"Monaco\", \"Consolas\", \"Ubuntu Mono\", \"Source Code Pro\", monospace;\n",
       "    font-size: 13px;\n",
       "    color: #555;\n",
       "    margin-left: 4px;\n",
       "    line-height: 19px;\n",
       "  }\n",
       "</style>\n",
       "<div class=\"ansiout\">a: org.apache.spark.rdd.RDD[Int] = ParallelCollectionRDD[2] at parallelize at command-604135039501944:1\n",
       "</div>"
      ]
     },
     "metadata": {
      "application/vnd.databricks.v1+output": {
       "addedWidgets": {},
       "arguments": {},
       "data": "<div class=\"ansiout\">a: org.apache.spark.rdd.RDD[Int] = ParallelCollectionRDD[2] at parallelize at command-604135039501944:1\n</div>",
       "datasetInfos": [],
       "metadata": {
        "isDbfsCommandResult": false
       },
       "removedWidgets": [],
       "type": "html"
      }
     },
     "output_type": "display_data"
    }
   ],
   "source": [
    "%scala\n",
    "val a = sc.parallelize(1 to 9,4);"
   ]
  },
  {
   "cell_type": "code",
   "execution_count": 0,
   "metadata": {
    "application/vnd.databricks.v1+cell": {
     "cellMetadata": {
      "byteLimit": 2048000,
      "rowLimit": 10000
     },
     "inputWidgets": {},
     "nuid": "e069b2f2-99d3-4456-91d5-6e84c31f0a26",
     "showTitle": false,
     "title": ""
    }
   },
   "outputs": [
    {
     "output_type": "display_data",
     "data": {
      "text/html": [
       "<style scoped>\n",
       "  .ansiout {\n",
       "    display: block;\n",
       "    unicode-bidi: embed;\n",
       "    white-space: pre-wrap;\n",
       "    word-wrap: break-word;\n",
       "    word-break: break-all;\n",
       "    font-family: \"Menlo\", \"Monaco\", \"Consolas\", \"Ubuntu Mono\", \"Source Code Pro\", monospace;\n",
       "    font-size: 13px;\n",
       "    color: #555;\n",
       "    margin-left: 4px;\n",
       "    line-height: 19px;\n",
       "  }\n",
       "</style>\n",
       "<div class=\"ansiout\">res3: Array[Int] = Array(1, 3, 5, 7)\n",
       "</div>"
      ]
     },
     "metadata": {
      "application/vnd.databricks.v1+output": {
       "addedWidgets": {},
       "arguments": {},
       "data": "<div class=\"ansiout\">res3: Array[Int] = Array(1, 3, 5, 7)\n</div>",
       "datasetInfos": [],
       "metadata": {
        "isDbfsCommandResult": false
       },
       "removedWidgets": [],
       "type": "html"
      }
     },
     "output_type": "display_data"
    }
   ],
   "source": [
    "%scala\n",
    "a.mapPartitions(x => List(x.next).iterator).collect"
   ]
  },
  {
   "cell_type": "code",
   "execution_count": 0,
   "metadata": {
    "application/vnd.databricks.v1+cell": {
     "cellMetadata": {
      "byteLimit": 2048000,
      "rowLimit": 10000
     },
     "inputWidgets": {},
     "nuid": "4bab8e0d-5ef4-450a-98c0-dd07ac3b680e",
     "showTitle": false,
     "title": ""
    }
   },
   "outputs": [
    {
     "output_type": "display_data",
     "data": {
      "text/html": [
       "<style scoped>\n",
       "  .ansiout {\n",
       "    display: block;\n",
       "    unicode-bidi: embed;\n",
       "    white-space: pre-wrap;\n",
       "    word-wrap: break-word;\n",
       "    word-break: break-all;\n",
       "    font-family: \"Menlo\", \"Monaco\", \"Consolas\", \"Ubuntu Mono\", \"Source Code Pro\", monospace;\n",
       "    font-size: 13px;\n",
       "    color: #555;\n",
       "    margin-left: 4px;\n",
       "    line-height: 19px;\n",
       "  }\n",
       "</style>\n",
       "<div class=\"ansiout\">pra: (index: Int, iter: Iterator[Int])Iterator[String]\n",
       "</div>"
      ]
     },
     "metadata": {
      "application/vnd.databricks.v1+output": {
       "addedWidgets": {},
       "arguments": {},
       "data": "<div class=\"ansiout\">pra: (index: Int, iter: Iterator[Int])Iterator[String]\n</div>",
       "datasetInfos": [],
       "metadata": {
        "isDbfsCommandResult": false
       },
       "removedWidgets": [],
       "type": "html"
      }
     },
     "output_type": "display_data"
    }
   ],
   "source": [
    "%scala\n",
    "def pra(index:Int, iter:Iterator[(Int)]) : Iterator[String] = {\n",
    "  iter.toList.map(x => x + \" \" + index).iterator\n",
    "}"
   ]
  },
  {
   "cell_type": "code",
   "execution_count": 0,
   "metadata": {
    "application/vnd.databricks.v1+cell": {
     "cellMetadata": {
      "byteLimit": 2048000,
      "rowLimit": 10000
     },
     "inputWidgets": {},
     "nuid": "dbe2b3eb-051c-4a52-bb1d-7bb0665bff62",
     "showTitle": false,
     "title": ""
    }
   },
   "outputs": [
    {
     "output_type": "display_data",
     "data": {
      "text/html": [
       "<style scoped>\n",
       "  .ansiout {\n",
       "    display: block;\n",
       "    unicode-bidi: embed;\n",
       "    white-space: pre-wrap;\n",
       "    word-wrap: break-word;\n",
       "    word-break: break-all;\n",
       "    font-family: \"Menlo\", \"Monaco\", \"Consolas\", \"Ubuntu Mono\", \"Source Code Pro\", monospace;\n",
       "    font-size: 13px;\n",
       "    color: #555;\n",
       "    margin-left: 4px;\n",
       "    line-height: 19px;\n",
       "  }\n",
       "</style>\n",
       "<div class=\"ansiout\">a: org.apache.spark.rdd.RDD[Int] = ParallelCollectionRDD[4] at parallelize at command-604135039501947:1\n",
       "</div>"
      ]
     },
     "metadata": {
      "application/vnd.databricks.v1+output": {
       "addedWidgets": {},
       "arguments": {},
       "data": "<div class=\"ansiout\">a: org.apache.spark.rdd.RDD[Int] = ParallelCollectionRDD[4] at parallelize at command-604135039501947:1\n</div>",
       "datasetInfos": [],
       "metadata": {
        "isDbfsCommandResult": false
       },
       "removedWidgets": [],
       "type": "html"
      }
     },
     "output_type": "display_data"
    }
   ],
   "source": [
    "%scala\n",
    "val a = sc.parallelize(List(1,2,3,4,5,6), 2)"
   ]
  },
  {
   "cell_type": "code",
   "execution_count": 0,
   "metadata": {
    "application/vnd.databricks.v1+cell": {
     "cellMetadata": {
      "byteLimit": 2048000,
      "rowLimit": 10000
     },
     "inputWidgets": {},
     "nuid": "ff6628b2-25eb-45e2-957f-6ab77164c840",
     "showTitle": false,
     "title": ""
    }
   },
   "outputs": [
    {
     "output_type": "display_data",
     "data": {
      "text/html": [
       "<style scoped>\n",
       "  .ansiout {\n",
       "    display: block;\n",
       "    unicode-bidi: embed;\n",
       "    white-space: pre-wrap;\n",
       "    word-wrap: break-word;\n",
       "    word-break: break-all;\n",
       "    font-family: \"Menlo\", \"Monaco\", \"Consolas\", \"Ubuntu Mono\", \"Source Code Pro\", monospace;\n",
       "    font-size: 13px;\n",
       "    color: #555;\n",
       "    margin-left: 4px;\n",
       "    line-height: 19px;\n",
       "  }\n",
       "</style>\n",
       "<div class=\"ansiout\">res4: Array[String] = Array(1 0, 2 0, 3 0, 4 1, 5 1, 6 1)\n",
       "</div>"
      ]
     },
     "metadata": {
      "application/vnd.databricks.v1+output": {
       "addedWidgets": {},
       "arguments": {},
       "data": "<div class=\"ansiout\">res4: Array[String] = Array(1 0, 2 0, 3 0, 4 1, 5 1, 6 1)\n</div>",
       "datasetInfos": [],
       "metadata": {
        "isDbfsCommandResult": false
       },
       "removedWidgets": [],
       "type": "html"
      }
     },
     "output_type": "display_data"
    }
   ],
   "source": [
    "%scala\n",
    "a.mapPartitionsWithIndex(pra).collect"
   ]
  },
  {
   "cell_type": "code",
   "execution_count": 0,
   "metadata": {
    "application/vnd.databricks.v1+cell": {
     "cellMetadata": {
      "byteLimit": 2048000,
      "rowLimit": 10000
     },
     "inputWidgets": {},
     "nuid": "8315e221-1c7e-44f7-a2f9-82792a6c6d64",
     "showTitle": false,
     "title": ""
    }
   },
   "outputs": [
    {
     "output_type": "display_data",
     "data": {
      "text/html": [
       "<style scoped>\n",
       "  .ansiout {\n",
       "    display: block;\n",
       "    unicode-bidi: embed;\n",
       "    white-space: pre-wrap;\n",
       "    word-wrap: break-word;\n",
       "    word-break: break-all;\n",
       "    font-family: \"Menlo\", \"Monaco\", \"Consolas\", \"Ubuntu Mono\", \"Source Code Pro\", monospace;\n",
       "    font-size: 13px;\n",
       "    color: #555;\n",
       "    margin-left: 4px;\n",
       "    line-height: 19px;\n",
       "  }\n",
       "</style>\n",
       "<div class=\"ansiout\">a: org.apache.spark.rdd.RDD[Int] = ParallelCollectionRDD[6] at parallelize at command-604135039501950:1\n",
       "</div>"
      ]
     },
     "metadata": {
      "application/vnd.databricks.v1+output": {
       "addedWidgets": {},
       "arguments": {},
       "data": "<div class=\"ansiout\">a: org.apache.spark.rdd.RDD[Int] = ParallelCollectionRDD[6] at parallelize at command-604135039501950:1\n</div>",
       "datasetInfos": [],
       "metadata": {
        "isDbfsCommandResult": false
       },
       "removedWidgets": [],
       "type": "html"
      }
     },
     "output_type": "display_data"
    }
   ],
   "source": [
    "%scala\n",
    "val a = sc.parallelize(List(1,2,3,4,5,6), 3)"
   ]
  },
  {
   "cell_type": "code",
   "execution_count": 0,
   "metadata": {
    "application/vnd.databricks.v1+cell": {
     "cellMetadata": {
      "byteLimit": 2048000,
      "rowLimit": 10000
     },
     "inputWidgets": {},
     "nuid": "1cec8106-0558-46f4-b477-4cf6c8238da4",
     "showTitle": false,
     "title": ""
    }
   },
   "outputs": [
    {
     "output_type": "display_data",
     "data": {
      "text/html": [
       "<style scoped>\n",
       "  .ansiout {\n",
       "    display: block;\n",
       "    unicode-bidi: embed;\n",
       "    white-space: pre-wrap;\n",
       "    word-wrap: break-word;\n",
       "    word-break: break-all;\n",
       "    font-family: \"Menlo\", \"Monaco\", \"Consolas\", \"Ubuntu Mono\", \"Source Code Pro\", monospace;\n",
       "    font-size: 13px;\n",
       "    color: #555;\n",
       "    margin-left: 4px;\n",
       "    line-height: 19px;\n",
       "  }\n",
       "</style>\n",
       "<div class=\"ansiout\">res5: Array[String] = Array(1 0, 2 0, 3 1, 4 1, 5 2, 6 2)\n",
       "</div>"
      ]
     },
     "metadata": {
      "application/vnd.databricks.v1+output": {
       "addedWidgets": {},
       "arguments": {},
       "data": "<div class=\"ansiout\">res5: Array[String] = Array(1 0, 2 0, 3 1, 4 1, 5 2, 6 2)\n</div>",
       "datasetInfos": [],
       "metadata": {
        "isDbfsCommandResult": false
       },
       "removedWidgets": [],
       "type": "html"
      }
     },
     "output_type": "display_data"
    }
   ],
   "source": [
    "%scala\n",
    "a.mapPartitionsWithIndex(pra).collect"
   ]
  },
  {
   "cell_type": "code",
   "execution_count": 0,
   "metadata": {
    "application/vnd.databricks.v1+cell": {
     "cellMetadata": {
      "byteLimit": 2048000,
      "rowLimit": 10000
     },
     "inputWidgets": {},
     "nuid": "2783ce0e-4f4c-449d-836e-866300788c3c",
     "showTitle": false,
     "title": ""
    }
   },
   "outputs": [
    {
     "output_type": "display_data",
     "data": {
      "text/html": [
       "<style scoped>\n",
       "  .ansiout {\n",
       "    display: block;\n",
       "    unicode-bidi: embed;\n",
       "    white-space: pre-wrap;\n",
       "    word-wrap: break-word;\n",
       "    word-break: break-all;\n",
       "    font-family: \"Menlo\", \"Monaco\", \"Consolas\", \"Ubuntu Mono\", \"Source Code Pro\", monospace;\n",
       "    font-size: 13px;\n",
       "    color: #555;\n",
       "    margin-left: 4px;\n",
       "    line-height: 19px;\n",
       "  }\n",
       "</style>\n",
       "<div class=\"ansiout\">a: org.apache.spark.rdd.RDD[Int] = ParallelCollectionRDD[8] at parallelize at command-604135039501952:1\n",
       "</div>"
      ]
     },
     "metadata": {
      "application/vnd.databricks.v1+output": {
       "addedWidgets": {},
       "arguments": {},
       "data": "<div class=\"ansiout\">a: org.apache.spark.rdd.RDD[Int] = ParallelCollectionRDD[8] at parallelize at command-604135039501952:1\n</div>",
       "datasetInfos": [],
       "metadata": {
        "isDbfsCommandResult": false
       },
       "removedWidgets": [],
       "type": "html"
      }
     },
     "output_type": "display_data"
    }
   ],
   "source": [
    "%scala\n",
    "val a = sc.parallelize(1 to 1000, 250)"
   ]
  },
  {
   "cell_type": "code",
   "execution_count": 0,
   "metadata": {
    "application/vnd.databricks.v1+cell": {
     "cellMetadata": {
      "byteLimit": 2048000,
      "rowLimit": 10000
     },
     "inputWidgets": {},
     "nuid": "1cb5d5ab-7c7f-4bc7-89d2-b5329d5f4a89",
     "showTitle": false,
     "title": ""
    }
   },
   "outputs": [
    {
     "output_type": "display_data",
     "data": {
      "text/html": [
       "<style scoped>\n",
       "  .ansiout {\n",
       "    display: block;\n",
       "    unicode-bidi: embed;\n",
       "    white-space: pre-wrap;\n",
       "    word-wrap: break-word;\n",
       "    word-break: break-all;\n",
       "    font-family: \"Menlo\", \"Monaco\", \"Consolas\", \"Ubuntu Mono\", \"Source Code Pro\", monospace;\n",
       "    font-size: 13px;\n",
       "    color: #555;\n",
       "    margin-left: 4px;\n",
       "    line-height: 19px;\n",
       "  }\n",
       "</style>\n",
       "<div class=\"ansiout\">res6: Array[String] = Array(1 0, 2 0, 3 0, 4 0, 5 1, 6 1, 7 1, 8 1, 9 2, 10 2, 11 2, 12 2, 13 3, 14 3, 15 3, 16 3, 17 4, 18 4, 19 4, 20 4, 21 5, 22 5, 23 5, 24 5, 25 6, 26 6, 27 6, 28 6, 29 7, 30 7, 31 7, 32 7, 33 8, 34 8, 35 8, 36 8, 37 9, 38 9, 39 9, 40 9, 41 10, 42 10, 43 10, 44 10, 45 11, 46 11, 47 11, 48 11, 49 12, 50 12, 51 12, 52 12, 53 13, 54 13, 55 13, 56 13, 57 14, 58 14, 59 14, 60 14, 61 15, 62 15, 63 15, 64 15, 65 16, 66 16, 67 16, 68 16, 69 17, 70 17, 71 17, 72 17, 73 18, 74 18, 75 18, 76 18, 77 19, 78 19, 79 19, 80 19, 81 20, 82 20, 83 20, 84 20, 85 21, 86 21, 87 21, 88 21, 89 22, 90 22, 91 22, 92 22, 93 23, 94 23, 95 23, 96 23, 97 24, 98 24, 99 24, 100 24, 101 25, 102 25, 103 25, 104 25, 105 26, 106 26, 107 26, 108 26, 109 27, 110 27, 111 27, 112 27, 113 28, 114 28, 115 28, 116 28, 117 29, 118 29, 119 29, 120 29, 121 30, 122 30, 123 30, 124 30, 125 31, 126 31, 127 31, 128 31, 129 32, 130 32, 131 32, 132 32, 133 33, 134 33, 135 33, 136 33, 137 34, 138 34, 139 34, 140 34, 141 35, 142 35, 143 35, 144 35, 145 36, 146 36, 147 36, 148 36, 149 37, 150 37, 151 37, 152 37, 153 38, 154 38, 155 38, 156 38, 157 39, 158 39, 159 39, 160 39, 161 40, 162 40, 163 40, 164 40, 165 41, 166 41, 167 41, 168 41, 169 42, 170 42, 171 42, 172 42, 173 43, 174 43, 175 43, 176 43, 177 44, 178 44, 179 44, 180 44, 181 45, 182 45, 183 45, 184 45, 185 46, 186 46, 187 46, 188 46, 189 47, 190 47, 191 47, 192 47, 193 48, 194 48, 195 48, 196 48, 197 49, 198 49, 199 49, 200 49, 201 50, 202 50, 203 50, 204 50, 205 51, 206 51, 207 51, 208 51, 209 52, 210 52, 211 52, 212 52, 213 53, 214 53, 215 53, 216 53, 217 54, 218 54, 219 54, 220 54, 221 55, 222 55, 223 55, 224 55, 225 56, 226 56, 227 56, 228 56, 229 57, 230 57, 231 57, 232 57, 233 58, 234 58, 235 58, 236 58, 237 59, 238 59, 239 59, 240 59, 241 60, 242 60, 243 60, 244 60, 245 61, 246 61, 247 61, 248 61, 249 62, 250 62, 251 62, 252 62, 253 63, 254 63, 255 63, 256 63, 257 64, 258 64, 259 64, 260 64, 261 65, 262 65, 263 65, 264 65, 265 66, 266 66, 267 66, 268 66, 269 67, 270 67, 271 67, 272 67, 273 68, 274 68, 275 68, 276 68, 277 69, 278 69, 279 69, 280 69, 281 70, 282 70, 283 70, 284 70, 285 71, 286 71, 287 71, 288 71, 289 72, 290 72, 291 72, 292 72, 293 73, 294 73, 295 73, 296 73, 297 74, 298 74, 299 74, 300 74, 301 75, 302 75, 303 75, 304 75, 305 76, 306 76, 307 76, 308 76, 309 77, 310 77, 311 77, 312 77, 313 78, 314 78, 315 78, 316 78, 317 79, 318 79, 319 79, 320 79, 321 80, 322 80, 323 80, 324 80, 325 81, 326 81, 327 81, 328 81, 329 82, 330 82, 331 82, 332 82, 333 83, 334 83, 335 83, 336 83, 337 84, 338 84, 339 84, 340 84, 341 85, 342 85, 343 85, 344 85, 345 86, 346 86, 347 86, 348 86, 349 87, 350 87, 351 87, 352 87, 353 88, 354 88, 355 88, 356 88, 357 89, 358 89, 359 89, 360 89, 361 90, 362 90, 363 90, 364 90, 365 91, 366 91, 367 91, 368 91, 369 92, 370 92, 371 92, 372 92, 373 93, 374 93, 375 93, 376 93, 377 94, 378 94, 379 94, 380 94, 381 95, 382 95, 383 95, 384 95, 385 96, 386 96, 387 96, 388 96, 389 97, 390 97, 391 97, 392 97, 393 98, 394 98, 395 98, 396 98, 397 99, 398 99, 399 99, 400 99, 401 100, 402 100, 403 100, 404 100, 405 101, 406 101, 407 101, 408 101, 409 102, 410 102, 411 102, 412 102, 413 103, 414 103, 415 103, 416 103, 417 104, 418 104, 419 104, 420 104, 421 105, 422 105, 423 105, 424 105, 425 106, 426 106, 427 106, 428 106, 429 107, 430 107, 431 107, 432 107, 433 108, 434 108, 435 108, 436 108, 437 109, 438 109, 439 109, 440 109, 441 110, 442 110, 443 110, 444 110, 445 111, 446 111, 447 111, 448 111, 449 112, 450 112, 451 112, 452 112, 453 113, 454 113, 455 113, 456 113, 457 114, 458 114, 459 114, 460 114, 461 115, 462 115, 463 115, 464 115, 465 116, 466 116, 467 116, 468 116, 469 117, 470 117, 471 117, 472 117, 473 118, 474 118, 475 118, 476 118, 477 119, 478 119, 479 119, 480 119, 481 120, 482 120, 483 120, 484 120, 485 121, 486 121, 487 121, 488 121, 489 122, 490 122, 491 122, 492 122, 493 123, 494 123, 495 123, 496 123, 497 124, 498 124, 499 124, 500 124, 501 125, 502 125, 503 125, 504 125, 505 126, 506 126, 507 126, 508 126, 509 127, 510 127, 511 127, 512 127, 513 128, 514 128, 515 128, 516 128, 517 129, 518 129, 519 129, 520 129, 521 130, 522 130, 523 130, 524 130, 525 131, 526 131, 527 131, 528 131, 529 132, 530 132, 531 132, 532 132, 533 133, 534 133, 535 133, 536 133, 537 134, 538 134, 539 134, 540 134, 541 135, 542 135, 543 135, 544 135, 545 136, 546 136, 547 136, 548 136, 549 137, 550 137, 551 137, 552 137, 553 138, 554 138, 555 138, 556 138, 557 139, 558 139, 559 139, 560 139, 561 140, 562 140, 563 140, 564 140, 565 141, 566 141, 567 141, 568 141, 569 142, 570 142, 571 142, 572 142, 573 143, 574 143, 575 143, 576 143, 577 144, 578 144, 579 144, 580 144, 581 145, 582 145, 583 145, 584 145, 585 146, 586 146, 587 146, 588 146, 589 147, 590 147, 591 147, 592 147, 593 148, 594 148, 595 148, 596 148, 597 149, 598 149, 599 149, 600 149, 601 150, 602 150, 603 150, 604 150, 605 151, 606 151, 607 151, 608 151, 609 152, 610 152, 611 152, 612 152, 613 153, 614 153, 615 153, 616 153, 617 154, 618 154, 619 154, 620 154, 621 155, 622 155, 623 155, 624 155, 625 156, 626 156, 627 156, 628 156, 629 157, 630 157, 631 157, 632 157, 633 158, 634 158, 635 158, 636 158, 637 159, 638 159, 639 159, 640 159, 641 160, 642 160, 643 160, 644 160, 645 161, 646 161, 647 161, 648 161, 649 162, 650 162, 651 162, 652 162, 653 163, 654 163, 655 163, 656 163, 657 164, 658 164, 659 164, 660 164, 661 165, 662 165, 663 165, 664 165, 665 166, 666 166, 667 166, 668 166, 669 167, 670 167, 671 167, 672 167, 673 168, 674 168, 675 168, 676 168, 677 169, 678 169, 679 169, 680 169, 681 170, 682 170, 683 170, 684 170, 685 171, 686 171, 687 171, 688 171, 689 172, 690 172, 691 172, 692 172, 693 173, 694 173, 695 173, 696 173, 697 174, 698 174, 699 174, 700 174, 701 175, 702 175, 703 175, 704 175, 705 176, 706 176, 707 176, 708 176, 709 177, 710 177, 711 177, 712 177, 713 178, 714 178, 715 178, 716 178, 717 179, 718 179, 719 179, 720 179, 721 180, 722 180, 723 180, 724 180, 725 181, 726 181, 727 181, 728 181, 729 182, 730 182, 731 182, 732 182, 733 183, 734 183, 735 183, 736 183, 737 184, 738 184, 739 184, 740 184, 741 185, 742 185, 743 185, 744 185, 745 186, 746 186, 747 186, 748 186, 749 187, 750 187, 751 187, 752 187, 753 188, 754 188, 755 188, 756 188, 757 189, 758 189, 759 189, 760 189, 761 190, 762 190, 763 190, 764 190, 765 191, 766 191, 767 191, 768 191, 769 192, 770 192, 771 192, 772 192, 773 193, 774 193, 775 193, 776 193, 777 194, 778 194, 779 194, 780 194, 781 195, 782 195, 783 195, 784 195, 785 196, 786 196, 787 196, 788 196, 789 197, 790 197, 791 197, 792 197, 793 198, 794 198, 795 198, 796 198, 797 199, 798 199, 799 199, 800 199, 801 200, 802 200, 803 200, 804 200, 805 201, 806 201, 807 201, 808 201, 809 202, 810 202, 811 202, 812 202, 813 203, 814 203, 815 203, 816 203, 817 204, 818 204, 819 204, 820 204, 821 205, 822 205, 823 205, 824 205, 825 206, 826 206, 827 206, 828 206, 829 207, 830 207, 831 207, 832 207, 833 208, 834 208, 835 208, 836 208, 837 209, 838 209, 839 209, 840 209, 841 210, 842 210, 843 210, 844 210, 845 211, 846 211, 847 211, 848 211, 849 212, 850 212, 851 212, 852 212, 853 213, 854 213, 855 213, 856 213, 857 214, 858 214, 859 214, 860 214, 861 215, 862 215, 863 215, 864 215, 865 216, 866 216, 867 216, 868 216, 869 217, 870 217, 871 217, 872 217, 873 218, 874 218, 875 218, 876 218, 877 219, 878 219, 879 219, 880 219, 881 220, 882 220, 883 220, 884 220, 885 221, 886 221, 887 221, 888 221, 889 222, 890 222, 891 222, 892 222, 893 223, 894 223, 895 223, 896 223, 897 224, 898 224, 899 224, 900 224, 901 225, 902 225, 903 225, 904 225, 905 226, 906 226, 907 226, 908 226, 909 227, 910 227, 911 227, 912 227, 913 228, 914 228, 915 228, 916 228, 917 229, 918 229, 919 229, 920 229, 921 230, 922 230, 923 230, 924 230, 925 231, 926 231, 927 231, 928 231, 929 232, 930 232, 931 232, 932 232, 933 233, 934 233, 935 233, 936 233, 937 234, 938 234, 939 234, 940 234, 941 235, 942 235, 943 235, 944 235, 945 236, 946 236, 947 236, 948 236, 949 237, 950 237, 951 237, 952 237, 953 238, 954 238, 955 238, 956 238, 957 239, 958 239, 959 239, 960 239, 961 240, 962 240, 963 240, 964 240, 965 241, 966 241, 967 241, 968 241, 969 242, 970 242, 971 242, 972 242, 973 243, 974 243, 975 243, 976 243, 977 244, 978 244, 979 244, 980 244, 981 245, 982 245, 983 245, 984 245, 985 246, 986 246, 987 246, 988 246, 989 247, 990 247, 991 247, 992 247, 993 248, 994 248, 995 248, 996 248, 997 249, 998 249, 999 249, 1000 249)\n",
       "</div>"
      ]
     },
     "metadata": {
      "application/vnd.databricks.v1+output": {
       "addedWidgets": {},
       "arguments": {},
       "data": "<div class=\"ansiout\">res6: Array[String] = Array(1 0, 2 0, 3 0, 4 0, 5 1, 6 1, 7 1, 8 1, 9 2, 10 2, 11 2, 12 2, 13 3, 14 3, 15 3, 16 3, 17 4, 18 4, 19 4, 20 4, 21 5, 22 5, 23 5, 24 5, 25 6, 26 6, 27 6, 28 6, 29 7, 30 7, 31 7, 32 7, 33 8, 34 8, 35 8, 36 8, 37 9, 38 9, 39 9, 40 9, 41 10, 42 10, 43 10, 44 10, 45 11, 46 11, 47 11, 48 11, 49 12, 50 12, 51 12, 52 12, 53 13, 54 13, 55 13, 56 13, 57 14, 58 14, 59 14, 60 14, 61 15, 62 15, 63 15, 64 15, 65 16, 66 16, 67 16, 68 16, 69 17, 70 17, 71 17, 72 17, 73 18, 74 18, 75 18, 76 18, 77 19, 78 19, 79 19, 80 19, 81 20, 82 20, 83 20, 84 20, 85 21, 86 21, 87 21, 88 21, 89 22, 90 22, 91 22, 92 22, 93 23, 94 23, 95 23, 96 23, 97 24, 98 24, 99 24, 100 24, 101 25, 102 25, 103 25, 104 25, 105 26, 106 26, 107 26, 108 26, 109 27, 110 27, 111 27, 112 27, 113 28, 114 28, 115 28, 116 28, 117 29, 118 29, 119 29, 120 29, 121 30, 122 30, 123 30, 124 30, 125 31, 126 31, 127 31, 128 31, 129 32, 130 32, 131 32, 132 32, 133 33, 134 33, 135 33, 136 33, 137 34, 138 34, 139 34, 140 34, 141 35, 142 35, 143 35, 144 35, 145 36, 146 36, 147 36, 148 36, 149 37, 150 37, 151 37, 152 37, 153 38, 154 38, 155 38, 156 38, 157 39, 158 39, 159 39, 160 39, 161 40, 162 40, 163 40, 164 40, 165 41, 166 41, 167 41, 168 41, 169 42, 170 42, 171 42, 172 42, 173 43, 174 43, 175 43, 176 43, 177 44, 178 44, 179 44, 180 44, 181 45, 182 45, 183 45, 184 45, 185 46, 186 46, 187 46, 188 46, 189 47, 190 47, 191 47, 192 47, 193 48, 194 48, 195 48, 196 48, 197 49, 198 49, 199 49, 200 49, 201 50, 202 50, 203 50, 204 50, 205 51, 206 51, 207 51, 208 51, 209 52, 210 52, 211 52, 212 52, 213 53, 214 53, 215 53, 216 53, 217 54, 218 54, 219 54, 220 54, 221 55, 222 55, 223 55, 224 55, 225 56, 226 56, 227 56, 228 56, 229 57, 230 57, 231 57, 232 57, 233 58, 234 58, 235 58, 236 58, 237 59, 238 59, 239 59, 240 59, 241 60, 242 60, 243 60, 244 60, 245 61, 246 61, 247 61, 248 61, 249 62, 250 62, 251 62, 252 62, 253 63, 254 63, 255 63, 256 63, 257 64, 258 64, 259 64, 260 64, 261 65, 262 65, 263 65, 264 65, 265 66, 266 66, 267 66, 268 66, 269 67, 270 67, 271 67, 272 67, 273 68, 274 68, 275 68, 276 68, 277 69, 278 69, 279 69, 280 69, 281 70, 282 70, 283 70, 284 70, 285 71, 286 71, 287 71, 288 71, 289 72, 290 72, 291 72, 292 72, 293 73, 294 73, 295 73, 296 73, 297 74, 298 74, 299 74, 300 74, 301 75, 302 75, 303 75, 304 75, 305 76, 306 76, 307 76, 308 76, 309 77, 310 77, 311 77, 312 77, 313 78, 314 78, 315 78, 316 78, 317 79, 318 79, 319 79, 320 79, 321 80, 322 80, 323 80, 324 80, 325 81, 326 81, 327 81, 328 81, 329 82, 330 82, 331 82, 332 82, 333 83, 334 83, 335 83, 336 83, 337 84, 338 84, 339 84, 340 84, 341 85, 342 85, 343 85, 344 85, 345 86, 346 86, 347 86, 348 86, 349 87, 350 87, 351 87, 352 87, 353 88, 354 88, 355 88, 356 88, 357 89, 358 89, 359 89, 360 89, 361 90, 362 90, 363 90, 364 90, 365 91, 366 91, 367 91, 368 91, 369 92, 370 92, 371 92, 372 92, 373 93, 374 93, 375 93, 376 93, 377 94, 378 94, 379 94, 380 94, 381 95, 382 95, 383 95, 384 95, 385 96, 386 96, 387 96, 388 96, 389 97, 390 97, 391 97, 392 97, 393 98, 394 98, 395 98, 396 98, 397 99, 398 99, 399 99, 400 99, 401 100, 402 100, 403 100, 404 100, 405 101, 406 101, 407 101, 408 101, 409 102, 410 102, 411 102, 412 102, 413 103, 414 103, 415 103, 416 103, 417 104, 418 104, 419 104, 420 104, 421 105, 422 105, 423 105, 424 105, 425 106, 426 106, 427 106, 428 106, 429 107, 430 107, 431 107, 432 107, 433 108, 434 108, 435 108, 436 108, 437 109, 438 109, 439 109, 440 109, 441 110, 442 110, 443 110, 444 110, 445 111, 446 111, 447 111, 448 111, 449 112, 450 112, 451 112, 452 112, 453 113, 454 113, 455 113, 456 113, 457 114, 458 114, 459 114, 460 114, 461 115, 462 115, 463 115, 464 115, 465 116, 466 116, 467 116, 468 116, 469 117, 470 117, 471 117, 472 117, 473 118, 474 118, 475 118, 476 118, 477 119, 478 119, 479 119, 480 119, 481 120, 482 120, 483 120, 484 120, 485 121, 486 121, 487 121, 488 121, 489 122, 490 122, 491 122, 492 122, 493 123, 494 123, 495 123, 496 123, 497 124, 498 124, 499 124, 500 124, 501 125, 502 125, 503 125, 504 125, 505 126, 506 126, 507 126, 508 126, 509 127, 510 127, 511 127, 512 127, 513 128, 514 128, 515 128, 516 128, 517 129, 518 129, 519 129, 520 129, 521 130, 522 130, 523 130, 524 130, 525 131, 526 131, 527 131, 528 131, 529 132, 530 132, 531 132, 532 132, 533 133, 534 133, 535 133, 536 133, 537 134, 538 134, 539 134, 540 134, 541 135, 542 135, 543 135, 544 135, 545 136, 546 136, 547 136, 548 136, 549 137, 550 137, 551 137, 552 137, 553 138, 554 138, 555 138, 556 138, 557 139, 558 139, 559 139, 560 139, 561 140, 562 140, 563 140, 564 140, 565 141, 566 141, 567 141, 568 141, 569 142, 570 142, 571 142, 572 142, 573 143, 574 143, 575 143, 576 143, 577 144, 578 144, 579 144, 580 144, 581 145, 582 145, 583 145, 584 145, 585 146, 586 146, 587 146, 588 146, 589 147, 590 147, 591 147, 592 147, 593 148, 594 148, 595 148, 596 148, 597 149, 598 149, 599 149, 600 149, 601 150, 602 150, 603 150, 604 150, 605 151, 606 151, 607 151, 608 151, 609 152, 610 152, 611 152, 612 152, 613 153, 614 153, 615 153, 616 153, 617 154, 618 154, 619 154, 620 154, 621 155, 622 155, 623 155, 624 155, 625 156, 626 156, 627 156, 628 156, 629 157, 630 157, 631 157, 632 157, 633 158, 634 158, 635 158, 636 158, 637 159, 638 159, 639 159, 640 159, 641 160, 642 160, 643 160, 644 160, 645 161, 646 161, 647 161, 648 161, 649 162, 650 162, 651 162, 652 162, 653 163, 654 163, 655 163, 656 163, 657 164, 658 164, 659 164, 660 164, 661 165, 662 165, 663 165, 664 165, 665 166, 666 166, 667 166, 668 166, 669 167, 670 167, 671 167, 672 167, 673 168, 674 168, 675 168, 676 168, 677 169, 678 169, 679 169, 680 169, 681 170, 682 170, 683 170, 684 170, 685 171, 686 171, 687 171, 688 171, 689 172, 690 172, 691 172, 692 172, 693 173, 694 173, 695 173, 696 173, 697 174, 698 174, 699 174, 700 174, 701 175, 702 175, 703 175, 704 175, 705 176, 706 176, 707 176, 708 176, 709 177, 710 177, 711 177, 712 177, 713 178, 714 178, 715 178, 716 178, 717 179, 718 179, 719 179, 720 179, 721 180, 722 180, 723 180, 724 180, 725 181, 726 181, 727 181, 728 181, 729 182, 730 182, 731 182, 732 182, 733 183, 734 183, 735 183, 736 183, 737 184, 738 184, 739 184, 740 184, 741 185, 742 185, 743 185, 744 185, 745 186, 746 186, 747 186, 748 186, 749 187, 750 187, 751 187, 752 187, 753 188, 754 188, 755 188, 756 188, 757 189, 758 189, 759 189, 760 189, 761 190, 762 190, 763 190, 764 190, 765 191, 766 191, 767 191, 768 191, 769 192, 770 192, 771 192, 772 192, 773 193, 774 193, 775 193, 776 193, 777 194, 778 194, 779 194, 780 194, 781 195, 782 195, 783 195, 784 195, 785 196, 786 196, 787 196, 788 196, 789 197, 790 197, 791 197, 792 197, 793 198, 794 198, 795 198, 796 198, 797 199, 798 199, 799 199, 800 199, 801 200, 802 200, 803 200, 804 200, 805 201, 806 201, 807 201, 808 201, 809 202, 810 202, 811 202, 812 202, 813 203, 814 203, 815 203, 816 203, 817 204, 818 204, 819 204, 820 204, 821 205, 822 205, 823 205, 824 205, 825 206, 826 206, 827 206, 828 206, 829 207, 830 207, 831 207, 832 207, 833 208, 834 208, 835 208, 836 208, 837 209, 838 209, 839 209, 840 209, 841 210, 842 210, 843 210, 844 210, 845 211, 846 211, 847 211, 848 211, 849 212, 850 212, 851 212, 852 212, 853 213, 854 213, 855 213, 856 213, 857 214, 858 214, 859 214, 860 214, 861 215, 862 215, 863 215, 864 215, 865 216, 866 216, 867 216, 868 216, 869 217, 870 217, 871 217, 872 217, 873 218, 874 218, 875 218, 876 218, 877 219, 878 219, 879 219, 880 219, 881 220, 882 220, 883 220, 884 220, 885 221, 886 221, 887 221, 888 221, 889 222, 890 222, 891 222, 892 222, 893 223, 894 223, 895 223, 896 223, 897 224, 898 224, 899 224, 900 224, 901 225, 902 225, 903 225, 904 225, 905 226, 906 226, 907 226, 908 226, 909 227, 910 227, 911 227, 912 227, 913 228, 914 228, 915 228, 916 228, 917 229, 918 229, 919 229, 920 229, 921 230, 922 230, 923 230, 924 230, 925 231, 926 231, 927 231, 928 231, 929 232, 930 232, 931 232, 932 232, 933 233, 934 233, 935 233, 936 233, 937 234, 938 234, 939 234, 940 234, 941 235, 942 235, 943 235, 944 235, 945 236, 946 236, 947 236, 948 236, 949 237, 950 237, 951 237, 952 237, 953 238, 954 238, 955 238, 956 238, 957 239, 958 239, 959 239, 960 239, 961 240, 962 240, 963 240, 964 240, 965 241, 966 241, 967 241, 968 241, 969 242, 970 242, 971 242, 972 242, 973 243, 974 243, 975 243, 976 243, 977 244, 978 244, 979 244, 980 244, 981 245, 982 245, 983 245, 984 245, 985 246, 986 246, 987 246, 988 246, 989 247, 990 247, 991 247, 992 247, 993 248, 994 248, 995 248, 996 248, 997 249, 998 249, 999 249, 1000 249)\n</div>",
       "datasetInfos": [],
       "metadata": {
        "isDbfsCommandResult": false
       },
       "removedWidgets": [],
       "type": "html"
      }
     },
     "output_type": "display_data"
    }
   ],
   "source": [
    "%scala\n",
    "a.mapPartitionsWithIndex(pra).collect"
   ]
  },
  {
   "cell_type": "code",
   "execution_count": 0,
   "metadata": {
    "application/vnd.databricks.v1+cell": {
     "cellMetadata": {
      "byteLimit": 2048000,
      "rowLimit": 10000
     },
     "inputWidgets": {},
     "nuid": "bbc3b5d6-feb2-477c-9698-4d8a5825749a",
     "showTitle": false,
     "title": ""
    }
   },
   "outputs": [
    {
     "output_type": "display_data",
     "data": {
      "text/html": [
       "<style scoped>\n",
       "  .ansiout {\n",
       "    display: block;\n",
       "    unicode-bidi: embed;\n",
       "    white-space: pre-wrap;\n",
       "    word-wrap: break-word;\n",
       "    word-break: break-all;\n",
       "    font-family: \"Menlo\", \"Monaco\", \"Consolas\", \"Ubuntu Mono\", \"Source Code Pro\", monospace;\n",
       "    font-size: 13px;\n",
       "    color: #555;\n",
       "    margin-left: 4px;\n",
       "    line-height: 19px;\n",
       "  }\n",
       "</style>\n",
       "<div class=\"ansiout\">isprime: (num: Int)Boolean\n",
       "</div>"
      ]
     },
     "metadata": {
      "application/vnd.databricks.v1+output": {
       "addedWidgets": {},
       "arguments": {},
       "data": "<div class=\"ansiout\">isprime: (num: Int)Boolean\n</div>",
       "datasetInfos": [],
       "metadata": {
        "isDbfsCommandResult": false
       },
       "removedWidgets": [],
       "type": "html"
      }
     },
     "output_type": "display_data"
    }
   ],
   "source": [
    "%scala\n",
    "def isprime(num:Int): Boolean = \n",
    "  (num > 1) && !(2 to scala.math.sqrt(num).toInt).exists(x => num % x == 0)"
   ]
  },
  {
   "cell_type": "code",
   "execution_count": 0,
   "metadata": {
    "application/vnd.databricks.v1+cell": {
     "cellMetadata": {
      "byteLimit": 2048000,
      "rowLimit": 10000
     },
     "inputWidgets": {},
     "nuid": "218f2943-a58f-47ca-9889-23def3698df7",
     "showTitle": false,
     "title": ""
    }
   },
   "outputs": [
    {
     "output_type": "display_data",
     "data": {
      "text/html": [
       "<style scoped>\n",
       "  .ansiout {\n",
       "    display: block;\n",
       "    unicode-bidi: embed;\n",
       "    white-space: pre-wrap;\n",
       "    word-wrap: break-word;\n",
       "    word-break: break-all;\n",
       "    font-family: \"Menlo\", \"Monaco\", \"Consolas\", \"Ubuntu Mono\", \"Source Code Pro\", monospace;\n",
       "    font-size: 13px;\n",
       "    color: #555;\n",
       "    margin-left: 4px;\n",
       "    line-height: 19px;\n",
       "  }\n",
       "</style>\n",
       "<div class=\"ansiout\">Sum of odd is: 165.0\n",
       "Sum of even is: 220.0\n",
       "Sum of prime is: 87.0\n",
       "a: org.apache.spark.rdd.RDD[Int] = ParallelCollectionRDD[10] at parallelize at command-604135039501957:1\n",
       "even: Double = 220.0\n",
       "odd: Double = 165.0\n",
       "prime: Double = 87.0\n",
       "</div>"
      ]
     },
     "metadata": {
      "application/vnd.databricks.v1+output": {
       "addedWidgets": {},
       "arguments": {},
       "data": "<div class=\"ansiout\">Sum of odd is: 165.0\nSum of even is: 220.0\nSum of prime is: 87.0\na: org.apache.spark.rdd.RDD[Int] = ParallelCollectionRDD[10] at parallelize at command-604135039501957:1\neven: Double = 220.0\nodd: Double = 165.0\nprime: Double = 87.0\n</div>",
       "datasetInfos": [],
       "metadata": {
        "isDbfsCommandResult": false
       },
       "removedWidgets": [],
       "type": "html"
      }
     },
     "output_type": "display_data"
    }
   ],
   "source": [
    "%scala\n",
    "val a = sc.parallelize(1 to 10)\n",
    "val even = a.filter(x => (x % 2 == 0)).map(x => x*x).sum\n",
    "val odd = a.filter(x => (x % 2 != 0)).map(x => x*x).sum\n",
    "val prime = a.filter(isprime).map(x => x*x).sum\n",
    "\n",
    "println(\"Sum of odd is: \" + odd)\n",
    "println(\"Sum of even is: \" + even)\n",
    "println(\"Sum of prime is: \" + prime)"
   ]
  },
  {
   "cell_type": "code",
   "execution_count": 0,
   "metadata": {
    "application/vnd.databricks.v1+cell": {
     "cellMetadata": {
      "byteLimit": 2048000,
      "rowLimit": 10000
     },
     "inputWidgets": {},
     "nuid": "6def4b28-0e18-4b6f-9eac-7af09e91b144",
     "showTitle": false,
     "title": ""
    }
   },
   "outputs": [
    {
     "output_type": "display_data",
     "data": {
      "text/html": [
       "<style scoped>\n",
       "  .ansiout {\n",
       "    display: block;\n",
       "    unicode-bidi: embed;\n",
       "    white-space: pre-wrap;\n",
       "    word-wrap: break-word;\n",
       "    word-break: break-all;\n",
       "    font-family: \"Menlo\", \"Monaco\", \"Consolas\", \"Ubuntu Mono\", \"Source Code Pro\", monospace;\n",
       "    font-size: 13px;\n",
       "    color: #555;\n",
       "    margin-left: 4px;\n",
       "    line-height: 19px;\n",
       "  }\n",
       "</style>\n",
       "<div class=\"ansiout\">res8: Array[Int] = Array(2, 3, 5, 7)\n",
       "</div>"
      ]
     },
     "metadata": {
      "application/vnd.databricks.v1+output": {
       "addedWidgets": {},
       "arguments": {},
       "data": "<div class=\"ansiout\">res8: Array[Int] = Array(2, 3, 5, 7)\n</div>",
       "datasetInfos": [],
       "metadata": {
        "isDbfsCommandResult": false
       },
       "removedWidgets": [],
       "type": "html"
      }
     },
     "output_type": "display_data"
    }
   ],
   "source": [
    "%scala\n",
    "a.filter(isprime).collect"
   ]
  },
  {
   "cell_type": "code",
   "execution_count": 0,
   "metadata": {
    "application/vnd.databricks.v1+cell": {
     "cellMetadata": {
      "byteLimit": 2048000,
      "rowLimit": 10000
     },
     "inputWidgets": {},
     "nuid": "495852af-0205-4a9f-a52d-034f9c3fd724",
     "showTitle": false,
     "title": ""
    }
   },
   "outputs": [
    {
     "output_type": "display_data",
     "data": {
      "text/html": [
       "<style scoped>\n",
       "  .ansiout {\n",
       "    display: block;\n",
       "    unicode-bidi: embed;\n",
       "    white-space: pre-wrap;\n",
       "    word-wrap: break-word;\n",
       "    word-break: break-all;\n",
       "    font-family: \"Menlo\", \"Monaco\", \"Consolas\", \"Ubuntu Mono\", \"Source Code Pro\", monospace;\n",
       "    font-size: 13px;\n",
       "    color: #555;\n",
       "    margin-left: 4px;\n",
       "    line-height: 19px;\n",
       "  }\n",
       "</style>\n",
       "<div class=\"ansiout\">accum: org.apache.spark.util.LongAccumulator = LongAccumulator(id: 357, name: Some(Sum), value: 36)\n",
       "</div>"
      ]
     },
     "metadata": {
      "application/vnd.databricks.v1+output": {
       "addedWidgets": {},
       "arguments": {},
       "data": "<div class=\"ansiout\">accum: org.apache.spark.util.LongAccumulator = LongAccumulator(id: 357, name: Some(Sum), value: 36)\n</div>",
       "datasetInfos": [],
       "metadata": {
        "isDbfsCommandResult": false
       },
       "removedWidgets": [],
       "type": "html"
      }
     },
     "output_type": "display_data"
    }
   ],
   "source": [
    "%scala\n",
    "val accum = sc.longAccumulator(\"Sum\")\n",
    "sc.parallelize(Array(1,2,3,4,5,6,7,8)).foreach(x=>accum.add(x))"
   ]
  },
  {
   "cell_type": "code",
   "execution_count": 0,
   "metadata": {
    "application/vnd.databricks.v1+cell": {
     "cellMetadata": {},
     "inputWidgets": {},
     "nuid": "9f7fad52-a256-48db-862c-740bbf211baf",
     "showTitle": false,
     "title": ""
    }
   },
   "outputs": [],
   "source": []
  }
 ],
 "metadata": {
  "application/vnd.databricks.v1+notebook": {
   "dashboards": [],
   "language": "python",
   "notebookMetadata": {
    "pythonIndentUnit": 4
   },
   "notebookName": "Exp-3(Parallelization and RDD)",
   "widgets": {}
  }
 },
 "nbformat": 4,
 "nbformat_minor": 0
}
