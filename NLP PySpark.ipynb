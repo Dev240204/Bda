{
 "cells": [
  {
   "cell_type": "code",
   "execution_count": 0,
   "metadata": {
    "application/vnd.databricks.v1+cell": {
     "cellMetadata": {
      "byteLimit": 2048000,
      "rowLimit": 10000
     },
     "inputWidgets": {},
     "nuid": "a9d9da67-0108-4cc0-93b0-0c6f0526a6e7",
     "showTitle": false,
     "title": ""
    }
   },
   "outputs": [],
   "source": [
    "#create spark session\n",
    "from pyspark.sql import SparkSession\n",
    "\n",
    "spark=SparkSession.builder.appName('nlp').getOrCreate()"
   ]
  },
  {
   "cell_type": "code",
   "execution_count": 0,
   "metadata": {
    "application/vnd.databricks.v1+cell": {
     "cellMetadata": {
      "byteLimit": 2048000,
      "rowLimit": 10000
     },
     "inputWidgets": {},
     "nuid": "1ccb7935-2cd1-48b2-b0d5-26af1cdcc7fe",
     "showTitle": false,
     "title": ""
    }
   },
   "outputs": [],
   "source": [
    "df=spark.createDataFrame([(1,'I really liked this movie'),\n",
    "                         (2,'I would recommend this movie to my friends'),\n",
    "                         (3,'movie was alright but acting was horrible'),\n",
    "                         (4,'I am never watching that movie ever again')],\n",
    "                        ['user_id','review'])"
   ]
  },
  {
   "cell_type": "code",
   "execution_count": 0,
   "metadata": {
    "application/vnd.databricks.v1+cell": {
     "cellMetadata": {
      "byteLimit": 2048000,
      "rowLimit": 10000
     },
     "inputWidgets": {},
     "nuid": "fd01d5ae-8806-4081-8d9b-ed016761a845",
     "showTitle": false,
     "title": ""
    }
   },
   "outputs": [
    {
     "output_type": "stream",
     "name": "stdout",
     "output_type": "stream",
     "text": [
      "+-------+------------------------------------------+\n|user_id|review                                    |\n+-------+------------------------------------------+\n|1      |I really liked this movie                 |\n|2      |I would recommend this movie to my friends|\n|3      |movie was alright but acting was horrible |\n|4      |I am never watching that movie ever again |\n+-------+------------------------------------------+\n\n"
     ]
    }
   ],
   "source": [
    "df.show(5,False)"
   ]
  },
  {
   "cell_type": "code",
   "execution_count": 0,
   "metadata": {
    "application/vnd.databricks.v1+cell": {
     "cellMetadata": {
      "byteLimit": 2048000,
      "rowLimit": 10000
     },
     "inputWidgets": {},
     "nuid": "aef9c7ad-7f2b-48f3-9378-b2d811b9b3d6",
     "showTitle": false,
     "title": ""
    }
   },
   "outputs": [],
   "source": [
    "# Tokenization"
   ]
  },
  {
   "cell_type": "code",
   "execution_count": 0,
   "metadata": {
    "application/vnd.databricks.v1+cell": {
     "cellMetadata": {
      "byteLimit": 2048000,
      "rowLimit": 10000
     },
     "inputWidgets": {},
     "nuid": "73ca0674-4d59-4009-828d-72d23e6f67ed",
     "showTitle": false,
     "title": ""
    }
   },
   "outputs": [],
   "source": [
    "from pyspark.ml.feature import Tokenizer"
   ]
  },
  {
   "cell_type": "code",
   "execution_count": 0,
   "metadata": {
    "application/vnd.databricks.v1+cell": {
     "cellMetadata": {
      "byteLimit": 2048000,
      "rowLimit": 10000
     },
     "inputWidgets": {},
     "nuid": "3d9aa5c0-64f0-4adb-ad5f-5ef8ed5c451d",
     "showTitle": false,
     "title": ""
    }
   },
   "outputs": [],
   "source": [
    "tokenization=Tokenizer(inputCol='review',outputCol='tokens')"
   ]
  },
  {
   "cell_type": "code",
   "execution_count": 0,
   "metadata": {
    "application/vnd.databricks.v1+cell": {
     "cellMetadata": {
      "byteLimit": 2048000,
      "rowLimit": 10000
     },
     "inputWidgets": {},
     "nuid": "27203517-734f-442b-a0fb-175bab846513",
     "showTitle": false,
     "title": ""
    }
   },
   "outputs": [],
   "source": [
    "tokenized_df=tokenization.transform(df)"
   ]
  },
  {
   "cell_type": "code",
   "execution_count": 0,
   "metadata": {
    "application/vnd.databricks.v1+cell": {
     "cellMetadata": {
      "byteLimit": 2048000,
      "rowLimit": 10000
     },
     "inputWidgets": {},
     "nuid": "09bd9da2-bf91-4324-aa97-c6c18556ed22",
     "showTitle": false,
     "title": ""
    }
   },
   "outputs": [
    {
     "output_type": "stream",
     "name": "stdout",
     "output_type": "stream",
     "text": [
      "+-------+------------------------------------------+---------------------------------------------------+\n|user_id|review                                    |tokens                                             |\n+-------+------------------------------------------+---------------------------------------------------+\n|1      |I really liked this movie                 |[i, really, liked, this, movie]                    |\n|2      |I would recommend this movie to my friends|[i, would, recommend, this, movie, to, my, friends]|\n|3      |movie was alright but acting was horrible |[movie, was, alright, but, acting, was, horrible]  |\n|4      |I am never watching that movie ever again |[i, am, never, watching, that, movie, ever, again] |\n+-------+------------------------------------------+---------------------------------------------------+\n\n"
     ]
    }
   ],
   "source": [
    "tokenized_df.show(4,False)"
   ]
  },
  {
   "cell_type": "code",
   "execution_count": 0,
   "metadata": {
    "application/vnd.databricks.v1+cell": {
     "cellMetadata": {
      "byteLimit": 2048000,
      "rowLimit": 10000
     },
     "inputWidgets": {},
     "nuid": "08d12bd7-31aa-47c8-bf0b-11b409830fe9",
     "showTitle": false,
     "title": ""
    }
   },
   "outputs": [],
   "source": [
    "# stopwords removal "
   ]
  },
  {
   "cell_type": "code",
   "execution_count": 0,
   "metadata": {
    "application/vnd.databricks.v1+cell": {
     "cellMetadata": {
      "byteLimit": 2048000,
      "rowLimit": 10000
     },
     "inputWidgets": {},
     "nuid": "0c0d50ee-7698-46f5-8bb4-6402ceb986c4",
     "showTitle": false,
     "title": ""
    }
   },
   "outputs": [],
   "source": [
    "from pyspark.ml.feature import StopWordsRemover"
   ]
  },
  {
   "cell_type": "code",
   "execution_count": 0,
   "metadata": {
    "application/vnd.databricks.v1+cell": {
     "cellMetadata": {
      "byteLimit": 2048000,
      "rowLimit": 10000
     },
     "inputWidgets": {},
     "nuid": "5f808c81-d53e-4087-ab12-0597191a5d9a",
     "showTitle": false,
     "title": ""
    }
   },
   "outputs": [],
   "source": [
    "stopword_removal=StopWordsRemover(inputCol='tokens',outputCol='refined_tokens')"
   ]
  },
  {
   "cell_type": "code",
   "execution_count": 0,
   "metadata": {
    "application/vnd.databricks.v1+cell": {
     "cellMetadata": {
      "byteLimit": 2048000,
      "rowLimit": 10000
     },
     "inputWidgets": {},
     "nuid": "92a4dc8f-4722-4686-b515-194b48d742e7",
     "showTitle": false,
     "title": ""
    }
   },
   "outputs": [],
   "source": [
    "refined_df=stopword_removal.transform(tokenized_df)"
   ]
  },
  {
   "cell_type": "code",
   "execution_count": 0,
   "metadata": {
    "application/vnd.databricks.v1+cell": {
     "cellMetadata": {
      "byteLimit": 2048000,
      "rowLimit": 10000
     },
     "inputWidgets": {},
     "nuid": "35669dcd-ca2e-48f6-b680-50d107152c7c",
     "showTitle": false,
     "title": ""
    }
   },
   "outputs": [
    {
     "output_type": "stream",
     "name": "stdout",
     "output_type": "stream",
     "text": [
      "+-------+---------------------------------------------------+----------------------------------+\n|user_id|tokens                                             |refined_tokens                    |\n+-------+---------------------------------------------------+----------------------------------+\n|1      |[i, really, liked, this, movie]                    |[really, liked, movie]            |\n|2      |[i, would, recommend, this, movie, to, my, friends]|[recommend, movie, friends]       |\n|3      |[movie, was, alright, but, acting, was, horrible]  |[movie, alright, acting, horrible]|\n|4      |[i, am, never, watching, that, movie, ever, again] |[never, watching, movie, ever]    |\n+-------+---------------------------------------------------+----------------------------------+\n\n"
     ]
    }
   ],
   "source": [
    "refined_df.select(['user_id','tokens','refined_tokens']).show(10,False)"
   ]
  },
  {
   "cell_type": "code",
   "execution_count": 0,
   "metadata": {
    "application/vnd.databricks.v1+cell": {
     "cellMetadata": {
      "byteLimit": 2048000,
      "rowLimit": 10000
     },
     "inputWidgets": {},
     "nuid": "72bc549b-983b-468b-bbcf-c77b2b52b2f8",
     "showTitle": false,
     "title": ""
    }
   },
   "outputs": [],
   "source": [
    "# Count Vectorizer"
   ]
  },
  {
   "cell_type": "code",
   "execution_count": 0,
   "metadata": {
    "application/vnd.databricks.v1+cell": {
     "cellMetadata": {
      "byteLimit": 2048000,
      "rowLimit": 10000
     },
     "inputWidgets": {},
     "nuid": "8c8572e4-e36a-4e04-9dd9-5bf955b842a0",
     "showTitle": false,
     "title": ""
    }
   },
   "outputs": [],
   "source": [
    "from pyspark.ml.feature import CountVectorizer"
   ]
  },
  {
   "cell_type": "code",
   "execution_count": 0,
   "metadata": {
    "application/vnd.databricks.v1+cell": {
     "cellMetadata": {
      "byteLimit": 2048000,
      "rowLimit": 10000
     },
     "inputWidgets": {},
     "nuid": "130b9239-b763-435c-a43f-105b2fa50f7c",
     "showTitle": false,
     "title": ""
    }
   },
   "outputs": [],
   "source": [
    "count_vec=CountVectorizer(inputCol='refined_tokens',outputCol='features')"
   ]
  },
  {
   "cell_type": "code",
   "execution_count": 0,
   "metadata": {
    "application/vnd.databricks.v1+cell": {
     "cellMetadata": {
      "byteLimit": 2048000,
      "rowLimit": 10000
     },
     "inputWidgets": {},
     "nuid": "958508a6-5cb8-4fd7-9917-91b74fde0509",
     "showTitle": false,
     "title": ""
    }
   },
   "outputs": [],
   "source": [
    "cv_df=count_vec.fit(refined_df).transform(refined_df)"
   ]
  },
  {
   "cell_type": "code",
   "execution_count": 0,
   "metadata": {
    "application/vnd.databricks.v1+cell": {
     "cellMetadata": {
      "byteLimit": 2048000,
      "rowLimit": 10000
     },
     "inputWidgets": {},
     "nuid": "a3cd3190-d2c6-4ee9-b816-68c47897d6e7",
     "showTitle": false,
     "title": ""
    }
   },
   "outputs": [
    {
     "output_type": "stream",
     "name": "stdout",
     "output_type": "stream",
     "text": [
      "+-------+----------------------------------+---------------------------------+\n|user_id|refined_tokens                    |features                         |\n+-------+----------------------------------+---------------------------------+\n|1      |[really, liked, movie]            |(11,[0,3,5],[1.0,1.0,1.0])       |\n|2      |[recommend, movie, friends]       |(11,[0,7,8],[1.0,1.0,1.0])       |\n|3      |[movie, alright, acting, horrible]|(11,[0,2,4,9],[1.0,1.0,1.0,1.0]) |\n|4      |[never, watching, movie, ever]    |(11,[0,1,6,10],[1.0,1.0,1.0,1.0])|\n+-------+----------------------------------+---------------------------------+\n\n"
     ]
    }
   ],
   "source": [
    "cv_df.select(['user_id','refined_tokens','features']).show(4,False)"
   ]
  },
  {
   "cell_type": "code",
   "execution_count": 0,
   "metadata": {
    "application/vnd.databricks.v1+cell": {
     "cellMetadata": {
      "byteLimit": 2048000,
      "rowLimit": 10000
     },
     "inputWidgets": {},
     "nuid": "a2a7be87-0348-4e9e-bc95-1b0695582afc",
     "showTitle": false,
     "title": ""
    }
   },
   "outputs": [
    {
     "output_type": "stream",
     "name": "stdout",
     "output_type": "stream",
     "text": [
      "Out[96]: ['movie',\n 'ever',\n 'liked',\n 'really',\n 'friends',\n 'recommend',\n 'watching',\n 'horrible',\n 'never',\n 'acting',\n 'alright']"
     ]
    }
   ],
   "source": [
    "count_vec.fit(refined_df).vocabulary"
   ]
  },
  {
   "cell_type": "code",
   "execution_count": 0,
   "metadata": {
    "application/vnd.databricks.v1+cell": {
     "cellMetadata": {
      "byteLimit": 2048000,
      "rowLimit": 10000
     },
     "inputWidgets": {},
     "nuid": "219630da-01f6-4ecc-9be9-396c4fb51a50",
     "showTitle": false,
     "title": ""
    }
   },
   "outputs": [],
   "source": [
    "#Tf-idf"
   ]
  },
  {
   "cell_type": "code",
   "execution_count": 0,
   "metadata": {
    "application/vnd.databricks.v1+cell": {
     "cellMetadata": {
      "byteLimit": 2048000,
      "rowLimit": 10000
     },
     "inputWidgets": {},
     "nuid": "a9c16f19-48f2-46e0-9263-b7724efd5719",
     "showTitle": false,
     "title": ""
    }
   },
   "outputs": [],
   "source": [
    "from pyspark.ml.feature import HashingTF,IDF"
   ]
  },
  {
   "cell_type": "code",
   "execution_count": 0,
   "metadata": {
    "application/vnd.databricks.v1+cell": {
     "cellMetadata": {
      "byteLimit": 2048000,
      "rowLimit": 10000
     },
     "inputWidgets": {},
     "nuid": "b4fa27d0-cd35-4f3d-9516-1063f913495f",
     "showTitle": false,
     "title": ""
    }
   },
   "outputs": [],
   "source": [
    "hashing_vec=HashingTF(inputCol='refined_tokens',outputCol='tf_features')"
   ]
  },
  {
   "cell_type": "code",
   "execution_count": 0,
   "metadata": {
    "application/vnd.databricks.v1+cell": {
     "cellMetadata": {
      "byteLimit": 2048000,
      "rowLimit": 10000
     },
     "inputWidgets": {},
     "nuid": "80280472-b9d4-4671-8636-807776c6fced",
     "showTitle": false,
     "title": ""
    }
   },
   "outputs": [],
   "source": [
    "hashing_df=hashing_vec.transform(refined_df)"
   ]
  },
  {
   "cell_type": "code",
   "execution_count": 0,
   "metadata": {
    "application/vnd.databricks.v1+cell": {
     "cellMetadata": {
      "byteLimit": 2048000,
      "rowLimit": 10000
     },
     "inputWidgets": {},
     "nuid": "b44133a4-4988-4ba5-96d9-78b031088dd3",
     "showTitle": false,
     "title": ""
    }
   },
   "outputs": [
    {
     "output_type": "stream",
     "name": "stdout",
     "output_type": "stream",
     "text": [
      "+-------+----------------------------------+-------------------------------------------------------+\n|user_id|refined_tokens                    |tf_features                                            |\n+-------+----------------------------------+-------------------------------------------------------+\n|1      |[really, liked, movie]            |(262144,[99172,210223,229264],[1.0,1.0,1.0])           |\n|2      |[recommend, movie, friends]       |(262144,[68228,130047,210223],[1.0,1.0,1.0])           |\n|3      |[movie, alright, acting, horrible]|(262144,[95685,171118,210223,236263],[1.0,1.0,1.0,1.0])|\n|4      |[never, watching, movie, ever]    |(262144,[63139,113673,203802,210223],[1.0,1.0,1.0,1.0])|\n+-------+----------------------------------+-------------------------------------------------------+\n\n"
     ]
    }
   ],
   "source": [
    "hashing_df.select(['user_id','refined_tokens','tf_features']).show(4,False)"
   ]
  },
  {
   "cell_type": "code",
   "execution_count": 0,
   "metadata": {
    "application/vnd.databricks.v1+cell": {
     "cellMetadata": {
      "byteLimit": 2048000,
      "rowLimit": 10000
     },
     "inputWidgets": {},
     "nuid": "da573bdb-711a-48d3-9a0d-773b854b7ac9",
     "showTitle": false,
     "title": ""
    }
   },
   "outputs": [],
   "source": [
    "tf_idf_vec=IDF(inputCol='tf_features',outputCol='tf_idf_features')"
   ]
  },
  {
   "cell_type": "code",
   "execution_count": 0,
   "metadata": {
    "application/vnd.databricks.v1+cell": {
     "cellMetadata": {
      "byteLimit": 2048000,
      "rowLimit": 10000
     },
     "inputWidgets": {},
     "nuid": "f2617b14-f0c8-4a52-af31-39036619ee71",
     "showTitle": false,
     "title": ""
    }
   },
   "outputs": [],
   "source": [
    "tf_idf_df=tf_idf_vec.fit(hashing_df).transform(hashing_df)"
   ]
  },
  {
   "cell_type": "code",
   "execution_count": 0,
   "metadata": {
    "application/vnd.databricks.v1+cell": {
     "cellMetadata": {
      "byteLimit": 2048000,
      "rowLimit": 10000
     },
     "inputWidgets": {},
     "nuid": "fa03bd54-706d-43ce-805c-564d2113e4c5",
     "showTitle": false,
     "title": ""
    }
   },
   "outputs": [
    {
     "output_type": "stream",
     "name": "stdout",
     "output_type": "stream",
     "text": [
      "+-------+----------------------------------------------------------------------------------------------------+\n|user_id|tf_idf_features                                                                                     |\n+-------+----------------------------------------------------------------------------------------------------+\n|1      |(262144,[99172,210223,229264],[0.9162907318741551,0.0,0.9162907318741551])                          |\n|2      |(262144,[68228,130047,210223],[0.9162907318741551,0.9162907318741551,0.0])                          |\n|3      |(262144,[95685,171118,210223,236263],[0.9162907318741551,0.9162907318741551,0.0,0.9162907318741551])|\n|4      |(262144,[63139,113673,203802,210223],[0.9162907318741551,0.9162907318741551,0.9162907318741551,0.0])|\n+-------+----------------------------------------------------------------------------------------------------+\n\n"
     ]
    }
   ],
   "source": [
    "tf_idf_df.select(['user_id','tf_idf_features']).show(4,False)"
   ]
  },
  {
   "cell_type": "code",
   "execution_count": 0,
   "metadata": {
    "application/vnd.databricks.v1+cell": {
     "cellMetadata": {
      "byteLimit": 2048000,
      "rowLimit": 10000
     },
     "inputWidgets": {},
     "nuid": "572e950c-f1dd-498e-a2ba-94d843ed55c0",
     "showTitle": false,
     "title": ""
    }
   },
   "outputs": [],
   "source": [
    "# Classification "
   ]
  },
  {
   "cell_type": "code",
   "execution_count": 0,
   "metadata": {
    "application/vnd.databricks.v1+cell": {
     "cellMetadata": {
      "byteLimit": 2048000,
      "rowLimit": 10000
     },
     "inputWidgets": {},
     "nuid": "2b530741-c55b-4b85-a02d-7dc0fadc64d6",
     "showTitle": false,
     "title": ""
    }
   },
   "outputs": [],
   "source": [
    "text_df=spark.read.csv('dbfs:/FileStore/tables/Movie_reviews.csv',inferSchema=True,header=True,sep=',')"
   ]
  },
  {
   "cell_type": "code",
   "execution_count": 0,
   "metadata": {
    "application/vnd.databricks.v1+cell": {
     "cellMetadata": {
      "byteLimit": 2048000,
      "rowLimit": 10000
     },
     "inputWidgets": {},
     "nuid": "9b7e399f-a67f-4dfb-916f-26ef43fb1bb7",
     "showTitle": false,
     "title": ""
    }
   },
   "outputs": [
    {
     "output_type": "stream",
     "name": "stdout",
     "output_type": "stream",
     "text": [
      "root\n |-- Review: string (nullable = true)\n |-- Sentiment: string (nullable = true)\n\n"
     ]
    }
   ],
   "source": [
    "text_df.printSchema()"
   ]
  },
  {
   "cell_type": "code",
   "execution_count": 0,
   "metadata": {
    "application/vnd.databricks.v1+cell": {
     "cellMetadata": {
      "byteLimit": 2048000,
      "rowLimit": 10000
     },
     "inputWidgets": {},
     "nuid": "6ebc3e18-5f50-4e2e-a251-be7d8e38e568",
     "showTitle": false,
     "title": ""
    }
   },
   "outputs": [
    {
     "output_type": "stream",
     "name": "stdout",
     "output_type": "stream",
     "text": [
      "Out[108]: 7087"
     ]
    }
   ],
   "source": [
    "text_df.count()"
   ]
  },
  {
   "cell_type": "code",
   "execution_count": 0,
   "metadata": {
    "application/vnd.databricks.v1+cell": {
     "cellMetadata": {
      "byteLimit": 2048000,
      "rowLimit": 10000
     },
     "inputWidgets": {},
     "nuid": "c64d0a96-848c-4731-9104-b9b8855b63a0",
     "showTitle": false,
     "title": ""
    }
   },
   "outputs": [],
   "source": [
    "from pyspark.sql.functions import rand "
   ]
  },
  {
   "cell_type": "code",
   "execution_count": 0,
   "metadata": {
    "application/vnd.databricks.v1+cell": {
     "cellMetadata": {
      "byteLimit": 2048000,
      "rowLimit": 10000
     },
     "inputWidgets": {},
     "nuid": "e9c5c426-7452-4a86-ac29-21819c5fdb6d",
     "showTitle": false,
     "title": ""
    }
   },
   "outputs": [
    {
     "output_type": "stream",
     "name": "stdout",
     "output_type": "stream",
     "text": [
      "+------------------------------------------------------------------------+---------+\n|Review                                                                  |Sentiment|\n+------------------------------------------------------------------------+---------+\n|I love Harry Potter.                                                    |1        |\n|I really hate the Da Vinci Code...                                      |0        |\n|Da Vinci Code sucks.                                                    |0        |\n|Da Vinci Code sucks.                                                    |0        |\n|friday hung out with kelsie and we went and saw The Da Vinci Code SUCKED|0        |\n|Love luv lubb the Da Vinci Code!                                        |1        |\n|I love Harry Potter.                                                    |1        |\n|I am going to start reading the Harry Potter series again because that i|1        |\n|I, too, like Harry Potter..                                             |1        |\n|So as felicia's mom is cleaning the table, felicia grabs my keys and we |1        |\n+------------------------------------------------------------------------+---------+\nonly showing top 10 rows\n\n"
     ]
    }
   ],
   "source": [
    "text_df.orderBy(rand()).show(10,False)"
   ]
  },
  {
   "cell_type": "code",
   "execution_count": 0,
   "metadata": {
    "application/vnd.databricks.v1+cell": {
     "cellMetadata": {
      "byteLimit": 2048000,
      "rowLimit": 10000
     },
     "inputWidgets": {},
     "nuid": "1958b1a6-76ed-4f86-9672-a2dda0ea37d3",
     "showTitle": false,
     "title": ""
    }
   },
   "outputs": [],
   "source": [
    "text_df=text_df.filter(((text_df.Sentiment =='1') | (text_df.Sentiment =='0')))"
   ]
  },
  {
   "cell_type": "code",
   "execution_count": 0,
   "metadata": {
    "application/vnd.databricks.v1+cell": {
     "cellMetadata": {
      "byteLimit": 2048000,
      "rowLimit": 10000
     },
     "inputWidgets": {},
     "nuid": "162f67f3-7fd1-4779-94e6-e67b1fff6b80",
     "showTitle": false,
     "title": ""
    }
   },
   "outputs": [
    {
     "output_type": "stream",
     "name": "stdout",
     "output_type": "stream",
     "text": [
      "Out[112]: 6990"
     ]
    }
   ],
   "source": [
    "text_df.count()"
   ]
  },
  {
   "cell_type": "code",
   "execution_count": 0,
   "metadata": {
    "application/vnd.databricks.v1+cell": {
     "cellMetadata": {
      "byteLimit": 2048000,
      "rowLimit": 10000
     },
     "inputWidgets": {},
     "nuid": "3508d6b0-f397-403f-9f45-00b77b090b7a",
     "showTitle": false,
     "title": ""
    }
   },
   "outputs": [
    {
     "output_type": "stream",
     "name": "stdout",
     "output_type": "stream",
     "text": [
      "+---------+-----+\n|Sentiment|count|\n+---------+-----+\n|        0| 3081|\n|        1| 3909|\n+---------+-----+\n\n"
     ]
    }
   ],
   "source": [
    "text_df.groupBy('Sentiment').count().show()"
   ]
  },
  {
   "cell_type": "code",
   "execution_count": 0,
   "metadata": {
    "application/vnd.databricks.v1+cell": {
     "cellMetadata": {
      "byteLimit": 2048000,
      "rowLimit": 10000
     },
     "inputWidgets": {},
     "nuid": "18d6221d-b213-4a07-8e67-db0aa50b6e87",
     "showTitle": false,
     "title": ""
    }
   },
   "outputs": [
    {
     "output_type": "stream",
     "name": "stdout",
     "output_type": "stream",
     "text": [
      "root\n |-- Review: string (nullable = true)\n |-- Sentiment: string (nullable = true)\n\n"
     ]
    }
   ],
   "source": [
    "text_df.printSchema()"
   ]
  },
  {
   "cell_type": "code",
   "execution_count": 0,
   "metadata": {
    "application/vnd.databricks.v1+cell": {
     "cellMetadata": {
      "byteLimit": 2048000,
      "rowLimit": 10000
     },
     "inputWidgets": {},
     "nuid": "3ee982c9-120d-4804-9ab6-cb27ca8f4eec",
     "showTitle": false,
     "title": ""
    }
   },
   "outputs": [],
   "source": [
    "text_df = text_df.withColumn(\"Label\", text_df.Sentiment.cast('float')).drop('Sentiment')"
   ]
  },
  {
   "cell_type": "code",
   "execution_count": 0,
   "metadata": {
    "application/vnd.databricks.v1+cell": {
     "cellMetadata": {
      "byteLimit": 2048000,
      "rowLimit": 10000
     },
     "inputWidgets": {},
     "nuid": "89f9be72-99d7-451c-bc63-fda096824c23",
     "showTitle": false,
     "title": ""
    }
   },
   "outputs": [
    {
     "output_type": "stream",
     "name": "stdout",
     "output_type": "stream",
     "text": [
      "+---------------------------------------------------------------------+-----+\n|Review                                                               |Label|\n+---------------------------------------------------------------------+-----+\n|Harry Potter dragged Draco Malfoy ’ s trousers down past his hips and|0.0  |\n|man i loved brokeback mountain!                                      |1.0  |\n|Mission Impossible 3 was excellent.                                  |1.0  |\n|Ok brokeback mountain is such a horrible movie.                      |0.0  |\n|I love Brokeback Mountain.                                           |1.0  |\n|i love mission impossible!!!!!!!!!!!..                               |1.0  |\n|we're gonna like watch Mission Impossible or Hoot.(                  |1.0  |\n|Da Vinci Code sucks be...                                            |0.0  |\n|dudeee i LOVED brokeback mountain!!!!                                |1.0  |\n|Brokeback Mountain was an awesome movie.                             |1.0  |\n+---------------------------------------------------------------------+-----+\nonly showing top 10 rows\n\n"
     ]
    }
   ],
   "source": [
    "text_df.orderBy(rand()).show(10,False)"
   ]
  },
  {
   "cell_type": "code",
   "execution_count": 0,
   "metadata": {
    "application/vnd.databricks.v1+cell": {
     "cellMetadata": {
      "byteLimit": 2048000,
      "rowLimit": 10000
     },
     "inputWidgets": {},
     "nuid": "89e034b4-103c-4514-8933-2848e6377367",
     "showTitle": false,
     "title": ""
    }
   },
   "outputs": [
    {
     "output_type": "stream",
     "name": "stdout",
     "output_type": "stream",
     "text": [
      "+-----+-----+\n|label|count|\n+-----+-----+\n|  1.0| 3909|\n|  0.0| 3081|\n+-----+-----+\n\n"
     ]
    }
   ],
   "source": [
    "text_df.groupBy('label').count().show()"
   ]
  },
  {
   "cell_type": "code",
   "execution_count": 0,
   "metadata": {
    "application/vnd.databricks.v1+cell": {
     "cellMetadata": {
      "byteLimit": 2048000,
      "rowLimit": 10000
     },
     "inputWidgets": {},
     "nuid": "9c6d7db2-1284-40b3-b0a5-9a9abd2baf63",
     "showTitle": false,
     "title": ""
    }
   },
   "outputs": [],
   "source": [
    "# Add length to the dataframe\n",
    "from pyspark.sql.functions import length"
   ]
  },
  {
   "cell_type": "code",
   "execution_count": 0,
   "metadata": {
    "application/vnd.databricks.v1+cell": {
     "cellMetadata": {
      "byteLimit": 2048000,
      "rowLimit": 10000
     },
     "inputWidgets": {},
     "nuid": "1afd5cf0-993e-4ee9-84d9-6ae6b44867ff",
     "showTitle": false,
     "title": ""
    }
   },
   "outputs": [],
   "source": [
    "text_df=text_df.withColumn('length',length(text_df['Review']))"
   ]
  },
  {
   "cell_type": "code",
   "execution_count": 0,
   "metadata": {
    "application/vnd.databricks.v1+cell": {
     "cellMetadata": {
      "byteLimit": 2048000,
      "rowLimit": 10000
     },
     "inputWidgets": {},
     "nuid": "1f86f9ef-dc51-4f6a-821b-229c8b03701c",
     "showTitle": false,
     "title": ""
    }
   },
   "outputs": [
    {
     "output_type": "stream",
     "name": "stdout",
     "output_type": "stream",
     "text": [
      "+------------------------------------------------------------------------+-----+------+\n|Review                                                                  |Label|length|\n+------------------------------------------------------------------------+-----+------+\n|My dad's being stupid about brokeback mountain...                       |0.0  |49    |\n|Is it just me, or does Harry Potter suck?...                            |0.0  |44    |\n|Brokeback Mountain was an AWESOME movie.                                |1.0  |40    |\n|I, too, like Harry Potter..                                             |1.0  |27    |\n|The Da Vinci Code was absolutely AWESOME!                               |1.0  |41    |\n|by the way, the Da Vinci Code sucked, just letting you know...          |0.0  |62    |\n|I am the only person in the world who thought Brokeback Mountain sucked.|0.0  |72    |\n|I hate Harry Potter, it's retarted, gay and stupid and there's only one |0.0  |71    |\n|Is it just me, or does Harry Potter suck?...                            |0.0  |44    |\n|I love Harry Potter.                                                    |1.0  |20    |\n+------------------------------------------------------------------------+-----+------+\nonly showing top 10 rows\n\n"
     ]
    }
   ],
   "source": [
    "text_df.orderBy(rand()).show(10,False)"
   ]
  },
  {
   "cell_type": "code",
   "execution_count": 0,
   "metadata": {
    "application/vnd.databricks.v1+cell": {
     "cellMetadata": {
      "byteLimit": 2048000,
      "rowLimit": 10000
     },
     "inputWidgets": {},
     "nuid": "07b9ef69-f908-4451-ad2f-50ac08504f7d",
     "showTitle": false,
     "title": ""
    }
   },
   "outputs": [
    {
     "output_type": "stream",
     "name": "stdout",
     "output_type": "stream",
     "text": [
      "+-----+-----------------+\n|Label|      avg(Length)|\n+-----+-----------------+\n|  1.0|47.61882834484523|\n|  0.0|50.95845504706264|\n+-----+-----------------+\n\n"
     ]
    }
   ],
   "source": [
    "text_df.groupBy('Label').agg({'Length':'mean'}).show()"
   ]
  },
  {
   "cell_type": "code",
   "execution_count": 0,
   "metadata": {
    "application/vnd.databricks.v1+cell": {
     "cellMetadata": {
      "byteLimit": 2048000,
      "rowLimit": 10000
     },
     "inputWidgets": {},
     "nuid": "bd16bb73-425c-49bf-b29b-ecfdd6b007af",
     "showTitle": false,
     "title": ""
    }
   },
   "outputs": [],
   "source": [
    "# Data Cleaning"
   ]
  },
  {
   "cell_type": "code",
   "execution_count": 0,
   "metadata": {
    "application/vnd.databricks.v1+cell": {
     "cellMetadata": {
      "byteLimit": 2048000,
      "rowLimit": 10000
     },
     "inputWidgets": {},
     "nuid": "6d60edc3-5698-4fc3-ba96-537b7b3406c7",
     "showTitle": false,
     "title": ""
    }
   },
   "outputs": [],
   "source": [
    "tokenization=Tokenizer(inputCol='Review',outputCol='tokens')"
   ]
  },
  {
   "cell_type": "code",
   "execution_count": 0,
   "metadata": {
    "application/vnd.databricks.v1+cell": {
     "cellMetadata": {
      "byteLimit": 2048000,
      "rowLimit": 10000
     },
     "inputWidgets": {},
     "nuid": "20299047-3d9e-47a8-9ab0-d61d57391672",
     "showTitle": false,
     "title": ""
    }
   },
   "outputs": [],
   "source": [
    "tokenized_df=tokenization.transform(text_df)"
   ]
  },
  {
   "cell_type": "code",
   "execution_count": 0,
   "metadata": {
    "application/vnd.databricks.v1+cell": {
     "cellMetadata": {
      "byteLimit": 2048000,
      "rowLimit": 10000
     },
     "inputWidgets": {},
     "nuid": "36f35b33-8f9d-4e17-924c-e900f2997c9e",
     "showTitle": false,
     "title": ""
    }
   },
   "outputs": [
    {
     "output_type": "stream",
     "name": "stdout",
     "output_type": "stream",
     "text": [
      "+--------------------+-----+------+--------------------+\n|              Review|Label|length|              tokens|\n+--------------------+-----+------+--------------------+\n|The Da Vinci Code...|  1.0|    39|[the, da, vinci, ...|\n|this was the firs...|  1.0|    72|[this, was, the, ...|\n|i liked the Da Vi...|  1.0|    32|[i, liked, the, d...|\n|i liked the Da Vi...|  1.0|    32|[i, liked, the, d...|\n|I liked the Da Vi...|  1.0|    72|[i, liked, the, d...|\n|that's not even a...|  1.0|    72|[that's, not, eve...|\n|I loved the Da Vi...|  1.0|    72|[i, loved, the, d...|\n|i thought da vinc...|  1.0|    57|[i, thought, da, ...|\n|The Da Vinci Code...|  1.0|    45|[the, da, vinci, ...|\n|I thought the Da ...|  1.0|    51|[i, thought, the,...|\n|The Da Vinci Code...|  1.0|    68|[the, da, vinci, ...|\n|The Da Vinci Code...|  1.0|    62|[the, da, vinci, ...|\n|then I turn on th...|  1.0|    66|[then, i, turn, o...|\n|The Da Vinci Code...|  1.0|    34|[the, da, vinci, ...|\n|i love da vinci c...|  1.0|    24|[i, love, da, vin...|\n|i loved da vinci ...|  1.0|    23|[i, loved, da, vi...|\n|TO NIGHT:: THE DA...|  1.0|    52|[to, night::, the...|\n|THE DA VINCI CODE...|  1.0|    40|[the, da, vinci, ...|\n|Thing is, I enjoy...|  1.0|    38|[thing, is,, i, e...|\n|very da vinci cod...|  1.0|    38|[very, da, vinci,...|\n+--------------------+-----+------+--------------------+\nonly showing top 20 rows\n\n"
     ]
    }
   ],
   "source": [
    "tokenized_df.show()"
   ]
  },
  {
   "cell_type": "code",
   "execution_count": 0,
   "metadata": {
    "application/vnd.databricks.v1+cell": {
     "cellMetadata": {
      "byteLimit": 2048000,
      "rowLimit": 10000
     },
     "inputWidgets": {},
     "nuid": "7c2377c4-bdee-4839-a3a5-7e27e4aeeff9",
     "showTitle": false,
     "title": ""
    }
   },
   "outputs": [],
   "source": [
    "stopword_removal=StopWordsRemover(inputCol='tokens',outputCol='refined_tokens')"
   ]
  },
  {
   "cell_type": "code",
   "execution_count": 0,
   "metadata": {
    "application/vnd.databricks.v1+cell": {
     "cellMetadata": {
      "byteLimit": 2048000,
      "rowLimit": 10000
     },
     "inputWidgets": {},
     "nuid": "65917d20-5c89-4ad5-8ae4-bbb14abbc24f",
     "showTitle": false,
     "title": ""
    }
   },
   "outputs": [],
   "source": [
    "refined_text_df=stopword_removal.transform(tokenized_df)"
   ]
  },
  {
   "cell_type": "code",
   "execution_count": 0,
   "metadata": {
    "application/vnd.databricks.v1+cell": {
     "cellMetadata": {
      "byteLimit": 2048000,
      "rowLimit": 10000
     },
     "inputWidgets": {},
     "nuid": "d5373d51-9c88-40cf-9dad-91c2c9248932",
     "showTitle": false,
     "title": ""
    }
   },
   "outputs": [
    {
     "output_type": "stream",
     "name": "stdout",
     "output_type": "stream",
     "text": [
      "+--------------------+-----+------+--------------------+--------------------+\n|              Review|Label|length|              tokens|      refined_tokens|\n+--------------------+-----+------+--------------------+--------------------+\n|The Da Vinci Code...|  1.0|    39|[the, da, vinci, ...|[da, vinci, code,...|\n|this was the firs...|  1.0|    72|[this, was, the, ...|[first, clive, cu...|\n|i liked the Da Vi...|  1.0|    32|[i, liked, the, d...|[liked, da, vinci...|\n|i liked the Da Vi...|  1.0|    32|[i, liked, the, d...|[liked, da, vinci...|\n|I liked the Da Vi...|  1.0|    72|[i, liked, the, d...|[liked, da, vinci...|\n|that's not even a...|  1.0|    72|[that's, not, eve...|[even, exaggerati...|\n|I loved the Da Vi...|  1.0|    72|[i, loved, the, d...|[loved, da, vinci...|\n|i thought da vinc...|  1.0|    57|[i, thought, da, ...|[thought, da, vin...|\n|The Da Vinci Code...|  1.0|    45|[the, da, vinci, ...|[da, vinci, code,...|\n|I thought the Da ...|  1.0|    51|[i, thought, the,...|[thought, da, vin...|\n|The Da Vinci Code...|  1.0|    68|[the, da, vinci, ...|[da, vinci, code,...|\n|The Da Vinci Code...|  1.0|    62|[the, da, vinci, ...|[da, vinci, code,...|\n|then I turn on th...|  1.0|    66|[then, i, turn, o...|[turn, light, rad...|\n|The Da Vinci Code...|  1.0|    34|[the, da, vinci, ...|[da, vinci, code,...|\n|i love da vinci c...|  1.0|    24|[i, love, da, vin...|[love, da, vinci,...|\n|i loved da vinci ...|  1.0|    23|[i, loved, da, vi...|[loved, da, vinci...|\n|TO NIGHT:: THE DA...|  1.0|    52|[to, night::, the...|[night::, da, vin...|\n|THE DA VINCI CODE...|  1.0|    40|[the, da, vinci, ...|[da, vinci, code,...|\n|Thing is, I enjoy...|  1.0|    38|[thing, is,, i, e...|[thing, is,, enjo...|\n|very da vinci cod...|  1.0|    38|[very, da, vinci,...|[da, vinci, code,...|\n+--------------------+-----+------+--------------------+--------------------+\nonly showing top 20 rows\n\n"
     ]
    }
   ],
   "source": [
    "refined_text_df.show()"
   ]
  },
  {
   "cell_type": "code",
   "execution_count": 0,
   "metadata": {
    "application/vnd.databricks.v1+cell": {
     "cellMetadata": {
      "byteLimit": 2048000,
      "rowLimit": 10000
     },
     "inputWidgets": {},
     "nuid": "0149698c-d480-4a74-afa6-3aa3a519950f",
     "showTitle": false,
     "title": ""
    }
   },
   "outputs": [],
   "source": [
    "from pyspark.sql.functions import udf\n",
    "from pyspark.sql.types import IntegerType\n",
    "from pyspark.sql.functions import *"
   ]
  },
  {
   "cell_type": "code",
   "execution_count": 0,
   "metadata": {
    "application/vnd.databricks.v1+cell": {
     "cellMetadata": {
      "byteLimit": 2048000,
      "rowLimit": 10000
     },
     "inputWidgets": {},
     "nuid": "2c787e89-c4c0-4b31-9c2d-ac815e5ab6b4",
     "showTitle": false,
     "title": ""
    }
   },
   "outputs": [],
   "source": [
    "len_udf = udf(lambda s: len(s), IntegerType())\n",
    "\n",
    "refined_text_df = refined_text_df.withColumn(\"token_count\", len_udf(col('refined_tokens')))\n"
   ]
  },
  {
   "cell_type": "code",
   "execution_count": 0,
   "metadata": {
    "application/vnd.databricks.v1+cell": {
     "cellMetadata": {
      "byteLimit": 2048000,
      "rowLimit": 10000
     },
     "inputWidgets": {},
     "nuid": "ecbb0681-06e2-4584-9753-fcd4a56944ca",
     "showTitle": false,
     "title": ""
    }
   },
   "outputs": [
    {
     "output_type": "stream",
     "name": "stdout",
     "output_type": "stream",
     "text": [
      "+--------------------+-----+------+--------------------+--------------------+-----------+\n|              Review|Label|length|              tokens|      refined_tokens|token_count|\n+--------------------+-----+------+--------------------+--------------------+-----------+\n|I love The Da Vin...|  1.0|    27|[i, love, the, da...|[love, da, vinci,...|          4|\n|BROKEBACK MOUNTAI...|  0.0|    27|[brokeback, mount...|[brokeback, mount...|          3|\n|Mission Impossibl...|  1.0|    60|[mission, impossi...|[mission, impossi...|          8|\n|I love Brokeback ...|  1.0|    26|[i, love, brokeba...|[love, brokeback,...|          3|\n|Is it just me, or...|  0.0|    44|[is, it, just, me...|[me,, harry, pott...|          4|\n|So Brokeback Moun...|  0.0|    44|[so, brokeback, m...|[brokeback, mount...|          4|\n|dudeee i LOVED br...|  1.0|    37|[dudeee, i, loved...|[dudeee, loved, b...|          4|\n|The Da Vinci Code...|  1.0|    30|[the, da, vinci, ...|[da, vinci, code,...|          4|\n|Then snuck into B...|  0.0|    72|[then, snuck, int...|[snuck, brokeback...|          5|\n|i love kirsten / ...|  1.0|    72|[i, love, kirsten...|[love, kirsten, /...|         11|\n+--------------------+-----+------+--------------------+--------------------+-----------+\nonly showing top 10 rows\n\n"
     ]
    }
   ],
   "source": [
    "refined_text_df.orderBy(rand()).show(10)"
   ]
  },
  {
   "cell_type": "code",
   "execution_count": 0,
   "metadata": {
    "application/vnd.databricks.v1+cell": {
     "cellMetadata": {
      "byteLimit": 2048000,
      "rowLimit": 10000
     },
     "inputWidgets": {},
     "nuid": "0e1fcfee-642c-4d84-82c7-74ed748f0412",
     "showTitle": false,
     "title": ""
    }
   },
   "outputs": [],
   "source": [
    "count_vec=CountVectorizer(inputCol='refined_tokens',outputCol='features')"
   ]
  },
  {
   "cell_type": "code",
   "execution_count": 0,
   "metadata": {
    "application/vnd.databricks.v1+cell": {
     "cellMetadata": {
      "byteLimit": 2048000,
      "rowLimit": 10000
     },
     "inputWidgets": {},
     "nuid": "68548628-3b2c-4445-a9f2-bb238cc00aa1",
     "showTitle": false,
     "title": ""
    }
   },
   "outputs": [],
   "source": [
    "cv_text_df=count_vec.fit(refined_text_df).transform(refined_text_df)"
   ]
  },
  {
   "cell_type": "code",
   "execution_count": 0,
   "metadata": {
    "application/vnd.databricks.v1+cell": {
     "cellMetadata": {
      "byteLimit": 2048000,
      "rowLimit": 10000
     },
     "inputWidgets": {},
     "nuid": "707bfe01-c35f-4ada-9de7-8bfe90a0033c",
     "showTitle": false,
     "title": ""
    }
   },
   "outputs": [
    {
     "output_type": "stream",
     "name": "stdout",
     "output_type": "stream",
     "text": [
      "+--------------------+-----------+--------------------+-----+\n|      refined_tokens|token_count|            features|Label|\n+--------------------+-----------+--------------------+-----+\n|[da, vinci, code,...|          5|(2302,[0,1,4,43,2...|  1.0|\n|[first, clive, cu...|          9|(2302,[11,51,229,...|  1.0|\n|[liked, da, vinci...|          5|(2302,[0,1,4,52,3...|  1.0|\n|[liked, da, vinci...|          5|(2302,[0,1,4,52,3...|  1.0|\n|[liked, da, vinci...|          8|(2302,[0,1,4,52,7...|  1.0|\n|[even, exaggerati...|          6|(2302,[46,229,272...|  1.0|\n|[loved, da, vinci...|          8|(2302,[0,1,22,30,...|  1.0|\n|[thought, da, vin...|          7|(2302,[0,1,4,228,...|  1.0|\n|[da, vinci, code,...|          6|(2302,[0,1,4,33,2...|  1.0|\n|[thought, da, vin...|          7|(2302,[0,1,4,223,...|  1.0|\n+--------------------+-----------+--------------------+-----+\nonly showing top 10 rows\n\n"
     ]
    }
   ],
   "source": [
    "cv_text_df.select(['refined_tokens','token_count','features','Label']).show(10)"
   ]
  },
  {
   "cell_type": "code",
   "execution_count": 0,
   "metadata": {
    "application/vnd.databricks.v1+cell": {
     "cellMetadata": {
      "byteLimit": 2048000,
      "rowLimit": 10000
     },
     "inputWidgets": {},
     "nuid": "cb092778-7e1c-42a8-8753-82af9917b29c",
     "showTitle": false,
     "title": ""
    }
   },
   "outputs": [],
   "source": [
    "#select data for building model\n",
    "model_text_df=cv_text_df.select(['features','token_count','Label'])"
   ]
  },
  {
   "cell_type": "code",
   "execution_count": 0,
   "metadata": {
    "application/vnd.databricks.v1+cell": {
     "cellMetadata": {
      "byteLimit": 2048000,
      "rowLimit": 10000
     },
     "inputWidgets": {},
     "nuid": "7a83652b-7364-4152-b500-987c24b94871",
     "showTitle": false,
     "title": ""
    }
   },
   "outputs": [],
   "source": [
    "from pyspark.ml.feature import VectorAssembler"
   ]
  },
  {
   "cell_type": "code",
   "execution_count": 0,
   "metadata": {
    "application/vnd.databricks.v1+cell": {
     "cellMetadata": {
      "byteLimit": 2048000,
      "rowLimit": 10000
     },
     "inputWidgets": {},
     "nuid": "9ddcdcdb-1bfc-4db0-8789-42c7fe8d9d5a",
     "showTitle": false,
     "title": ""
    }
   },
   "outputs": [],
   "source": [
    "df_assembler = VectorAssembler(inputCols=['features','token_count'],outputCol='features_vec')\n",
    "model_text_df = df_assembler.transform(model_text_df)"
   ]
  },
  {
   "cell_type": "code",
   "execution_count": 0,
   "metadata": {
    "application/vnd.databricks.v1+cell": {
     "cellMetadata": {
      "byteLimit": 2048000,
      "rowLimit": 10000
     },
     "inputWidgets": {},
     "nuid": "fd85c86b-e096-47ba-8e0d-14a1f469f225",
     "showTitle": false,
     "title": ""
    }
   },
   "outputs": [
    {
     "output_type": "stream",
     "name": "stdout",
     "output_type": "stream",
     "text": [
      "root\n |-- features: vector (nullable = true)\n |-- token_count: integer (nullable = true)\n |-- Label: float (nullable = true)\n |-- features_vec: vector (nullable = true)\n\n"
     ]
    }
   ],
   "source": [
    "model_text_df.printSchema()"
   ]
  },
  {
   "cell_type": "code",
   "execution_count": 0,
   "metadata": {
    "application/vnd.databricks.v1+cell": {
     "cellMetadata": {
      "byteLimit": 2048000,
      "rowLimit": 10000
     },
     "inputWidgets": {},
     "nuid": "836b04ff-066b-4ecd-85b0-58c491a28f89",
     "showTitle": false,
     "title": ""
    }
   },
   "outputs": [],
   "source": [
    "from pyspark.ml.classification import LogisticRegression"
   ]
  },
  {
   "cell_type": "code",
   "execution_count": 0,
   "metadata": {
    "application/vnd.databricks.v1+cell": {
     "cellMetadata": {
      "byteLimit": 2048000,
      "rowLimit": 10000
     },
     "inputWidgets": {},
     "nuid": "4f612dcb-9893-4e75-b88a-310c7cd259c9",
     "showTitle": false,
     "title": ""
    }
   },
   "outputs": [],
   "source": [
    "#split the data \n",
    "training_df,test_df=model_text_df.randomSplit([0.75,0.25])"
   ]
  },
  {
   "cell_type": "code",
   "execution_count": 0,
   "metadata": {
    "application/vnd.databricks.v1+cell": {
     "cellMetadata": {
      "byteLimit": 2048000,
      "rowLimit": 10000
     },
     "inputWidgets": {},
     "nuid": "80f5b6b1-1b55-4c26-b32e-1d444de356c2",
     "showTitle": false,
     "title": ""
    }
   },
   "outputs": [
    {
     "output_type": "stream",
     "name": "stdout",
     "output_type": "stream",
     "text": [
      "+-----+-----+\n|Label|count|\n+-----+-----+\n|  1.0| 2954|\n|  0.0| 2315|\n+-----+-----+\n\n"
     ]
    }
   ],
   "source": [
    "training_df.groupBy('Label').count().show()"
   ]
  },
  {
   "cell_type": "code",
   "execution_count": 0,
   "metadata": {
    "application/vnd.databricks.v1+cell": {
     "cellMetadata": {
      "byteLimit": 2048000,
      "rowLimit": 10000
     },
     "inputWidgets": {},
     "nuid": "87fd31fb-9fb9-4839-88b5-8dab37e00761",
     "showTitle": false,
     "title": ""
    }
   },
   "outputs": [
    {
     "output_type": "stream",
     "name": "stdout",
     "output_type": "stream",
     "text": [
      "+-----+-----+\n|Label|count|\n+-----+-----+\n|  1.0|  955|\n|  0.0|  766|\n+-----+-----+\n\n"
     ]
    }
   ],
   "source": [
    "test_df.groupBy('Label').count().show()"
   ]
  },
  {
   "cell_type": "code",
   "execution_count": 0,
   "metadata": {
    "application/vnd.databricks.v1+cell": {
     "cellMetadata": {
      "byteLimit": 2048000,
      "rowLimit": 10000
     },
     "inputWidgets": {},
     "nuid": "91273fdd-d05d-446a-8567-00128d9ea82f",
     "showTitle": false,
     "title": ""
    }
   },
   "outputs": [],
   "source": [
    "log_reg=LogisticRegression(featuresCol='features_vec',labelCol='Label').fit(training_df)"
   ]
  },
  {
   "cell_type": "code",
   "execution_count": 0,
   "metadata": {
    "application/vnd.databricks.v1+cell": {
     "cellMetadata": {
      "byteLimit": 2048000,
      "rowLimit": 10000
     },
     "inputWidgets": {},
     "nuid": "ddaa699c-0306-4f82-911f-664792005160",
     "showTitle": false,
     "title": ""
    }
   },
   "outputs": [],
   "source": [
    "results=log_reg.evaluate(test_df).predictions"
   ]
  },
  {
   "cell_type": "code",
   "execution_count": 0,
   "metadata": {
    "application/vnd.databricks.v1+cell": {
     "cellMetadata": {
      "byteLimit": 2048000,
      "rowLimit": 10000
     },
     "inputWidgets": {},
     "nuid": "a8880671-d965-4f01-93da-1de701817b86",
     "showTitle": false,
     "title": ""
    }
   },
   "outputs": [
    {
     "output_type": "stream",
     "name": "stdout",
     "output_type": "stream",
     "text": [
      "+--------------------+-----------+-----+--------------------+--------------------+--------------------+----------+\n|            features|token_count|Label|        features_vec|       rawPrediction|         probability|prediction|\n+--------------------+-----------+-----+--------------------+--------------------+--------------------+----------+\n|(2302,[0,1,4,5,91...|          9|  1.0|(2303,[0,1,4,5,91...|[-7.9353484422111...|[3.57739229770268...|       1.0|\n|(2302,[0,1,4,10,2...|          7|  0.0|(2303,[0,1,4,10,2...|[25.0754395925269...|[0.99999999998712...|       0.0|\n|(2302,[0,1,4,11,1...|          6|  0.0|(2303,[0,1,4,11,1...|[20.3890298053025...|[0.99999999860312...|       0.0|\n|(2302,[0,1,4,12,1...|          5|  1.0|(2303,[0,1,4,12,1...|[-18.281416025188...|[1.14942832176987...|       1.0|\n|(2302,[0,1,4,12,1...|          5|  1.0|(2303,[0,1,4,12,1...|[-18.281416025188...|[1.14942832176987...|       1.0|\n|(2302,[0,1,4,12,3...|          5|  1.0|(2303,[0,1,4,12,3...|[-16.800362564402...|[5.05469810687797...|       1.0|\n|(2302,[0,1,4,12,3...|          5|  1.0|(2303,[0,1,4,12,3...|[-16.800362564402...|[5.05469810687797...|       1.0|\n|(2302,[0,1,4,12,3...|          5|  1.0|(2303,[0,1,4,12,3...|[-16.800362564402...|[5.05469810687797...|       1.0|\n|(2302,[0,1,4,12,3...|          5|  1.0|(2303,[0,1,4,12,3...|[-16.800362564402...|[5.05469810687797...|       1.0|\n|(2302,[0,1,4,12,3...|          5|  1.0|(2303,[0,1,4,12,3...|[-16.800362564402...|[5.05469810687797...|       1.0|\n|(2302,[0,1,4,12,3...|          5|  1.0|(2303,[0,1,4,12,3...|[-16.800362564402...|[5.05469810687797...|       1.0|\n|(2302,[0,1,4,12,3...|          5|  1.0|(2303,[0,1,4,12,3...|[-16.800362564402...|[5.05469810687797...|       1.0|\n|(2302,[0,1,4,12,3...|          5|  1.0|(2303,[0,1,4,12,3...|[-16.800362564402...|[5.05469810687797...|       1.0|\n|(2302,[0,1,4,12,3...|          5|  1.0|(2303,[0,1,4,12,3...|[-16.800362564402...|[5.05469810687797...|       1.0|\n|(2302,[0,1,4,12,3...|          5|  1.0|(2303,[0,1,4,12,3...|[-16.800362564402...|[5.05469810687797...|       1.0|\n|(2302,[0,1,4,12,3...|          5|  1.0|(2303,[0,1,4,12,3...|[-16.800362564402...|[5.05469810687797...|       1.0|\n|(2302,[0,1,4,12,3...|          5|  1.0|(2303,[0,1,4,12,3...|[-16.800362564402...|[5.05469810687797...|       1.0|\n|(2302,[0,1,4,12,3...|          5|  1.0|(2303,[0,1,4,12,3...|[-16.800362564402...|[5.05469810687797...|       1.0|\n|(2302,[0,1,4,12,3...|          5|  1.0|(2303,[0,1,4,12,3...|[-16.800362564402...|[5.05469810687797...|       1.0|\n|(2302,[0,1,4,12,3...|          5|  1.0|(2303,[0,1,4,12,3...|[-16.800362564402...|[5.05469810687797...|       1.0|\n+--------------------+-----------+-----+--------------------+--------------------+--------------------+----------+\nonly showing top 20 rows\n\n"
     ]
    }
   ],
   "source": [
    "results.show()"
   ]
  },
  {
   "cell_type": "code",
   "execution_count": 0,
   "metadata": {
    "application/vnd.databricks.v1+cell": {
     "cellMetadata": {
      "byteLimit": 2048000,
      "rowLimit": 10000
     },
     "inputWidgets": {},
     "nuid": "f3cd89d2-e6cd-4dd4-99f6-ea847b189b6c",
     "showTitle": false,
     "title": ""
    }
   },
   "outputs": [],
   "source": [
    "from pyspark.ml.evaluation import BinaryClassificationEvaluator\n"
   ]
  },
  {
   "cell_type": "code",
   "execution_count": 0,
   "metadata": {
    "application/vnd.databricks.v1+cell": {
     "cellMetadata": {
      "byteLimit": 2048000,
      "rowLimit": 10000
     },
     "inputWidgets": {},
     "nuid": "f8202aff-ab01-44e5-a00e-3de83cca19a0",
     "showTitle": false,
     "title": ""
    }
   },
   "outputs": [],
   "source": [
    "#confusion matrix\n",
    "true_postives = results[(results.Label == 1) & (results.prediction == 1)].count()\n",
    "true_negatives = results[(results.Label == 0) & (results.prediction == 0)].count()\n",
    "false_positives = results[(results.Label == 0) & (results.prediction == 1)].count()\n",
    "false_negatives = results[(results.Label == 1) & (results.prediction == 0)].count()"
   ]
  },
  {
   "cell_type": "code",
   "execution_count": 0,
   "metadata": {
    "application/vnd.databricks.v1+cell": {
     "cellMetadata": {
      "byteLimit": 2048000,
      "rowLimit": 10000
     },
     "inputWidgets": {},
     "nuid": "b3c86771-1d91-490a-908f-702e4f3d0738",
     "showTitle": false,
     "title": ""
    }
   },
   "outputs": [
    {
     "output_type": "stream",
     "name": "stdout",
     "output_type": "stream",
     "text": [
      "0.9926701570680628\n"
     ]
    }
   ],
   "source": [
    "recall = float(true_postives)/(true_postives + false_negatives)\n",
    "print(recall)"
   ]
  },
  {
   "cell_type": "code",
   "execution_count": 0,
   "metadata": {
    "application/vnd.databricks.v1+cell": {
     "cellMetadata": {
      "byteLimit": 2048000,
      "rowLimit": 10000
     },
     "inputWidgets": {},
     "nuid": "21b39388-8d90-4468-97f4-91b472ba426c",
     "showTitle": false,
     "title": ""
    }
   },
   "outputs": [
    {
     "output_type": "stream",
     "name": "stdout",
     "output_type": "stream",
     "text": [
      "0.977319587628866\n"
     ]
    }
   ],
   "source": [
    "precision = float(true_postives) / (true_postives + false_positives)\n",
    "print(precision)"
   ]
  },
  {
   "cell_type": "code",
   "execution_count": 0,
   "metadata": {
    "application/vnd.databricks.v1+cell": {
     "cellMetadata": {
      "byteLimit": 2048000,
      "rowLimit": 10000
     },
     "inputWidgets": {},
     "nuid": "bb5c8163-6d6a-407b-bec0-198841fdc174",
     "showTitle": false,
     "title": ""
    }
   },
   "outputs": [
    {
     "output_type": "stream",
     "name": "stdout",
     "output_type": "stream",
     "text": [
      "0.9831493317838466\n"
     ]
    }
   ],
   "source": [
    "accuracy=float((true_postives+true_negatives) /(results.count()))\n",
    "print(accuracy)"
   ]
  },
  {
   "cell_type": "code",
   "execution_count": 0,
   "metadata": {
    "application/vnd.databricks.v1+cell": {
     "cellMetadata": {},
     "inputWidgets": {},
     "nuid": "c88adb71-71ea-437c-af7e-83778fa4485d",
     "showTitle": false,
     "title": ""
    }
   },
   "outputs": [],
   "source": []
  },
  {
   "cell_type": "code",
   "execution_count": 0,
   "metadata": {
    "application/vnd.databricks.v1+cell": {
     "cellMetadata": {},
     "inputWidgets": {},
     "nuid": "0a4fdbf6-9866-40e9-a456-9d6c0f646164",
     "showTitle": false,
     "title": ""
    }
   },
   "outputs": [],
   "source": []
  }
 ],
 "metadata": {
  "application/vnd.databricks.v1+notebook": {
   "dashboards": [],
   "language": "python",
   "notebookMetadata": {
    "pythonIndentUnit": 4
   },
   "notebookName": "NLP PySpark",
   "widgets": {}
  },
  "kernelspec": {
   "display_name": "Python 3",
   "language": "python",
   "name": "python3"
  },
  "language_info": {
   "codemirror_mode": {
    "name": "ipython",
    "version": 3
   },
   "file_extension": ".py",
   "mimetype": "text/x-python",
   "name": "python",
   "nbconvert_exporter": "python",
   "pygments_lexer": "ipython3",
   "version": "3.6.3"
  }
 },
 "nbformat": 4,
 "nbformat_minor": 0
}
